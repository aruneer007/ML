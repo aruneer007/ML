{
 "cells": [
  {
   "cell_type": "markdown",
   "metadata": {
    "id": "xaGc-zXpdjsw"
   },
   "source": [
    "# Digital content Management"
   ]
  },
  {
   "cell_type": "code",
   "execution_count": 1,
   "metadata": {
    "id": "J9mqOfOwA8t5"
   },
   "outputs": [],
   "source": [
    "import numpy as np \n",
    "import pandas as pd"
   ]
  },
  {
   "cell_type": "markdown",
   "metadata": {
    "id": "UR5dmeggeCQN"
   },
   "source": [
    "## Data loading and Data analysis"
   ]
  },
  {
   "cell_type": "code",
   "execution_count": 2,
   "metadata": {
    "id": "vJRHFDT4C4ro"
   },
   "outputs": [],
   "source": [
    "blog_df = pd.read_csv(\"/NLP/NLP_project_1/blogs/blogtext.csv\", nrows = 100000)"
   ]
  },
  {
   "cell_type": "code",
   "execution_count": 3,
   "metadata": {
    "colab": {
     "base_uri": "https://localhost:8080/"
    },
    "id": "e7yQ7JesC8jg",
    "outputId": "8d1a8b04-3b6f-4e40-bdd3-0133c600c154"
   },
   "outputs": [
    {
     "data": {
      "text/plain": [
       "(100000, 7)"
      ]
     },
     "execution_count": 3,
     "metadata": {},
     "output_type": "execute_result"
    }
   ],
   "source": [
    "blog_df.shape"
   ]
  },
  {
   "cell_type": "code",
   "execution_count": 4,
   "metadata": {
    "id": "bdmgKyOoDehE"
   },
   "outputs": [],
   "source": [
    "import pandas as pd\n",
    "import re\n",
    "\n",
    "from nltk.corpus import stopwords\n",
    "from sklearn.feature_extraction.text import CountVectorizer\n",
    "from sklearn.model_selection import train_test_split\n",
    "\n",
    "import warnings\n",
    "warnings.filterwarnings('ignore')\n",
    "\n",
    "import seaborn as sns\n",
    "import matplotlib.pyplot as plt\n",
    "%matplotlib inline"
   ]
  },
  {
   "cell_type": "code",
   "execution_count": 5,
   "metadata": {
    "colab": {
     "base_uri": "https://localhost:8080/",
     "height": 206
    },
    "id": "7Yo03DWADwhK",
    "outputId": "9c987ed3-4631-4f3c-a055-5815ac1cb719"
   },
   "outputs": [
    {
     "data": {
      "text/html": [
       "<div>\n",
       "<style scoped>\n",
       "    .dataframe tbody tr th:only-of-type {\n",
       "        vertical-align: middle;\n",
       "    }\n",
       "\n",
       "    .dataframe tbody tr th {\n",
       "        vertical-align: top;\n",
       "    }\n",
       "\n",
       "    .dataframe thead th {\n",
       "        text-align: right;\n",
       "    }\n",
       "</style>\n",
       "<table border=\"1\" class=\"dataframe\">\n",
       "  <thead>\n",
       "    <tr style=\"text-align: right;\">\n",
       "      <th></th>\n",
       "      <th>id</th>\n",
       "      <th>gender</th>\n",
       "      <th>age</th>\n",
       "      <th>topic</th>\n",
       "      <th>sign</th>\n",
       "      <th>date</th>\n",
       "      <th>text</th>\n",
       "    </tr>\n",
       "  </thead>\n",
       "  <tbody>\n",
       "    <tr>\n",
       "      <th>0</th>\n",
       "      <td>2059027</td>\n",
       "      <td>male</td>\n",
       "      <td>15</td>\n",
       "      <td>Student</td>\n",
       "      <td>Leo</td>\n",
       "      <td>14,May,2004</td>\n",
       "      <td>Info has been found (+/- 100 pages,...</td>\n",
       "    </tr>\n",
       "    <tr>\n",
       "      <th>1</th>\n",
       "      <td>2059027</td>\n",
       "      <td>male</td>\n",
       "      <td>15</td>\n",
       "      <td>Student</td>\n",
       "      <td>Leo</td>\n",
       "      <td>13,May,2004</td>\n",
       "      <td>These are the team members:   Drewe...</td>\n",
       "    </tr>\n",
       "    <tr>\n",
       "      <th>2</th>\n",
       "      <td>2059027</td>\n",
       "      <td>male</td>\n",
       "      <td>15</td>\n",
       "      <td>Student</td>\n",
       "      <td>Leo</td>\n",
       "      <td>12,May,2004</td>\n",
       "      <td>In het kader van kernfusie op aarde...</td>\n",
       "    </tr>\n",
       "    <tr>\n",
       "      <th>3</th>\n",
       "      <td>2059027</td>\n",
       "      <td>male</td>\n",
       "      <td>15</td>\n",
       "      <td>Student</td>\n",
       "      <td>Leo</td>\n",
       "      <td>12,May,2004</td>\n",
       "      <td>testing!!!  testing!!!</td>\n",
       "    </tr>\n",
       "    <tr>\n",
       "      <th>4</th>\n",
       "      <td>3581210</td>\n",
       "      <td>male</td>\n",
       "      <td>33</td>\n",
       "      <td>InvestmentBanking</td>\n",
       "      <td>Aquarius</td>\n",
       "      <td>11,June,2004</td>\n",
       "      <td>Thanks to Yahoo!'s Toolbar I can ...</td>\n",
       "    </tr>\n",
       "  </tbody>\n",
       "</table>\n",
       "</div>"
      ],
      "text/plain": [
       "        id gender  age              topic      sign          date  \\\n",
       "0  2059027   male   15            Student       Leo   14,May,2004   \n",
       "1  2059027   male   15            Student       Leo   13,May,2004   \n",
       "2  2059027   male   15            Student       Leo   12,May,2004   \n",
       "3  2059027   male   15            Student       Leo   12,May,2004   \n",
       "4  3581210   male   33  InvestmentBanking  Aquarius  11,June,2004   \n",
       "\n",
       "                                                text  \n",
       "0             Info has been found (+/- 100 pages,...  \n",
       "1             These are the team members:   Drewe...  \n",
       "2             In het kader van kernfusie op aarde...  \n",
       "3                   testing!!!  testing!!!            \n",
       "4               Thanks to Yahoo!'s Toolbar I can ...  "
      ]
     },
     "execution_count": 5,
     "metadata": {},
     "output_type": "execute_result"
    }
   ],
   "source": [
    "blog_df.head(5)"
   ]
  },
  {
   "cell_type": "code",
   "execution_count": 6,
   "metadata": {
    "colab": {
     "base_uri": "https://localhost:8080/",
     "height": 206
    },
    "id": "UOFkf905DyXQ",
    "outputId": "0eb62cf6-3b2c-41c6-c36f-c0fc8aab7ca2"
   },
   "outputs": [
    {
     "data": {
      "text/html": [
       "<div>\n",
       "<style scoped>\n",
       "    .dataframe tbody tr th:only-of-type {\n",
       "        vertical-align: middle;\n",
       "    }\n",
       "\n",
       "    .dataframe tbody tr th {\n",
       "        vertical-align: top;\n",
       "    }\n",
       "\n",
       "    .dataframe thead th {\n",
       "        text-align: right;\n",
       "    }\n",
       "</style>\n",
       "<table border=\"1\" class=\"dataframe\">\n",
       "  <thead>\n",
       "    <tr style=\"text-align: right;\">\n",
       "      <th></th>\n",
       "      <th>id</th>\n",
       "      <th>gender</th>\n",
       "      <th>age</th>\n",
       "      <th>topic</th>\n",
       "      <th>sign</th>\n",
       "      <th>date</th>\n",
       "      <th>text</th>\n",
       "    </tr>\n",
       "  </thead>\n",
       "  <tbody>\n",
       "    <tr>\n",
       "      <th>99995</th>\n",
       "      <td>1709399</td>\n",
       "      <td>male</td>\n",
       "      <td>27</td>\n",
       "      <td>Student</td>\n",
       "      <td>Virgo</td>\n",
       "      <td>18,September,2003</td>\n",
       "      <td>THE HINDU - 125 YEARS             ...</td>\n",
       "    </tr>\n",
       "    <tr>\n",
       "      <th>99996</th>\n",
       "      <td>1709399</td>\n",
       "      <td>male</td>\n",
       "      <td>27</td>\n",
       "      <td>Student</td>\n",
       "      <td>Virgo</td>\n",
       "      <td>16,September,2003</td>\n",
       "      <td>DILBERT &amp; IIT-ans                 ...</td>\n",
       "    </tr>\n",
       "    <tr>\n",
       "      <th>99997</th>\n",
       "      <td>1709399</td>\n",
       "      <td>male</td>\n",
       "      <td>27</td>\n",
       "      <td>Student</td>\n",
       "      <td>Virgo</td>\n",
       "      <td>12,September,2003</td>\n",
       "      <td>Case Study : How HP won $3 billion...</td>\n",
       "    </tr>\n",
       "    <tr>\n",
       "      <th>99998</th>\n",
       "      <td>1709399</td>\n",
       "      <td>male</td>\n",
       "      <td>27</td>\n",
       "      <td>Student</td>\n",
       "      <td>Virgo</td>\n",
       "      <td>09,September,2003</td>\n",
       "      <td>Championing Chennai               ...</td>\n",
       "    </tr>\n",
       "    <tr>\n",
       "      <th>99999</th>\n",
       "      <td>1709399</td>\n",
       "      <td>male</td>\n",
       "      <td>27</td>\n",
       "      <td>Student</td>\n",
       "      <td>Virgo</td>\n",
       "      <td>05,September,2003</td>\n",
       "      <td>WEEKEND                         It...</td>\n",
       "    </tr>\n",
       "  </tbody>\n",
       "</table>\n",
       "</div>"
      ],
      "text/plain": [
       "            id gender  age    topic   sign               date  \\\n",
       "99995  1709399   male   27  Student  Virgo  18,September,2003   \n",
       "99996  1709399   male   27  Student  Virgo  16,September,2003   \n",
       "99997  1709399   male   27  Student  Virgo  12,September,2003   \n",
       "99998  1709399   male   27  Student  Virgo  09,September,2003   \n",
       "99999  1709399   male   27  Student  Virgo  05,September,2003   \n",
       "\n",
       "                                                    text  \n",
       "99995              THE HINDU - 125 YEARS             ...  \n",
       "99996              DILBERT & IIT-ans                 ...  \n",
       "99997              Case Study : How HP won $3 billion...  \n",
       "99998              Championing Chennai               ...  \n",
       "99999              WEEKEND                         It...  "
      ]
     },
     "execution_count": 6,
     "metadata": {},
     "output_type": "execute_result"
    }
   ],
   "source": [
    "blog_df.tail(5)"
   ]
  },
  {
   "cell_type": "code",
   "execution_count": 7,
   "metadata": {
    "colab": {
     "base_uri": "https://localhost:8080/"
    },
    "id": "Xp6NrfZHD0oN",
    "outputId": "6d850b1d-7f57-417e-9867-0700a157ca81"
   },
   "outputs": [
    {
     "name": "stdout",
     "output_type": "stream",
     "text": [
      "<class 'pandas.core.frame.DataFrame'>\n",
      "RangeIndex: 100000 entries, 0 to 99999\n",
      "Data columns (total 7 columns):\n",
      " #   Column  Non-Null Count   Dtype \n",
      "---  ------  --------------   ----- \n",
      " 0   id      100000 non-null  int64 \n",
      " 1   gender  100000 non-null  object\n",
      " 2   age     100000 non-null  int64 \n",
      " 3   topic   100000 non-null  object\n",
      " 4   sign    100000 non-null  object\n",
      " 5   date    100000 non-null  object\n",
      " 6   text    100000 non-null  object\n",
      "dtypes: int64(2), object(5)\n",
      "memory usage: 5.3+ MB\n"
     ]
    }
   ],
   "source": [
    "blog_df.info()"
   ]
  },
  {
   "cell_type": "code",
   "execution_count": 8,
   "metadata": {
    "colab": {
     "base_uri": "https://localhost:8080/"
    },
    "id": "mU368AVND2vt",
    "outputId": "434cbd3f-b7ab-40b9-84d3-d07d5d088fdb"
   },
   "outputs": [
    {
     "data": {
      "text/plain": [
       "male      53358\n",
       "female    46642\n",
       "Name: gender, dtype: int64"
      ]
     },
     "execution_count": 8,
     "metadata": {},
     "output_type": "execute_result"
    }
   ],
   "source": [
    "blog_df.gender.value_counts()"
   ]
  },
  {
   "cell_type": "code",
   "execution_count": 9,
   "metadata": {
    "colab": {
     "base_uri": "https://localhost:8080/"
    },
    "id": "NHZBkFTPN-uV",
    "outputId": "ac84a9f5-b69f-4268-e889-292123794edf"
   },
   "outputs": [
    {
     "data": {
      "text/plain": [
       "Aries          10637\n",
       "Cancer          9253\n",
       "Gemini          9225\n",
       "Aquarius        9050\n",
       "Capricorn       8723\n",
       "Taurus          8530\n",
       "Leo             8230\n",
       "Pisces          7553\n",
       "Sagittarius     7366\n",
       "Libra           7250\n",
       "Virgo           7134\n",
       "Scorpio         7049\n",
       "Name: sign, dtype: int64"
      ]
     },
     "execution_count": 9,
     "metadata": {},
     "output_type": "execute_result"
    }
   ],
   "source": [
    "blog_df.sign.value_counts()"
   ]
  },
  {
   "cell_type": "code",
   "execution_count": 10,
   "metadata": {
    "colab": {
     "base_uri": "https://localhost:8080/",
     "height": 514
    },
    "id": "3pLyhMvDD-Fw",
    "outputId": "8d9d2f93-e5a7-4f42-b669-8c6838de7bf6"
   },
   "outputs": [
    {
     "data": {
      "text/plain": [
       "<AxesSubplot:xlabel='sign', ylabel='count'>"
      ]
     },
     "execution_count": 10,
     "metadata": {},
     "output_type": "execute_result"
    },
    {
     "data": {
      "image/png": "[encoded data removed]",
      "text/plain": [
       "<Figure size 1080x576 with 1 Axes>"
      ]
     },
     "metadata": {
      "needs_background": "light"
     },
     "output_type": "display_data"
    }
   ],
   "source": [
    "plt.figure(figsize=(15,8))\n",
    "sns.countplot(x='sign',data=blog_df)"
   ]
  },
  {
   "cell_type": "code",
   "execution_count": 11,
   "metadata": {
    "colab": {
     "base_uri": "https://localhost:8080/",
     "height": 514
    },
    "id": "LD5aXuCDkgdJ",
    "outputId": "8223eea2-efff-47f5-971b-41b63553310a"
   },
   "outputs": [
    {
     "data": {
      "text/plain": [
       "<AxesSubplot:xlabel='age', ylabel='count'>"
      ]
     },
     "execution_count": 11,
     "metadata": {},
     "output_type": "execute_result"
    },
    {
     "data": {
      "image/png": "[encoded data removed]",
      "text/plain": [
       "<Figure size 1080x576 with 1 Axes>"
      ]
     },
     "metadata": {
      "needs_background": "light"
     },
     "output_type": "display_data"
    }
   ],
   "source": [
    "plt.figure(figsize=(15,8))\n",
    "sns.countplot(x='age',data=blog_df)"
   ]
  },
  {
   "cell_type": "code",
   "execution_count": 12,
   "metadata": {},
   "outputs": [
    {
     "data": {
      "image/png": "[encoded data removed]",
      "text/plain": [
       "<Figure size 1080x576 with 1 Axes>"
      ]
     },
     "metadata": {
      "needs_background": "light"
     },
     "output_type": "display_data"
    }
   ],
   "source": [
    "plt.figure(figsize=(15,8))\n",
    "ax = sns.countplot(x='topic',data=blog_df)\n",
    "ax.set_xticklabels(ax.get_xticklabels(), rotation=40, ha=\"right\")\n",
    "plt.tight_layout()\n",
    "plt.show()"
   ]
  },
  {
   "cell_type": "code",
   "execution_count": 13,
   "metadata": {
    "colab": {
     "base_uri": "https://localhost:8080/"
    },
    "id": "RPO-k_n6mny3",
    "outputId": "d0591d1a-8731-4093-e5cd-335413f8edac"
   },
   "outputs": [
    {
     "name": "stdout",
     "output_type": "stream",
     "text": [
      "['indUnk', 'Student', 'Technology', 'Education', 'Arts', 'Communications-Media', 'Engineering', 'Internet', 'Government', 'Fashion', 'Non-Profit', 'Science', 'Religion', 'Publishing', 'Consulting', 'Military', 'Advertising', 'Transportation', 'Marketing', 'BusinessServices', 'Manufacturing', 'Accounting', 'Sports-Recreation', 'LawEnforcement-Security', 'Law', 'Banking', 'Biotech', 'Museums-Libraries', 'Chemicals', 'Tourism', 'Construction', 'InvestmentBanking', 'HumanResources', 'Agriculture', 'Telecommunications', 'RealEstate', 'Automotive', 'Architecture', 'Maritime', 'Environment']\n"
     ]
    }
   ],
   "source": [
    "a = blog_df.topic.value_counts().index.tolist()\n",
    "print(a)"
   ]
  },
  {
   "cell_type": "code",
   "execution_count": 14,
   "metadata": {
    "colab": {
     "base_uri": "https://localhost:8080/"
    },
    "id": "-Wi-xoIswdEA",
    "outputId": "de29efce-1720-416f-dc13-8bd988235080"
   },
   "outputs": [
    {
     "data": {
      "text/plain": [
       "40"
      ]
     },
     "execution_count": 14,
     "metadata": {},
     "output_type": "execute_result"
    }
   ],
   "source": [
    "len(a)"
   ]
  },
  {
   "cell_type": "markdown",
   "metadata": {
    "id": "1YLVxOZxek1x"
   },
   "source": [
    "The dataset has equal number of male and female bloggers with nearly equal number of 'sign'. There are nearly fourty topic discussed in the blogs. Most of them are independent/unknown. Ages are normally distributed with right skewed mostly between 15 and 27."
   ]
  },
  {
   "cell_type": "markdown",
   "metadata": {
    "id": "HKpUOWvZpkZB"
   },
   "source": [
    "### Missing values"
   ]
  },
  {
   "cell_type": "code",
   "execution_count": 15,
   "metadata": {
    "colab": {
     "base_uri": "https://localhost:8080/"
    },
    "id": "EXtmN6a1D5KU",
    "outputId": "343111dd-4fbb-49b9-ad9d-416c5023ec87"
   },
   "outputs": [
    {
     "data": {
      "text/plain": [
       "id        0\n",
       "gender    0\n",
       "age       0\n",
       "topic     0\n",
       "sign      0\n",
       "date      0\n",
       "text      0\n",
       "dtype: int64"
      ]
     },
     "execution_count": 15,
     "metadata": {},
     "output_type": "execute_result"
    }
   ],
   "source": [
    "blog_df.isna().sum()"
   ]
  },
  {
   "cell_type": "markdown",
   "metadata": {},
   "source": [
    "There is no missing values in the dataset"
   ]
  },
  {
   "cell_type": "markdown",
   "metadata": {
    "id": "pfQ9f28wpxaE"
   },
   "source": [
    "### Eliminating non english textual data"
   ]
  },
  {
   "cell_type": "code",
   "execution_count": 16,
   "metadata": {
    "colab": {
     "base_uri": "https://localhost:8080/"
    },
    "id": "qmzkkftup6wz",
    "outputId": "d871e949-a194-4bfc-e38a-0567132abd01"
   },
   "outputs": [
    {
     "data": {
      "text/plain": [
       "0               Info has been found (+/- 100 pages,...\n",
       "1               These are the team members:   Drewe...\n",
       "2               In het kader van kernfusie op aarde...\n",
       "3                     testing!!!  testing!!!          \n",
       "4                 Thanks to Yahoo!'s Toolbar I can ...\n",
       "5                 I had an interesting conversation...\n",
       "6                 Somehow Coca-Cola has a way of su...\n",
       "7                 If anything, Korea is a country o...\n",
       "8                 Take a read of this news article ...\n",
       "9                 I surf the English news sites a l...\n",
       "Name: text, dtype: object"
      ]
     },
     "execution_count": 16,
     "metadata": {},
     "output_type": "execute_result"
    }
   ],
   "source": [
    "blog_df.text[0:10]"
   ]
  },
  {
   "cell_type": "code",
   "execution_count": 17,
   "metadata": {
    "id": "bSCtcgnRpyWt"
   },
   "outputs": [],
   "source": [
    "pattern = '[^A-Za-z0-9]+'\n",
    "blog_df.text = blog_df.text.apply(lambda s : re.sub(pattern,\" \",s))"
   ]
  },
  {
   "cell_type": "code",
   "execution_count": 18,
   "metadata": {
    "colab": {
     "base_uri": "https://localhost:8080/"
    },
    "id": "S7_vRv1gEA8u",
    "outputId": "6342d1f8-5b9f-4dc8-d145-adc2ff07b9d1"
   },
   "outputs": [
    {
     "data": {
      "text/plain": [
       "0     Info has been found 100 pages and 4 5 MB of p...\n",
       "1     These are the team members Drewes van der Laa...\n",
       "2     In het kader van kernfusie op aarde MAAK JE E...\n",
       "3                                     testing testing \n",
       "4     Thanks to Yahoo s Toolbar I can now capture t...\n",
       "5     I had an interesting conversation with my Dad...\n",
       "6     Somehow Coca Cola has a way of summing up thi...\n",
       "7     If anything Korea is a country of extremes Ev...\n",
       "8     Take a read of this news article from urlLink...\n",
       "9     I surf the English news sites a lot looking f...\n",
       "Name: text, dtype: object"
      ]
     },
     "execution_count": 18,
     "metadata": {},
     "output_type": "execute_result"
    }
   ],
   "source": [
    "blog_df.text[0:10]"
   ]
  },
  {
   "cell_type": "markdown",
   "metadata": {
    "id": "Qik52g0iOQFf"
   },
   "source": [
    "# Data Cleaning"
   ]
  },
  {
   "cell_type": "code",
   "execution_count": 19,
   "metadata": {
    "id": "Z3JbuNW-qivS"
   },
   "outputs": [],
   "source": [
    "pattern = '[^A-Za-z]+'\n",
    "blog_df.text = blog_df.text.apply(lambda s : re.sub(pattern,\" \",s))"
   ]
  },
  {
   "cell_type": "code",
   "execution_count": 20,
   "metadata": {
    "id": "zA07zdH2FDXL"
   },
   "outputs": [],
   "source": [
    "blog_df.text = blog_df.text.apply(lambda s: s.lower())"
   ]
  },
  {
   "cell_type": "code",
   "execution_count": 21,
   "metadata": {
    "id": "LYhKnC-WFXQ7"
   },
   "outputs": [],
   "source": [
    "blog_df.text = blog_df.text.apply(lambda s: s.strip())"
   ]
  },
  {
   "cell_type": "code",
   "execution_count": 22,
   "metadata": {
    "colab": {
     "base_uri": "https://localhost:8080/"
    },
    "id": "I1sIJI82Fm0H",
    "outputId": "37ecb5b8-4245-4583-d2ec-52c61519c48f"
   },
   "outputs": [
    {
     "name": "stderr",
     "output_type": "stream",
     "text": [
      "[nltk_data] Downloading package stopwords to\n",
      "[nltk_data]     C:\\Users\\arunv\\AppData\\Roaming\\nltk_data...\n",
      "[nltk_data]   Package stopwords is already up-to-date!\n"
     ]
    },
    {
     "data": {
      "text/plain": [
       "True"
      ]
     },
     "execution_count": 22,
     "metadata": {},
     "output_type": "execute_result"
    }
   ],
   "source": [
    "import nltk\n",
    "nltk.download('stopwords')"
   ]
  },
  {
   "cell_type": "code",
   "execution_count": 23,
   "metadata": {
    "id": "eHQqIdjxFouZ"
   },
   "outputs": [],
   "source": [
    "stopwords=set(stopwords.words('english'))"
   ]
  },
  {
   "cell_type": "code",
   "execution_count": 24,
   "metadata": {
    "id": "z0u3oI99FrUg"
   },
   "outputs": [],
   "source": [
    "blog_df.text = blog_df.text.apply(lambda t: ' '.join([words for words in t.split() if words not in stopwords]))"
   ]
  },
  {
   "cell_type": "code",
   "execution_count": 25,
   "metadata": {
    "colab": {
     "base_uri": "https://localhost:8080/"
    },
    "id": "_w0GWwBhFs3x",
    "outputId": "ee2f0ad8-5832-4608-8033-997050d76c30"
   },
   "outputs": [
    {
     "data": {
      "text/plain": [
       "0    info found pages mb pdf files wait untill team...\n",
       "1    team members drewes van der laag urllink mail ...\n",
       "2    het kader van kernfusie op aarde maak je eigen...\n",
       "3                                      testing testing\n",
       "4    thanks yahoo toolbar capture urls popups means...\n",
       "5    interesting conversation dad morning talking k...\n",
       "6    somehow coca cola way summing things well earl...\n",
       "7    anything korea country extremes everything see...\n",
       "8    take read news article urllink joongang ilbo n...\n",
       "9    surf english news sites lot looking tidbits ko...\n",
       "Name: text, dtype: object"
      ]
     },
     "execution_count": 25,
     "metadata": {},
     "output_type": "execute_result"
    }
   ],
   "source": [
    "blog_df.text[0:10]"
   ]
  },
  {
   "cell_type": "code",
   "execution_count": 26,
   "metadata": {
    "colab": {
     "base_uri": "https://localhost:8080/",
     "height": 206
    },
    "id": "WcaFVWR4FufS",
    "outputId": "c986e781-ba23-48fd-b17c-234c7b48a5e0"
   },
   "outputs": [
    {
     "data": {
      "text/html": [
       "<div>\n",
       "<style scoped>\n",
       "    .dataframe tbody tr th:only-of-type {\n",
       "        vertical-align: middle;\n",
       "    }\n",
       "\n",
       "    .dataframe tbody tr th {\n",
       "        vertical-align: top;\n",
       "    }\n",
       "\n",
       "    .dataframe thead th {\n",
       "        text-align: right;\n",
       "    }\n",
       "</style>\n",
       "<table border=\"1\" class=\"dataframe\">\n",
       "  <thead>\n",
       "    <tr style=\"text-align: right;\">\n",
       "      <th></th>\n",
       "      <th>id</th>\n",
       "      <th>gender</th>\n",
       "      <th>age</th>\n",
       "      <th>topic</th>\n",
       "      <th>sign</th>\n",
       "      <th>date</th>\n",
       "      <th>text</th>\n",
       "    </tr>\n",
       "  </thead>\n",
       "  <tbody>\n",
       "    <tr>\n",
       "      <th>0</th>\n",
       "      <td>2059027</td>\n",
       "      <td>male</td>\n",
       "      <td>15</td>\n",
       "      <td>Student</td>\n",
       "      <td>Leo</td>\n",
       "      <td>14,May,2004</td>\n",
       "      <td>info found pages mb pdf files wait untill team...</td>\n",
       "    </tr>\n",
       "    <tr>\n",
       "      <th>1</th>\n",
       "      <td>2059027</td>\n",
       "      <td>male</td>\n",
       "      <td>15</td>\n",
       "      <td>Student</td>\n",
       "      <td>Leo</td>\n",
       "      <td>13,May,2004</td>\n",
       "      <td>team members drewes van der laag urllink mail ...</td>\n",
       "    </tr>\n",
       "    <tr>\n",
       "      <th>2</th>\n",
       "      <td>2059027</td>\n",
       "      <td>male</td>\n",
       "      <td>15</td>\n",
       "      <td>Student</td>\n",
       "      <td>Leo</td>\n",
       "      <td>12,May,2004</td>\n",
       "      <td>het kader van kernfusie op aarde maak je eigen...</td>\n",
       "    </tr>\n",
       "    <tr>\n",
       "      <th>3</th>\n",
       "      <td>2059027</td>\n",
       "      <td>male</td>\n",
       "      <td>15</td>\n",
       "      <td>Student</td>\n",
       "      <td>Leo</td>\n",
       "      <td>12,May,2004</td>\n",
       "      <td>testing testing</td>\n",
       "    </tr>\n",
       "    <tr>\n",
       "      <th>4</th>\n",
       "      <td>3581210</td>\n",
       "      <td>male</td>\n",
       "      <td>33</td>\n",
       "      <td>InvestmentBanking</td>\n",
       "      <td>Aquarius</td>\n",
       "      <td>11,June,2004</td>\n",
       "      <td>thanks yahoo toolbar capture urls popups means...</td>\n",
       "    </tr>\n",
       "  </tbody>\n",
       "</table>\n",
       "</div>"
      ],
      "text/plain": [
       "        id gender  age              topic      sign          date  \\\n",
       "0  2059027   male   15            Student       Leo   14,May,2004   \n",
       "1  2059027   male   15            Student       Leo   13,May,2004   \n",
       "2  2059027   male   15            Student       Leo   12,May,2004   \n",
       "3  2059027   male   15            Student       Leo   12,May,2004   \n",
       "4  3581210   male   33  InvestmentBanking  Aquarius  11,June,2004   \n",
       "\n",
       "                                                text  \n",
       "0  info found pages mb pdf files wait untill team...  \n",
       "1  team members drewes van der laag urllink mail ...  \n",
       "2  het kader van kernfusie op aarde maak je eigen...  \n",
       "3                                    testing testing  \n",
       "4  thanks yahoo toolbar capture urls popups means...  "
      ]
     },
     "execution_count": 26,
     "metadata": {},
     "output_type": "execute_result"
    }
   ],
   "source": [
    "blog_df.head(5)"
   ]
  },
  {
   "cell_type": "markdown",
   "metadata": {
    "id": "MIwxI__kq7MI"
   },
   "source": [
    "## Train and Test split"
   ]
  },
  {
   "cell_type": "code",
   "execution_count": 27,
   "metadata": {
    "id": "9In_wQ-mGDPi"
   },
   "outputs": [],
   "source": [
    "X = blog_df.text\n",
    "y = blog_df.topic"
   ]
  },
  {
   "cell_type": "code",
   "execution_count": 28,
   "metadata": {
    "colab": {
     "base_uri": "https://localhost:8080/"
    },
    "id": "fCRTwxh0GFOz",
    "outputId": "0c49078e-2d31-4fc7-9bc6-4c2a4bd024d5"
   },
   "outputs": [
    {
     "name": "stdout",
     "output_type": "stream",
     "text": [
      "(100000,)\n",
      "(100000,)\n"
     ]
    }
   ],
   "source": [
    "print(X.shape)\n",
    "print(y.shape)"
   ]
  },
  {
   "cell_type": "code",
   "execution_count": 29,
   "metadata": {
    "colab": {
     "base_uri": "https://localhost:8080/",
     "height": 36
    },
    "id": "QnrdONgXyjJS",
    "outputId": "44b5f047-a380-4f66-eaba-bd3a7c2ff4f7"
   },
   "outputs": [
    {
     "data": {
      "text/plain": [
       "'info found pages mb pdf files wait untill team leader processed learns html'"
      ]
     },
     "execution_count": 29,
     "metadata": {},
     "output_type": "execute_result"
    }
   ],
   "source": [
    "X[0]"
   ]
  },
  {
   "cell_type": "code",
   "execution_count": 30,
   "metadata": {
    "colab": {
     "base_uri": "https://localhost:8080/",
     "height": 36
    },
    "id": "ovEul4teynXd",
    "outputId": "45a4f541-3d72-410a-ea73-7dbe54df9a44"
   },
   "outputs": [
    {
     "data": {
      "text/plain": [
       "'Student'"
      ]
     },
     "execution_count": 30,
     "metadata": {},
     "output_type": "execute_result"
    }
   ],
   "source": [
    "y[0]"
   ]
  },
  {
   "cell_type": "code",
   "execution_count": 31,
   "metadata": {
    "id": "yN1i2xciy_MN"
   },
   "outputs": [],
   "source": [
    "from sklearn.preprocessing import LabelEncoder"
   ]
  },
  {
   "cell_type": "code",
   "execution_count": 32,
   "metadata": {
    "id": "8yE6I9NdzBh8"
   },
   "outputs": [],
   "source": [
    "labelencoder = LabelEncoder()"
   ]
  },
  {
   "cell_type": "code",
   "execution_count": 33,
   "metadata": {
    "id": "k02naLkIzFh7"
   },
   "outputs": [],
   "source": [
    "y = labelencoder.fit_transform(list(y))"
   ]
  },
  {
   "cell_type": "code",
   "execution_count": 34,
   "metadata": {
    "colab": {
     "base_uri": "https://localhost:8080/"
    },
    "id": "KZawYMMX3PJm",
    "outputId": "9bc569a2-d71d-447f-c63c-562889038057"
   },
   "outputs": [
    {
     "data": {
      "text/plain": [
       "['Accounting',\n",
       " 'Advertising',\n",
       " 'Agriculture',\n",
       " 'Architecture',\n",
       " 'Arts',\n",
       " 'Automotive',\n",
       " 'Banking',\n",
       " 'Biotech',\n",
       " 'BusinessServices',\n",
       " 'Chemicals',\n",
       " 'Communications-Media',\n",
       " 'Construction',\n",
       " 'Consulting',\n",
       " 'Education',\n",
       " 'Engineering',\n",
       " 'Environment',\n",
       " 'Fashion',\n",
       " 'Government',\n",
       " 'HumanResources',\n",
       " 'Internet',\n",
       " 'InvestmentBanking',\n",
       " 'Law',\n",
       " 'LawEnforcement-Security',\n",
       " 'Manufacturing',\n",
       " 'Maritime',\n",
       " 'Marketing',\n",
       " 'Military',\n",
       " 'Museums-Libraries',\n",
       " 'Non-Profit',\n",
       " 'Publishing',\n",
       " 'RealEstate',\n",
       " 'Religion',\n",
       " 'Science',\n",
       " 'Sports-Recreation',\n",
       " 'Student',\n",
       " 'Technology',\n",
       " 'Telecommunications',\n",
       " 'Tourism',\n",
       " 'Transportation',\n",
       " 'indUnk']"
      ]
     },
     "execution_count": 34,
     "metadata": {},
     "output_type": "execute_result"
    }
   ],
   "source": [
    "list(labelencoder.classes_)"
   ]
  },
  {
   "cell_type": "code",
   "execution_count": 35,
   "metadata": {
    "colab": {
     "base_uri": "https://localhost:8080/"
    },
    "id": "vTcRTviNzMA-",
    "outputId": "f30cdffb-5d18-42ae-f535-05dc5d38b0d1"
   },
   "outputs": [
    {
     "data": {
      "text/plain": [
       "array([34, 34, 34, 34, 20, 20, 20, 20, 20, 20, 20, 20, 20, 20, 20, 20, 20,\n",
       "       20, 20, 20, 20, 20, 20, 20, 20, 20, 20, 20, 20, 20, 20, 20, 20, 20,\n",
       "       20, 20, 20, 20, 20, 20, 20, 20, 20, 20, 20, 20, 20, 20, 20, 20, 20,\n",
       "       20, 20, 20, 20, 20, 20, 20, 20, 20, 20, 20, 20, 20, 20, 20, 20, 20,\n",
       "       20, 20, 20, 20, 20, 20, 39, 39, 39, 39, 39, 39, 39, 39, 39, 39, 39,\n",
       "       39, 39, 39, 39, 39, 39, 39, 39, 39, 39, 39, 39, 34, 34, 34],\n",
       "      dtype=int64)"
      ]
     },
     "execution_count": 35,
     "metadata": {},
     "output_type": "execute_result"
    }
   ],
   "source": [
    "y[0:100]"
   ]
  },
  {
   "cell_type": "code",
   "execution_count": 36,
   "metadata": {
    "id": "3UeRQWzYGJEn"
   },
   "outputs": [],
   "source": [
    "X_train, X_test, y_train, y_test = train_test_split(X.values, y, random_state=42, test_size = 0.2)"
   ]
  },
  {
   "cell_type": "code",
   "execution_count": 37,
   "metadata": {
    "colab": {
     "base_uri": "https://localhost:8080/"
    },
    "id": "2cmcnGj1GNDO",
    "outputId": "78d706c9-9ea5-4b19-dfc2-fd68eee28d9d"
   },
   "outputs": [
    {
     "name": "stdout",
     "output_type": "stream",
     "text": [
      "(80000,)\n",
      "(80000,)\n",
      "(20000,)\n",
      "(20000,)\n"
     ]
    }
   ],
   "source": [
    "print(X_train.shape)\n",
    "print(y_train.shape)\n",
    "print(X_test.shape)\n",
    "print(y_test.shape)"
   ]
  },
  {
   "cell_type": "markdown",
   "metadata": {
    "id": "rNp9fo1EGe-6"
   },
   "source": [
    "# Count Vectorizer"
   ]
  },
  {
   "cell_type": "code",
   "execution_count": 38,
   "metadata": {
    "colab": {
     "base_uri": "https://localhost:8080/"
    },
    "id": "_lLAeKrWSQPf",
    "outputId": "8a69d5a6-d17f-45b0-a1f4-220d014a5f1c"
   },
   "outputs": [
    {
     "data": {
      "text/plain": [
       "'well hope great evening take online test tomorrow wish luck good night good one ms walk looking forward'"
      ]
     },
     "execution_count": 38,
     "metadata": {},
     "output_type": "execute_result"
    }
   ],
   "source": [
    "X_test[1]"
   ]
  },
  {
   "cell_type": "code",
   "execution_count": 39,
   "metadata": {
    "colab": {
     "base_uri": "https://localhost:8080/"
    },
    "id": "3eZXEXLiO2l7",
    "outputId": "0f291558-9e18-40d8-dedb-affed57b25c1"
   },
   "outputs": [
    {
     "data": {
      "text/plain": [
       "array([13,  1, 39, 39, 34, 39, 34, 34, 34, 39, 14, 13, 13, 34, 10, 35,  4,\n",
       "       23,  4, 34], dtype=int64)"
      ]
     },
     "execution_count": 39,
     "metadata": {},
     "output_type": "execute_result"
    }
   ],
   "source": [
    "y_train[0:20]"
   ]
  },
  {
   "cell_type": "markdown",
   "metadata": {
    "id": "jNQNrO2vro9F"
   },
   "source": [
    "### Count vectorizer"
   ]
  },
  {
   "cell_type": "code",
   "execution_count": 40,
   "metadata": {
    "id": "ZG6gZxSbGmI3"
   },
   "outputs": [],
   "source": [
    "cvect = CountVectorizer(binary = True, ngram_range=(1,2))"
   ]
  },
  {
   "cell_type": "code",
   "execution_count": 41,
   "metadata": {
    "id": "VsBZtqJqGoO5"
   },
   "outputs": [],
   "source": [
    "X_train_cv = cvect.fit_transform(X_train)\n",
    "X_test_cv = cvect.transform(X_test)"
   ]
  },
  {
   "cell_type": "code",
   "execution_count": 42,
   "metadata": {
    "colab": {
     "base_uri": "https://localhost:8080/"
    },
    "id": "CMVKXcEVGqqo",
    "outputId": "7276ff41-c0bd-4cc7-f44b-a48c2760fec7"
   },
   "outputs": [
    {
     "data": {
      "text/plain": [
       "['aa',\n",
       " 'aa advert',\n",
       " 'aa alexisonfire',\n",
       " 'aa anyway',\n",
       " 'aa back',\n",
       " 'aa batteries',\n",
       " 'aa beautiful',\n",
       " 'aa big',\n",
       " 'aa brown',\n",
       " 'aa button',\n",
       " 'aa car',\n",
       " 'aa charge',\n",
       " 'aa class',\n",
       " 'aa coming',\n",
       " 'aa compared',\n",
       " 'aa damn',\n",
       " 'aa done',\n",
       " 'aa eating',\n",
       " 'aa end',\n",
       " 'aa ended']"
      ]
     },
     "execution_count": 42,
     "metadata": {},
     "output_type": "execute_result"
    }
   ],
   "source": [
    "cvect.get_feature_names()[0:20]"
   ]
  },
  {
   "cell_type": "code",
   "execution_count": 43,
   "metadata": {
    "colab": {
     "base_uri": "https://localhost:8080/"
    },
    "id": "PEGH9ApJGvYt",
    "outputId": "53979993-3586-4e14-a90d-847dfc2c977e"
   },
   "outputs": [
    {
     "data": {
      "text/plain": [
       "scipy.sparse.csr.csr_matrix"
      ]
     },
     "execution_count": 43,
     "metadata": {},
     "output_type": "execute_result"
    }
   ],
   "source": [
    "type(X_train_cv)"
   ]
  },
  {
   "cell_type": "code",
   "execution_count": 44,
   "metadata": {
    "colab": {
     "base_uri": "https://localhost:8080/"
    },
    "id": "xvEPOyRTGyJG",
    "outputId": "a80d1fad-7477-46f5-9eb8-d9c7e1ed8fd3"
   },
   "outputs": [
    {
     "data": {
      "text/plain": [
       "4156166"
      ]
     },
     "execution_count": 44,
     "metadata": {},
     "output_type": "execute_result"
    }
   ],
   "source": [
    "len(cvect.vocabulary_)"
   ]
  },
  {
   "cell_type": "code",
   "execution_count": 45,
   "metadata": {
    "colab": {
     "base_uri": "https://localhost:8080/"
    },
    "id": "2T01enR-NTHu",
    "outputId": "335afb97-c9a8-4c3e-d990-aba3c999d3ac"
   },
   "outputs": [
    {
     "data": {
      "text/plain": [
       "array([[0, 0, 0, ..., 0, 0, 0],\n",
       "       [0, 0, 0, ..., 0, 0, 0],\n",
       "       [0, 0, 0, ..., 0, 0, 0],\n",
       "       [0, 0, 0, ..., 0, 0, 0],\n",
       "       [0, 0, 0, ..., 0, 0, 0]], dtype=int64)"
      ]
     },
     "execution_count": 45,
     "metadata": {},
     "output_type": "execute_result"
    }
   ],
   "source": [
    "X_train_cv[0:5].toarray()"
   ]
  },
  {
   "cell_type": "code",
   "execution_count": 46,
   "metadata": {
    "colab": {
     "base_uri": "https://localhost:8080/"
    },
    "id": "jgdS9mmDG6PI",
    "outputId": "d9ee6bf1-6807-41f9-d7d6-e64808702817"
   },
   "outputs": [
    {
     "name": "stdout",
     "output_type": "stream",
     "text": [
      "  (0, 699383)\t1\n",
      "  (0, 874384)\t1\n",
      "  (0, 3417151)\t1\n",
      "  (0, 2181632)\t1\n",
      "  (0, 3463142)\t1\n",
      "  (0, 2473844)\t1\n",
      "  (0, 1192107)\t1\n",
      "  (0, 1593071)\t1\n",
      "  (0, 905101)\t1\n",
      "  (0, 153398)\t1\n",
      "  (0, 3722979)\t1\n",
      "  (0, 1408629)\t1\n",
      "  (0, 3455786)\t1\n",
      "  (0, 3590743)\t1\n",
      "  (0, 2654020)\t1\n",
      "  (0, 2111230)\t1\n",
      "  (0, 3641481)\t1\n",
      "  (0, 1218583)\t1\n",
      "  (0, 2283213)\t1\n",
      "  (0, 1477502)\t1\n",
      "  (0, 3629403)\t1\n",
      "  (0, 2451916)\t1\n",
      "  (0, 850582)\t1\n",
      "  (0, 2229634)\t1\n",
      "  (0, 2988010)\t1\n",
      "  :\t:\n",
      "  (79999, 465661)\t1\n",
      "  (79999, 1890743)\t1\n",
      "  (79999, 1889345)\t1\n",
      "  (79999, 1893819)\t1\n",
      "  (79999, 2704262)\t1\n",
      "  (79999, 850170)\t1\n",
      "  (79999, 1947606)\t1\n",
      "  (79999, 1582219)\t1\n",
      "  (79999, 127409)\t1\n",
      "  (79999, 1954972)\t1\n",
      "  (79999, 3787395)\t1\n",
      "  (79999, 1029775)\t1\n",
      "  (79999, 268185)\t1\n",
      "  (79999, 2225681)\t1\n",
      "  (79999, 1828083)\t1\n",
      "  (79999, 1113573)\t1\n",
      "  (79999, 2454486)\t1\n",
      "  (79999, 2455114)\t1\n",
      "  (79999, 127277)\t1\n",
      "  (79999, 1835239)\t1\n",
      "  (79999, 350314)\t1\n",
      "  (79999, 2390927)\t1\n",
      "  (79999, 2165996)\t1\n",
      "  (79999, 1604066)\t1\n",
      "  (79999, 1448738)\t1\n"
     ]
    }
   ],
   "source": [
    "print(X_train_cv)"
   ]
  },
  {
   "cell_type": "code",
   "execution_count": 47,
   "metadata": {
    "colab": {
     "base_uri": "https://localhost:8080/"
    },
    "id": "5-_RvHe_HEqS",
    "outputId": "c641628f-fb57-4ae9-f93f-945e6f91f38e"
   },
   "outputs": [
    {
     "name": "stdout",
     "output_type": "stream",
     "text": [
      "  (0, 303439)\t1\n",
      "  (0, 856970)\t1\n",
      "  (0, 2410562)\t1\n",
      "  (0, 2418030)\t1\n",
      "  (0, 2642400)\t1\n",
      "  (0, 2643153)\t1\n",
      "  (0, 2685958)\t1\n",
      "  (0, 3849965)\t1\n",
      "  (0, 3861824)\t1\n",
      "  (0, 3876330)\t1\n",
      "  (1, 1140065)\t1\n",
      "  (1, 1141098)\t1\n",
      "  (1, 1338185)\t1\n",
      "  (1, 1488246)\t1\n",
      "  (1, 1491404)\t1\n",
      "  (1, 1491488)\t1\n",
      "  (1, 1520654)\t1\n",
      "  (1, 1521663)\t1\n",
      "  (1, 1684780)\t1\n",
      "  (1, 1685705)\t1\n",
      "  (1, 2115855)\t1\n",
      "  (1, 2116652)\t1\n",
      "  (1, 2147094)\t1\n",
      "  (1, 2147370)\t1\n",
      "  (1, 2366312)\t1\n",
      "  :\t:\n",
      "  (19999, 856970)\t1\n",
      "  (19999, 857966)\t1\n",
      "  (19999, 1109757)\t1\n",
      "  (19999, 1177014)\t1\n",
      "  (19999, 1330695)\t1\n",
      "  (19999, 1331102)\t1\n",
      "  (19999, 1378083)\t1\n",
      "  (19999, 1378468)\t1\n",
      "  (19999, 1383826)\t1\n",
      "  (19999, 1386542)\t1\n",
      "  (19999, 1979899)\t1\n",
      "  (19999, 1980195)\t1\n",
      "  (19999, 2102387)\t1\n",
      "  (19999, 2263203)\t1\n",
      "  (19999, 2737640)\t1\n",
      "  (19999, 3232332)\t1\n",
      "  (19999, 3680943)\t1\n",
      "  (19999, 3688205)\t1\n",
      "  (19999, 3689030)\t1\n",
      "  (19999, 3690176)\t1\n",
      "  (19999, 3719963)\t1\n",
      "  (19999, 3841993)\t1\n",
      "  (19999, 4023030)\t1\n",
      "  (19999, 4023682)\t1\n",
      "  (19999, 4121834)\t1\n"
     ]
    }
   ],
   "source": [
    "print(X_test_cv)"
   ]
  },
  {
   "cell_type": "markdown",
   "metadata": {},
   "source": [
    "## Model building (Count vectorizer)"
   ]
  },
  {
   "cell_type": "code",
   "execution_count": 48,
   "metadata": {},
   "outputs": [],
   "source": [
    "from sklearn.naive_bayes import MultinomialNB\n",
    "from sklearn.metrics import accuracy_score\n",
    "from sklearn.metrics import f1_score\n",
    "from sklearn.metrics import precision_score\n",
    "from sklearn.metrics import recall_score\n",
    "from sklearn.linear_model import SGDClassifier"
   ]
  },
  {
   "cell_type": "code",
   "execution_count": 49,
   "metadata": {},
   "outputs": [],
   "source": [
    "clf = MultinomialNB()"
   ]
  },
  {
   "cell_type": "code",
   "execution_count": 50,
   "metadata": {},
   "outputs": [],
   "source": [
    "svm = SGDClassifier()"
   ]
  },
  {
   "cell_type": "code",
   "execution_count": 51,
   "metadata": {},
   "outputs": [
    {
     "name": "stdout",
     "output_type": "stream",
     "text": [
      "X_train:  (80000, 4156166)\n",
      "y_train:  (80000,)\n",
      "X_test:  (20000, 4156166)\n",
      "y_test:  (20000,)\n"
     ]
    }
   ],
   "source": [
    "print(\"X_train: \", X_train_cv.shape)\n",
    "print(\"y_train: \", y_train.shape)\n",
    "print(\"X_test: \", X_test_cv.shape)\n",
    "print(\"y_test: \", y_test.shape)"
   ]
  },
  {
   "cell_type": "markdown",
   "metadata": {},
   "source": [
    "#### Multinomial naive bayes"
   ]
  },
  {
   "cell_type": "code",
   "execution_count": 52,
   "metadata": {},
   "outputs": [
    {
     "data": {
      "text/plain": [
       "MultinomialNB()"
      ]
     },
     "execution_count": 52,
     "metadata": {},
     "output_type": "execute_result"
    }
   ],
   "source": [
    "clf.fit(X_train_cv, y_train)"
   ]
  },
  {
   "cell_type": "code",
   "execution_count": 53,
   "metadata": {
    "id": "QEGNB4hGIdAN"
   },
   "outputs": [],
   "source": [
    "Ypred = clf.predict(X_test_cv)"
   ]
  },
  {
   "cell_type": "code",
   "execution_count": 54,
   "metadata": {
    "id": "v8qdYSVrsyXA"
   },
   "outputs": [
    {
     "name": "stdout",
     "output_type": "stream",
     "text": [
      "Accuracy score:  0.39225\n",
      "F1 score:  0.39224999999999993\n",
      "Precision score:  0.39225\n",
      "Recall score:  0.39225\n"
     ]
    }
   ],
   "source": [
    "print('Accuracy score: ', accuracy_score(y_test, Ypred))\n",
    "print('F1 score: ', f1_score(y_test, Ypred, average='micro'))\n",
    "print('Precision score: ', precision_score(y_test, Ypred, average='micro'))\n",
    "print('Recall score: ', recall_score(y_test, Ypred, average='micro'))"
   ]
  },
  {
   "cell_type": "markdown",
   "metadata": {},
   "source": [
    "#### Support vector classifier"
   ]
  },
  {
   "cell_type": "code",
   "execution_count": 55,
   "metadata": {
    "colab": {
     "base_uri": "https://localhost:8080/"
    },
    "id": "uTlgRNtYIa_i",
    "outputId": "b4f937fc-0c73-4d2c-9710-e7b8a4056828"
   },
   "outputs": [
    {
     "data": {
      "text/plain": [
       "SGDClassifier()"
      ]
     },
     "execution_count": 55,
     "metadata": {},
     "output_type": "execute_result"
    }
   ],
   "source": [
    "svm.fit(X_train_cv,y_train)"
   ]
  },
  {
   "cell_type": "code",
   "execution_count": 56,
   "metadata": {},
   "outputs": [],
   "source": [
    "Ypred1 = svm.predict(X_test_cv)"
   ]
  },
  {
   "cell_type": "code",
   "execution_count": 57,
   "metadata": {},
   "outputs": [
    {
     "name": "stdout",
     "output_type": "stream",
     "text": [
      "Accuracy score:  0.48695\n",
      "F1 score:  0.48695\n",
      "Precision score:  0.48695\n",
      "Recall score:  0.48695\n"
     ]
    }
   ],
   "source": [
    "print('Accuracy score: ', accuracy_score(y_test, Ypred1))\n",
    "print('F1 score: ', f1_score(y_test, Ypred1, average='micro'))\n",
    "print('Precision score: ', precision_score(y_test, Ypred1, average='micro'))\n",
    "print('Recall score: ', recall_score(y_test, Ypred1, average='micro'))"
   ]
  },
  {
   "cell_type": "markdown",
   "metadata": {},
   "source": [
    "## Model building(tdidf)"
   ]
  },
  {
   "cell_type": "code",
   "execution_count": 58,
   "metadata": {
    "id": "x48wtRLsRuvz"
   },
   "outputs": [],
   "source": [
    "from sklearn.feature_extraction.text import TfidfVectorizer\n",
    "tvect = TfidfVectorizer(ngram_range=(1, 2))"
   ]
  },
  {
   "cell_type": "code",
   "execution_count": 59,
   "metadata": {
    "id": "WG2uy13fR04Y"
   },
   "outputs": [],
   "source": [
    "X_train_tv = tvect.fit_transform(X_train)\n",
    "X_test_tv = tvect.transform(X_test)"
   ]
  },
  {
   "cell_type": "code",
   "execution_count": 60,
   "metadata": {},
   "outputs": [
    {
     "data": {
      "text/plain": [
       "['aa',\n",
       " 'aa advert',\n",
       " 'aa alexisonfire',\n",
       " 'aa anyway',\n",
       " 'aa back',\n",
       " 'aa batteries',\n",
       " 'aa beautiful',\n",
       " 'aa big',\n",
       " 'aa brown',\n",
       " 'aa button']"
      ]
     },
     "execution_count": 60,
     "metadata": {},
     "output_type": "execute_result"
    }
   ],
   "source": [
    "tvect.get_feature_names()[0:10]"
   ]
  },
  {
   "cell_type": "code",
   "execution_count": 61,
   "metadata": {},
   "outputs": [
    {
     "data": {
      "text/plain": [
       "4156166"
      ]
     },
     "execution_count": 61,
     "metadata": {},
     "output_type": "execute_result"
    }
   ],
   "source": [
    "len(tvect.vocabulary_)"
   ]
  },
  {
   "cell_type": "code",
   "execution_count": 62,
   "metadata": {},
   "outputs": [
    {
     "name": "stdout",
     "output_type": "stream",
     "text": [
      "  (0, 3132450)\t0.1037646882043783\n",
      "  (0, 1512584)\t0.09704671597205655\n",
      "  (0, 1464610)\t0.12300689220522532\n",
      "  (0, 3683801)\t0.07166209475035851\n",
      "  (0, 120367)\t0.08505885970537329\n",
      "  (0, 2937570)\t0.12120068788628474\n",
      "  (0, 2004183)\t0.12775778159647128\n",
      "  (0, 1327721)\t0.11963608253817447\n",
      "  (0, 979317)\t0.12514317849138532\n",
      "  (0, 4119837)\t0.11702147943308851\n",
      "  (0, 701451)\t0.13112859126352214\n",
      "  (0, 1815627)\t0.13587948065476807\n",
      "  (0, 1039756)\t0.13587948065476807\n",
      "  (0, 2540796)\t0.11227059004184253\n",
      "  (0, 2543964)\t0.07439939148914383\n",
      "  (0, 678688)\t0.1088997803747917\n",
      "  (0, 201391)\t0.13587948065476807\n",
      "  (0, 1498802)\t0.12514317849138532\n",
      "  (0, 3180132)\t0.12775778159647128\n",
      "  (0, 1223520)\t0.13112859126352214\n",
      "  (0, 1161695)\t0.13112859126352214\n",
      "  (0, 1975517)\t0.11702147943308851\n",
      "  (0, 3557148)\t0.10832809943674199\n",
      "  (0, 2521950)\t0.11825600281397936\n",
      "  (0, 2170149)\t0.12775778159647128\n",
      "  :\t:\n",
      "  (0, 2988010)\t0.07626742779830023\n",
      "  (0, 2229634)\t0.03824447097334365\n",
      "  (0, 850582)\t0.029314936804995025\n",
      "  (0, 2451916)\t0.03756824214913347\n",
      "  (0, 3629403)\t0.06543030147908385\n",
      "  (0, 1477502)\t0.02907410286652443\n",
      "  (0, 2283213)\t0.04198993636154726\n",
      "  (0, 1218583)\t0.06224743261419235\n",
      "  (0, 3641481)\t0.027581391423501172\n",
      "  (0, 2111230)\t0.03818964235770113\n",
      "  (0, 2654020)\t0.02979826918643031\n",
      "  (0, 3590743)\t0.07394576832520579\n",
      "  (0, 3455786)\t0.056851530504813806\n",
      "  (0, 1408629)\t0.09642442098141671\n",
      "  (0, 3722979)\t0.04279071649901254\n",
      "  (0, 153398)\t0.03938154265509892\n",
      "  (0, 905101)\t0.06692749046938518\n",
      "  (0, 1593071)\t0.04226670876221121\n",
      "  (0, 1192107)\t0.06160931841551426\n",
      "  (0, 2473844)\t0.0734805107795811\n",
      "  (0, 3463142)\t0.058684201233628844\n",
      "  (0, 2181632)\t0.04590336419452168\n",
      "  (0, 3417151)\t0.04215796885707378\n",
      "  (0, 874384)\t0.04573124803176539\n",
      "  (0, 699383)\t0.10076490092001875\n"
     ]
    }
   ],
   "source": [
    "print(X_train_tv[0])"
   ]
  },
  {
   "cell_type": "code",
   "execution_count": 63,
   "metadata": {},
   "outputs": [
    {
     "name": "stdout",
     "output_type": "stream",
     "text": [
      "[[0. 0. 0. ... 0. 0. 0.]\n",
      " [0. 0. 0. ... 0. 0. 0.]\n",
      " [0. 0. 0. ... 0. 0. 0.]\n",
      " [0. 0. 0. ... 0. 0. 0.]\n",
      " [0. 0. 0. ... 0. 0. 0.]]\n"
     ]
    }
   ],
   "source": [
    "print(X_train_tv[0:5].toarray())"
   ]
  },
  {
   "cell_type": "code",
   "execution_count": 64,
   "metadata": {},
   "outputs": [
    {
     "name": "stdout",
     "output_type": "stream",
     "text": [
      "X_train:  (80000, 4156166)\n",
      "y_train:  (80000,)\n",
      "X_test:  (20000, 4156166)\n",
      "y_test:  (20000,)\n"
     ]
    }
   ],
   "source": [
    "print(\"X_train: \", X_train_tv.shape)\n",
    "print(\"y_train: \", y_train.shape)\n",
    "print(\"X_test: \", X_test_tv.shape)\n",
    "print(\"y_test: \", y_test.shape)"
   ]
  },
  {
   "cell_type": "markdown",
   "metadata": {},
   "source": [
    "#### Multinomial naive bayes"
   ]
  },
  {
   "cell_type": "code",
   "execution_count": 66,
   "metadata": {},
   "outputs": [
    {
     "data": {
      "text/plain": [
       "MultinomialNB()"
      ]
     },
     "execution_count": 66,
     "metadata": {},
     "output_type": "execute_result"
    }
   ],
   "source": [
    "clf.fit(X_train_tv, y_train)"
   ]
  },
  {
   "cell_type": "code",
   "execution_count": 67,
   "metadata": {},
   "outputs": [],
   "source": [
    "y_pred = clf.predict(X_test_tv)"
   ]
  },
  {
   "cell_type": "code",
   "execution_count": 68,
   "metadata": {},
   "outputs": [
    {
     "name": "stdout",
     "output_type": "stream",
     "text": [
      "Accuracy score:  0.34895\n",
      "F1 score:  0.34895\n",
      "Precision score:  0.34895\n",
      "Recall score:  0.34895\n"
     ]
    }
   ],
   "source": [
    "print('Accuracy score: ', accuracy_score(y_test, y_pred))\n",
    "print('F1 score: ', f1_score(y_test, y_pred, average='micro'))\n",
    "print('Precision score: ', precision_score(y_test, y_pred, average='micro'))\n",
    "print('Recall score: ', recall_score(y_test, y_pred, average='micro'))"
   ]
  },
  {
   "cell_type": "markdown",
   "metadata": {},
   "source": [
    "#### Support vector classfier"
   ]
  },
  {
   "cell_type": "code",
   "execution_count": 69,
   "metadata": {},
   "outputs": [
    {
     "data": {
      "text/plain": [
       "SGDClassifier()"
      ]
     },
     "execution_count": 69,
     "metadata": {},
     "output_type": "execute_result"
    }
   ],
   "source": [
    "svm.fit(X_train_tv,y_train)"
   ]
  },
  {
   "cell_type": "code",
   "execution_count": 70,
   "metadata": {},
   "outputs": [],
   "source": [
    "y_pred1 = svm.predict(X_test_tv)"
   ]
  },
  {
   "cell_type": "code",
   "execution_count": 71,
   "metadata": {},
   "outputs": [
    {
     "name": "stdout",
     "output_type": "stream",
     "text": [
      "Accuracy score:  0.51725\n",
      "F1 score:  0.51725\n",
      "Precision score:  0.51725\n",
      "Recall score:  0.51725\n"
     ]
    }
   ],
   "source": [
    "print('Accuracy score: ', accuracy_score(y_test, y_pred1))\n",
    "print('F1 score: ', f1_score(y_test, y_pred1, average='micro'))\n",
    "print('Precision score: ', precision_score(y_test, y_pred1, average='micro'))\n",
    "print('Recall score: ', recall_score(y_test, y_pred1, average='micro'))"
   ]
  },
  {
   "cell_type": "code",
   "execution_count": null,
   "metadata": {},
   "outputs": [],
   "source": []
  },
  {
   "cell_type": "markdown",
   "metadata": {},
   "source": [
    "# Predictions"
   ]
  },
  {
   "cell_type": "code",
   "execution_count": 72,
   "metadata": {
    "id": "D3HtylckQ-4b"
   },
   "outputs": [],
   "source": [
    "y_test_inversed = labelencoder.inverse_transform(y_test)"
   ]
  },
  {
   "cell_type": "code",
   "execution_count": 73,
   "metadata": {
    "id": "cBviAVTMRqKr"
   },
   "outputs": [],
   "source": [
    "Ypred_inversed = labelencoder.inverse_transform(y_pred1)"
   ]
  },
  {
   "cell_type": "code",
   "execution_count": 81,
   "metadata": {},
   "outputs": [
    {
     "name": "stdout",
     "output_type": "stream",
     "text": [
      "Text:\turllink uses pay phones days beaverton nbsp urllink\n",
      "True labels:\tMarketing\n",
      "Predicted labels:\tindUnk\n",
      "\n",
      "\n",
      "Text:\twell hope great evening take online test tomorrow wish luck good night good one ms walk looking forward\n",
      "True labels:\tStudent\n",
      "Predicted labels:\tStudent\n",
      "\n",
      "\n",
      "Text:\te\n",
      "True labels:\tConsulting\n",
      "Predicted labels:\tindUnk\n",
      "\n",
      "\n",
      "Text:\tfeel miserable day work got msg going zouk call muz send hurting msgs miss guess busy think juz invisible\n",
      "True labels:\tManufacturing\n",
      "Predicted labels:\tindUnk\n",
      "\n",
      "\n",
      "Text:\twell tot today would nice dae dat stupid peijun spoil good day woke early come skool enjoy basketball match klass game hell fun scored first one almost scored three pointer ball hit rim go rebounce hard den bounce crap haha recess found amanda leaving bad la shes gonna cum bak december goin ice skating championships pro worx shall wish good luck come bak prize okies recess dat bitchy jun go tell tan ask shanx tok wat crap shanx also dowan tok siaozer betray frist ppl forgif liaos tok nicely nbsp shout ok hu da rong nbsp gals side kies tink dat div shak fren pui dey hate hahahhahahhahas man ppl real good frenx lurf dem eva nbsp freak tan scolded lorx hu tink cum interfere friendship life bitch made make frenx dat fukker jun made pollute hand shakin hands pui ive got polluted hands eeks well haf washed dem many times liaos haha cry lunch goin da toilet haha thier polluted anymore hahahhahahahahha skool shak came moi house helped get dat bitch haha nice fren horx dam nice wun forget life shak left stupid xun look ppl cant stand animore whole nbsp dae look ppl hate like gw pissed nbsp nbsp nbsp\n",
      "True labels:\tindUnk\n",
      "Predicted labels:\tStudent\n",
      "\n",
      "\n"
     ]
    }
   ],
   "source": [
    "for i in range(5):\n",
    "    print('Text:\\t{}\\nTrue labels:\\t{}\\nPredicted labels:\\t{}\\n\\n'.format(\n",
    "        X_test[i],\n",
    "        y_test_inversed[i],\n",
    "        Ypred_inversed[i]\n",
    "    ))"
   ]
  },
  {
   "cell_type": "markdown",
   "metadata": {},
   "source": [
    "## Performance"
   ]
  },
  {
   "cell_type": "markdown",
   "metadata": {},
   "source": [
    "1. Tdidf performed better because it penalizes more for a word which is repeated over maximum number of documents and gives importance to a word that is often repeated in the same document, which means the key word. "
   ]
  },
  {
   "cell_type": "markdown",
   "metadata": {},
   "source": [
    "2. SVM with SGD training:\\\n",
    "This estimator implements regularized linear models with stochastic gradient descent (SGD) learning: the gradient of the loss is estimated each sample at a time and the model is updated along the way with a decreasing strength schedule (aka learning rate)."
   ]
  },
  {
   "cell_type": "markdown",
   "metadata": {},
   "source": [
    "Accuracy score is given more importance for the best model predictions"
   ]
  },
  {
   "cell_type": "code",
   "execution_count": null,
   "metadata": {},
   "outputs": [],
   "source": []
  },
  {
   "cell_type": "code",
   "execution_count": null,
   "metadata": {},
   "outputs": [],
   "source": []
  },
  {
   "cell_type": "code",
   "execution_count": null,
   "metadata": {},
   "outputs": [],
   "source": []
  },
  {
   "cell_type": "markdown",
   "metadata": {},
   "source": [
    "# GL chatbot"
   ]
  },
  {
   "cell_type": "code",
   "execution_count": 82,
   "metadata": {},
   "outputs": [],
   "source": [
    "import json"
   ]
  },
  {
   "cell_type": "code",
   "execution_count": 83,
   "metadata": {},
   "outputs": [],
   "source": [
    "with open('glbot.json') as f:\n",
    "    corpus = json.load(f)"
   ]
  },
  {
   "cell_type": "code",
   "execution_count": 84,
   "metadata": {},
   "outputs": [
    {
     "name": "stdout",
     "output_type": "stream",
     "text": [
      "{'intents': [{'tag': 'Intro', 'patterns': ['hi', 'how are you', 'is anyone there', 'hello', 'whats up', 'hey', 'yo', 'listen', 'please help me', 'i am learner from', 'i belong to', 'aiml batch', 'aifl batch', 'i am from', 'my pm is', 'blended', 'online', 'i am from', 'hey ya', 'talking to you for first time'], 'responses': ['Hello! how can i help you ?'], 'context_set': ''}, {'tag': 'Exit', 'patterns': ['thank you', 'thanks', 'cya', 'see you', 'later', 'see you later', 'goodbye', 'i am leaving', 'have a Good day', 'you helped me', 'thanks a lot', 'thanks a ton', 'you are the best', 'great help', 'too good', 'you are a good learning buddy'], 'responses': ['I hope I was able to assist you, Good Bye'], 'context_set': ''}, {'tag': 'Olympus', 'patterns': ['olympus', 'explain me how olympus works', 'I am not able to understand olympus', 'olympus window not working', 'no access to olympus', 'unable to see link in olympus', 'no link visible on olympus', 'whom to contact for olympus', 'lot of problem with olympus', 'olypus is not a good tool', 'lot of problems with olympus', 'how to use olympus', 'teach me olympus'], 'responses': ['Link: Olympus wiki'], 'context_set': ''}, {'tag': 'SL', 'patterns': ['i am not able to understand svm', 'explain me how machine learning works', 'i am not able to understand naive bayes', 'i am not able to understand logistic regression', 'i am not able to understand ensemble techb=niques', 'i am not able to understand knn', 'i am not able to understand knn imputer', 'i am not able to understand cross validation', 'i am not able to understand boosting', 'i am not able to understand random forest', 'i am not able to understand ada boosting', 'i am not able to understand gradient boosting', 'machine learning', 'ML', 'SL', 'supervised learning', 'knn', 'logistic regression', 'regression', 'classification', 'naive bayes', 'nb', 'ensemble techniques', 'bagging', 'boosting', 'ada boosting', 'ada', 'gradient boosting', 'hyper parameters'], 'responses': ['Link: Machine Learning wiki '], 'context_set': ''}, {'tag': 'NN', 'patterns': ['what is deep learning', 'unable to understand deep learning', 'explain me how deep learning works', 'i am not able to understand deep learning', 'not able to understand neural nets', 'very diffult to understand neural nets', 'unable to understand neural nets', 'ann', 'artificial intelligence', 'artificial neural networks', 'weights', 'activation function', 'hidden layers', 'softmax', 'sigmoid', 'relu', 'otimizer', 'forward propagation', 'backward propagation', 'epochs', 'epoch', 'what is an epoch', 'adam', 'sgd'], 'responses': ['Link: Neural Nets wiki'], 'context_set': ''}, {'tag': 'Bot', 'patterns': ['what is your name', 'who are you', 'name please', 'when are your hours of opertions', 'what are your working hours', 'hours of operation', 'working hours', 'hours'], 'responses': ['I am your virtual learning assistant'], 'context_set': ''}, {'tag': 'Profane', 'patterns': ['what the hell', 'bloody stupid bot', 'do you think you are very smart', 'screw you', 'i hate you', 'you are stupid', 'jerk', 'you are a joke', 'useless piece of shit'], 'responses': ['Please use respectful words'], 'context_set': ''}, {'tag': 'Ticket', 'patterns': ['my problem is not solved', 'you did not help me', 'not a good solution', 'bad solution', 'not good solution', 'no help', 'wasted my time', 'useless bot', 'create a ticket'], 'responses': ['Tarnsferring the request to your PM'], 'context_set': ''}]}\n"
     ]
    }
   ],
   "source": [
    "print(corpus)"
   ]
  },
  {
   "cell_type": "code",
   "execution_count": 85,
   "metadata": {},
   "outputs": [
    {
     "data": {
      "text/plain": [
       "dict"
      ]
     },
     "execution_count": 85,
     "metadata": {},
     "output_type": "execute_result"
    }
   ],
   "source": [
    "type(corpus)"
   ]
  },
  {
   "cell_type": "code",
   "execution_count": 86,
   "metadata": {},
   "outputs": [
    {
     "name": "stderr",
     "output_type": "stream",
     "text": [
      "[nltk_data] Downloading package punkt to\n",
      "[nltk_data]     C:\\Users\\arunv\\AppData\\Roaming\\nltk_data...\n",
      "[nltk_data]   Package punkt is already up-to-date!\n"
     ]
    },
    {
     "data": {
      "text/plain": [
       "True"
      ]
     },
     "execution_count": 86,
     "metadata": {},
     "output_type": "execute_result"
    }
   ],
   "source": [
    "import nltk\n",
    "nltk.download('punkt')"
   ]
  },
  {
   "cell_type": "code",
   "execution_count": 87,
   "metadata": {},
   "outputs": [
    {
     "data": {
      "text/plain": [
       "[{'tag': 'Intro',\n",
       "  'patterns': ['hi',\n",
       "   'how are you',\n",
       "   'is anyone there',\n",
       "   'hello',\n",
       "   'whats up',\n",
       "   'hey',\n",
       "   'yo',\n",
       "   'listen',\n",
       "   'please help me',\n",
       "   'i am learner from',\n",
       "   'i belong to',\n",
       "   'aiml batch',\n",
       "   'aifl batch',\n",
       "   'i am from',\n",
       "   'my pm is',\n",
       "   'blended',\n",
       "   'online',\n",
       "   'i am from',\n",
       "   'hey ya',\n",
       "   'talking to you for first time'],\n",
       "  'responses': ['Hello! how can i help you ?'],\n",
       "  'context_set': ''},\n",
       " {'tag': 'Exit',\n",
       "  'patterns': ['thank you',\n",
       "   'thanks',\n",
       "   'cya',\n",
       "   'see you',\n",
       "   'later',\n",
       "   'see you later',\n",
       "   'goodbye',\n",
       "   'i am leaving',\n",
       "   'have a Good day',\n",
       "   'you helped me',\n",
       "   'thanks a lot',\n",
       "   'thanks a ton',\n",
       "   'you are the best',\n",
       "   'great help',\n",
       "   'too good',\n",
       "   'you are a good learning buddy'],\n",
       "  'responses': ['I hope I was able to assist you, Good Bye'],\n",
       "  'context_set': ''},\n",
       " {'tag': 'Olympus',\n",
       "  'patterns': ['olympus',\n",
       "   'explain me how olympus works',\n",
       "   'I am not able to understand olympus',\n",
       "   'olympus window not working',\n",
       "   'no access to olympus',\n",
       "   'unable to see link in olympus',\n",
       "   'no link visible on olympus',\n",
       "   'whom to contact for olympus',\n",
       "   'lot of problem with olympus',\n",
       "   'olypus is not a good tool',\n",
       "   'lot of problems with olympus',\n",
       "   'how to use olympus',\n",
       "   'teach me olympus'],\n",
       "  'responses': ['Link: Olympus wiki'],\n",
       "  'context_set': ''},\n",
       " {'tag': 'SL',\n",
       "  'patterns': ['i am not able to understand svm',\n",
       "   'explain me how machine learning works',\n",
       "   'i am not able to understand naive bayes',\n",
       "   'i am not able to understand logistic regression',\n",
       "   'i am not able to understand ensemble techb=niques',\n",
       "   'i am not able to understand knn',\n",
       "   'i am not able to understand knn imputer',\n",
       "   'i am not able to understand cross validation',\n",
       "   'i am not able to understand boosting',\n",
       "   'i am not able to understand random forest',\n",
       "   'i am not able to understand ada boosting',\n",
       "   'i am not able to understand gradient boosting',\n",
       "   'machine learning',\n",
       "   'ML',\n",
       "   'SL',\n",
       "   'supervised learning',\n",
       "   'knn',\n",
       "   'logistic regression',\n",
       "   'regression',\n",
       "   'classification',\n",
       "   'naive bayes',\n",
       "   'nb',\n",
       "   'ensemble techniques',\n",
       "   'bagging',\n",
       "   'boosting',\n",
       "   'ada boosting',\n",
       "   'ada',\n",
       "   'gradient boosting',\n",
       "   'hyper parameters'],\n",
       "  'responses': ['Link: Machine Learning wiki '],\n",
       "  'context_set': ''},\n",
       " {'tag': 'NN',\n",
       "  'patterns': ['what is deep learning',\n",
       "   'unable to understand deep learning',\n",
       "   'explain me how deep learning works',\n",
       "   'i am not able to understand deep learning',\n",
       "   'not able to understand neural nets',\n",
       "   'very diffult to understand neural nets',\n",
       "   'unable to understand neural nets',\n",
       "   'ann',\n",
       "   'artificial intelligence',\n",
       "   'artificial neural networks',\n",
       "   'weights',\n",
       "   'activation function',\n",
       "   'hidden layers',\n",
       "   'softmax',\n",
       "   'sigmoid',\n",
       "   'relu',\n",
       "   'otimizer',\n",
       "   'forward propagation',\n",
       "   'backward propagation',\n",
       "   'epochs',\n",
       "   'epoch',\n",
       "   'what is an epoch',\n",
       "   'adam',\n",
       "   'sgd'],\n",
       "  'responses': ['Link: Neural Nets wiki'],\n",
       "  'context_set': ''},\n",
       " {'tag': 'Bot',\n",
       "  'patterns': ['what is your name',\n",
       "   'who are you',\n",
       "   'name please',\n",
       "   'when are your hours of opertions',\n",
       "   'what are your working hours',\n",
       "   'hours of operation',\n",
       "   'working hours',\n",
       "   'hours'],\n",
       "  'responses': ['I am your virtual learning assistant'],\n",
       "  'context_set': ''},\n",
       " {'tag': 'Profane',\n",
       "  'patterns': ['what the hell',\n",
       "   'bloody stupid bot',\n",
       "   'do you think you are very smart',\n",
       "   'screw you',\n",
       "   'i hate you',\n",
       "   'you are stupid',\n",
       "   'jerk',\n",
       "   'you are a joke',\n",
       "   'useless piece of shit'],\n",
       "  'responses': ['Please use respectful words'],\n",
       "  'context_set': ''},\n",
       " {'tag': 'Ticket',\n",
       "  'patterns': ['my problem is not solved',\n",
       "   'you did not help me',\n",
       "   'not a good solution',\n",
       "   'bad solution',\n",
       "   'not good solution',\n",
       "   'no help',\n",
       "   'wasted my time',\n",
       "   'useless bot',\n",
       "   'create a ticket'],\n",
       "  'responses': ['Tarnsferring the request to your PM'],\n",
       "  'context_set': ''}]"
      ]
     },
     "execution_count": 87,
     "metadata": {},
     "output_type": "execute_result"
    }
   ],
   "source": [
    "corpus['intents']"
   ]
  },
  {
   "cell_type": "code",
   "execution_count": 88,
   "metadata": {},
   "outputs": [],
   "source": [
    "W = []  # Tokens\n",
    "L = []  # Labels\n",
    "doc_x = [] # sentence tokens\n",
    "doc_y = [] \n",
    "\n",
    "for intent in corpus['intents']:\n",
    "    for pattern in intent['patterns']:\n",
    "        w_temp = nltk.word_tokenize(pattern)\n",
    "        W.extend(w_temp)\n",
    "        doc_x.append(w_temp)\n",
    "        doc_y.append(intent['tag'])\n",
    "\n",
    "    if intent['tag'] not in L:\n",
    "        L.append(intent['tag'])"
   ]
  },
  {
   "cell_type": "code",
   "execution_count": 89,
   "metadata": {},
   "outputs": [
    {
     "name": "stdout",
     "output_type": "stream",
     "text": [
      "['hi', 'how', 'are', 'you', 'is', 'anyone', 'there', 'hello', 'whats', 'up', 'hey', 'yo', 'listen', 'please', 'help', 'me', 'i', 'am', 'learner', 'from', 'i', 'belong', 'to', 'aiml', 'batch', 'aifl', 'batch', 'i', 'am', 'from', 'my', 'pm', 'is', 'blended', 'online', 'i', 'am', 'from', 'hey', 'ya', 'talking', 'to', 'you', 'for', 'first', 'time', 'thank', 'you', 'thanks', 'cya', 'see', 'you', 'later', 'see', 'you', 'later', 'goodbye', 'i', 'am', 'leaving', 'have', 'a', 'Good', 'day', 'you', 'helped', 'me', 'thanks', 'a', 'lot', 'thanks', 'a', 'ton', 'you', 'are', 'the', 'best', 'great', 'help', 'too', 'good', 'you', 'are', 'a', 'good', 'learning', 'buddy', 'olympus', 'explain', 'me', 'how', 'olympus', 'works', 'I', 'am', 'not', 'able', 'to', 'understand', 'olympus', 'olympus', 'window', 'not', 'working', 'no', 'access', 'to', 'olympus', 'unable', 'to', 'see', 'link', 'in', 'olympus', 'no', 'link', 'visible', 'on', 'olympus', 'whom', 'to', 'contact', 'for', 'olympus', 'lot', 'of', 'problem', 'with', 'olympus', 'olypus', 'is', 'not', 'a', 'good', 'tool', 'lot', 'of', 'problems', 'with', 'olympus', 'how', 'to', 'use', 'olympus', 'teach', 'me', 'olympus', 'i', 'am', 'not', 'able', 'to', 'understand', 'svm', 'explain', 'me', 'how', 'machine', 'learning', 'works', 'i', 'am', 'not', 'able', 'to', 'understand', 'naive', 'bayes', 'i', 'am', 'not', 'able', 'to', 'understand', 'logistic', 'regression', 'i', 'am', 'not', 'able', 'to', 'understand', 'ensemble', 'techb=niques', 'i', 'am', 'not', 'able', 'to', 'understand', 'knn', 'i', 'am', 'not', 'able', 'to', 'understand', 'knn', 'imputer', 'i', 'am', 'not', 'able', 'to', 'understand', 'cross', 'validation', 'i', 'am', 'not', 'able', 'to', 'understand', 'boosting', 'i', 'am', 'not', 'able', 'to', 'understand', 'random', 'forest', 'i', 'am', 'not', 'able', 'to', 'understand', 'ada', 'boosting', 'i', 'am', 'not', 'able', 'to', 'understand', 'gradient', 'boosting', 'machine', 'learning', 'ML', 'SL', 'supervised', 'learning', 'knn', 'logistic', 'regression', 'regression', 'classification', 'naive', 'bayes', 'nb', 'ensemble', 'techniques', 'bagging', 'boosting', 'ada', 'boosting', 'ada', 'gradient', 'boosting', 'hyper', 'parameters', 'what', 'is', 'deep', 'learning', 'unable', 'to', 'understand', 'deep', 'learning', 'explain', 'me', 'how', 'deep', 'learning', 'works', 'i', 'am', 'not', 'able', 'to', 'understand', 'deep', 'learning', 'not', 'able', 'to', 'understand', 'neural', 'nets', 'very', 'diffult', 'to', 'understand', 'neural', 'nets', 'unable', 'to', 'understand', 'neural', 'nets', 'ann', 'artificial', 'intelligence', 'artificial', 'neural', 'networks', 'weights', 'activation', 'function', 'hidden', 'layers', 'softmax', 'sigmoid', 'relu', 'otimizer', 'forward', 'propagation', 'backward', 'propagation', 'epochs', 'epoch', 'what', 'is', 'an', 'epoch', 'adam', 'sgd', 'what', 'is', 'your', 'name', 'who', 'are', 'you', 'name', 'please', 'when', 'are', 'your', 'hours', 'of', 'opertions', 'what', 'are', 'your', 'working', 'hours', 'hours', 'of', 'operation', 'working', 'hours', 'hours', 'what', 'the', 'hell', 'bloody', 'stupid', 'bot', 'do', 'you', 'think', 'you', 'are', 'very', 'smart', 'screw', 'you', 'i', 'hate', 'you', 'you', 'are', 'stupid', 'jerk', 'you', 'are', 'a', 'joke', 'useless', 'piece', 'of', 'shit', 'my', 'problem', 'is', 'not', 'solved', 'you', 'did', 'not', 'help', 'me', 'not', 'a', 'good', 'solution', 'bad', 'solution', 'not', 'good', 'solution', 'no', 'help', 'wasted', 'my', 'time', 'useless', 'bot', 'create', 'a', 'ticket']\n"
     ]
    }
   ],
   "source": [
    "print(W)"
   ]
  },
  {
   "cell_type": "code",
   "execution_count": 90,
   "metadata": {},
   "outputs": [
    {
     "name": "stdout",
     "output_type": "stream",
     "text": [
      "['Intro', 'Exit', 'Olympus', 'SL', 'NN', 'Bot', 'Profane', 'Ticket']\n"
     ]
    }
   ],
   "source": [
    "print(L)"
   ]
  },
  {
   "cell_type": "code",
   "execution_count": 91,
   "metadata": {},
   "outputs": [
    {
     "name": "stdout",
     "output_type": "stream",
     "text": [
      "[['hi'], ['how', 'are', 'you'], ['is', 'anyone', 'there'], ['hello'], ['whats', 'up'], ['hey'], ['yo'], ['listen'], ['please', 'help', 'me'], ['i', 'am', 'learner', 'from'], ['i', 'belong', 'to'], ['aiml', 'batch'], ['aifl', 'batch'], ['i', 'am', 'from'], ['my', 'pm', 'is'], ['blended'], ['online'], ['i', 'am', 'from'], ['hey', 'ya'], ['talking', 'to', 'you', 'for', 'first', 'time'], ['thank', 'you'], ['thanks'], ['cya'], ['see', 'you'], ['later'], ['see', 'you', 'later'], ['goodbye'], ['i', 'am', 'leaving'], ['have', 'a', 'Good', 'day'], ['you', 'helped', 'me'], ['thanks', 'a', 'lot'], ['thanks', 'a', 'ton'], ['you', 'are', 'the', 'best'], ['great', 'help'], ['too', 'good'], ['you', 'are', 'a', 'good', 'learning', 'buddy'], ['olympus'], ['explain', 'me', 'how', 'olympus', 'works'], ['I', 'am', 'not', 'able', 'to', 'understand', 'olympus'], ['olympus', 'window', 'not', 'working'], ['no', 'access', 'to', 'olympus'], ['unable', 'to', 'see', 'link', 'in', 'olympus'], ['no', 'link', 'visible', 'on', 'olympus'], ['whom', 'to', 'contact', 'for', 'olympus'], ['lot', 'of', 'problem', 'with', 'olympus'], ['olypus', 'is', 'not', 'a', 'good', 'tool'], ['lot', 'of', 'problems', 'with', 'olympus'], ['how', 'to', 'use', 'olympus'], ['teach', 'me', 'olympus'], ['i', 'am', 'not', 'able', 'to', 'understand', 'svm'], ['explain', 'me', 'how', 'machine', 'learning', 'works'], ['i', 'am', 'not', 'able', 'to', 'understand', 'naive', 'bayes'], ['i', 'am', 'not', 'able', 'to', 'understand', 'logistic', 'regression'], ['i', 'am', 'not', 'able', 'to', 'understand', 'ensemble', 'techb=niques'], ['i', 'am', 'not', 'able', 'to', 'understand', 'knn'], ['i', 'am', 'not', 'able', 'to', 'understand', 'knn', 'imputer'], ['i', 'am', 'not', 'able', 'to', 'understand', 'cross', 'validation'], ['i', 'am', 'not', 'able', 'to', 'understand', 'boosting'], ['i', 'am', 'not', 'able', 'to', 'understand', 'random', 'forest'], ['i', 'am', 'not', 'able', 'to', 'understand', 'ada', 'boosting'], ['i', 'am', 'not', 'able', 'to', 'understand', 'gradient', 'boosting'], ['machine', 'learning'], ['ML'], ['SL'], ['supervised', 'learning'], ['knn'], ['logistic', 'regression'], ['regression'], ['classification'], ['naive', 'bayes'], ['nb'], ['ensemble', 'techniques'], ['bagging'], ['boosting'], ['ada', 'boosting'], ['ada'], ['gradient', 'boosting'], ['hyper', 'parameters'], ['what', 'is', 'deep', 'learning'], ['unable', 'to', 'understand', 'deep', 'learning'], ['explain', 'me', 'how', 'deep', 'learning', 'works'], ['i', 'am', 'not', 'able', 'to', 'understand', 'deep', 'learning'], ['not', 'able', 'to', 'understand', 'neural', 'nets'], ['very', 'diffult', 'to', 'understand', 'neural', 'nets'], ['unable', 'to', 'understand', 'neural', 'nets'], ['ann'], ['artificial', 'intelligence'], ['artificial', 'neural', 'networks'], ['weights'], ['activation', 'function'], ['hidden', 'layers'], ['softmax'], ['sigmoid'], ['relu'], ['otimizer'], ['forward', 'propagation'], ['backward', 'propagation'], ['epochs'], ['epoch'], ['what', 'is', 'an', 'epoch'], ['adam'], ['sgd'], ['what', 'is', 'your', 'name'], ['who', 'are', 'you'], ['name', 'please'], ['when', 'are', 'your', 'hours', 'of', 'opertions'], ['what', 'are', 'your', 'working', 'hours'], ['hours', 'of', 'operation'], ['working', 'hours'], ['hours'], ['what', 'the', 'hell'], ['bloody', 'stupid', 'bot'], ['do', 'you', 'think', 'you', 'are', 'very', 'smart'], ['screw', 'you'], ['i', 'hate', 'you'], ['you', 'are', 'stupid'], ['jerk'], ['you', 'are', 'a', 'joke'], ['useless', 'piece', 'of', 'shit'], ['my', 'problem', 'is', 'not', 'solved'], ['you', 'did', 'not', 'help', 'me'], ['not', 'a', 'good', 'solution'], ['bad', 'solution'], ['not', 'good', 'solution'], ['no', 'help'], ['wasted', 'my', 'time'], ['useless', 'bot'], ['create', 'a', 'ticket']]\n"
     ]
    }
   ],
   "source": [
    "print(doc_x)"
   ]
  },
  {
   "cell_type": "code",
   "execution_count": 92,
   "metadata": {},
   "outputs": [
    {
     "name": "stdout",
     "output_type": "stream",
     "text": [
      "['Intro', 'Intro', 'Intro', 'Intro', 'Intro', 'Intro', 'Intro', 'Intro', 'Intro', 'Intro', 'Intro', 'Intro', 'Intro', 'Intro', 'Intro', 'Intro', 'Intro', 'Intro', 'Intro', 'Intro', 'Exit', 'Exit', 'Exit', 'Exit', 'Exit', 'Exit', 'Exit', 'Exit', 'Exit', 'Exit', 'Exit', 'Exit', 'Exit', 'Exit', 'Exit', 'Exit', 'Olympus', 'Olympus', 'Olympus', 'Olympus', 'Olympus', 'Olympus', 'Olympus', 'Olympus', 'Olympus', 'Olympus', 'Olympus', 'Olympus', 'Olympus', 'SL', 'SL', 'SL', 'SL', 'SL', 'SL', 'SL', 'SL', 'SL', 'SL', 'SL', 'SL', 'SL', 'SL', 'SL', 'SL', 'SL', 'SL', 'SL', 'SL', 'SL', 'SL', 'SL', 'SL', 'SL', 'SL', 'SL', 'SL', 'SL', 'NN', 'NN', 'NN', 'NN', 'NN', 'NN', 'NN', 'NN', 'NN', 'NN', 'NN', 'NN', 'NN', 'NN', 'NN', 'NN', 'NN', 'NN', 'NN', 'NN', 'NN', 'NN', 'NN', 'NN', 'Bot', 'Bot', 'Bot', 'Bot', 'Bot', 'Bot', 'Bot', 'Bot', 'Profane', 'Profane', 'Profane', 'Profane', 'Profane', 'Profane', 'Profane', 'Profane', 'Profane', 'Ticket', 'Ticket', 'Ticket', 'Ticket', 'Ticket', 'Ticket', 'Ticket', 'Ticket', 'Ticket']\n"
     ]
    }
   ],
   "source": [
    "print(doc_y)"
   ]
  },
  {
   "cell_type": "code",
   "execution_count": 93,
   "metadata": {},
   "outputs": [],
   "source": [
    "from nltk.stem import PorterStemmer\n",
    "stemmer = PorterStemmer()"
   ]
  },
  {
   "cell_type": "code",
   "execution_count": 94,
   "metadata": {},
   "outputs": [],
   "source": [
    "W = [stemmer.stem(w.lower()) for w in W if w != '?']\n",
    "W = sorted(list(set(W)))\n",
    "L = sorted(L)"
   ]
  },
  {
   "cell_type": "code",
   "execution_count": 95,
   "metadata": {},
   "outputs": [
    {
     "data": {
      "text/plain": [
       "['a', 'abl', 'access', 'activ', 'ada', 'adam', 'aifl', 'aiml', 'am', 'an']"
      ]
     },
     "execution_count": 95,
     "metadata": {},
     "output_type": "execute_result"
    }
   ],
   "source": [
    "W[0:10]"
   ]
  },
  {
   "cell_type": "code",
   "execution_count": 96,
   "metadata": {},
   "outputs": [
    {
     "data": {
      "text/plain": [
       "['Bot', 'Exit', 'Intro', 'NN', 'Olympus', 'Profane', 'SL', 'Ticket']"
      ]
     },
     "execution_count": 96,
     "metadata": {},
     "output_type": "execute_result"
    }
   ],
   "source": [
    "L"
   ]
  },
  {
   "cell_type": "code",
   "execution_count": 97,
   "metadata": {},
   "outputs": [],
   "source": [
    "Train = []\n",
    "Target = []\n",
    "\n",
    "out_empty = [0 for _ in range(len(L))]"
   ]
  },
  {
   "cell_type": "code",
   "execution_count": 98,
   "metadata": {},
   "outputs": [],
   "source": [
    "for x, doc in enumerate(doc_x):\n",
    "    bag = []\n",
    "    \n",
    "    w_temp = [stemmer.stem(w.lower()) for w in doc]\n",
    "    \n",
    "    for w in W:\n",
    "        if w in w_temp:\n",
    "            bag.append(1)\n",
    "        else:\n",
    "            bag.append(0)\n",
    "            \n",
    "    output_row = out_empty[:]\n",
    "    output_row[L.index(doc_y[x])] = 1\n",
    "    \n",
    "    Train.append(bag)\n",
    "    Target.append(output_row)"
   ]
  },
  {
   "cell_type": "code",
   "execution_count": 99,
   "metadata": {},
   "outputs": [
    {
     "data": {
      "text/plain": [
       "154"
      ]
     },
     "execution_count": 99,
     "metadata": {},
     "output_type": "execute_result"
    }
   ],
   "source": [
    "len(Train[0])"
   ]
  },
  {
   "cell_type": "code",
   "execution_count": 100,
   "metadata": {},
   "outputs": [
    {
     "data": {
      "text/plain": [
       "[[0, 0, 1, 0, 0, 0, 0, 0], [0, 0, 1, 0, 0, 0, 0, 0]]"
      ]
     },
     "execution_count": 100,
     "metadata": {},
     "output_type": "execute_result"
    }
   ],
   "source": [
    "Target[0:2]"
   ]
  },
  {
   "cell_type": "markdown",
   "metadata": {},
   "source": [
    "## model building"
   ]
  },
  {
   "cell_type": "code",
   "execution_count": 101,
   "metadata": {},
   "outputs": [],
   "source": [
    "import tensorflow as tf\n",
    "from tensorflow import keras\n",
    "from tensorflow.keras import losses\n",
    "from tensorflow.keras import optimizers\n",
    "from tensorflow.keras import Sequential\n",
    "from tensorflow.keras.layers import Dense, Dropout, BatchNormalization"
   ]
  },
  {
   "cell_type": "code",
   "execution_count": 102,
   "metadata": {},
   "outputs": [],
   "source": [
    "model = Sequential()\n",
    "model.add(Dense(64,input_dim = len(Train[0]), activation='relu'))\n",
    "model.add(BatchNormalization())\n",
    "model.add(Dense(32, activation = 'relu'))\n",
    "model.add(Dense(len(Target[0]), activation = 'softmax'))"
   ]
  },
  {
   "cell_type": "code",
   "execution_count": 103,
   "metadata": {},
   "outputs": [],
   "source": [
    "model.compile(loss='categorical_crossentropy', optimizer = optimizers.Adam(learning_rate=0.001),metrics=['accuracy'])"
   ]
  },
  {
   "cell_type": "code",
   "execution_count": 104,
   "metadata": {},
   "outputs": [
    {
     "name": "stdout",
     "output_type": "stream",
     "text": [
      "Model: \"sequential\"\n",
      "_________________________________________________________________\n",
      " Layer (type)                Output Shape              Param #   \n",
      "=================================================================\n",
      " dense (Dense)               (None, 64)                9920      \n",
      "                                                                 \n",
      " batch_normalization (BatchN  (None, 64)               256       \n",
      " ormalization)                                                   \n",
      "                                                                 \n",
      " dense_1 (Dense)             (None, 32)                2080      \n",
      "                                                                 \n",
      " dense_2 (Dense)             (None, 8)                 264       \n",
      "                                                                 \n",
      "=================================================================\n",
      "Total params: 12,520\n",
      "Trainable params: 12,392\n",
      "Non-trainable params: 128\n",
      "_________________________________________________________________\n"
     ]
    }
   ],
   "source": [
    "model.summary()"
   ]
  },
  {
   "cell_type": "code",
   "execution_count": 105,
   "metadata": {},
   "outputs": [
    {
     "name": "stdout",
     "output_type": "stream",
     "text": [
      "Epoch 1/20\n",
      "13/13 - 1s - loss: 2.3569 - accuracy: 0.1250 - 527ms/epoch - 41ms/step\n",
      "Epoch 2/20\n",
      "13/13 - 0s - loss: 2.0043 - accuracy: 0.2031 - 31ms/epoch - 2ms/step\n",
      "Epoch 3/20\n",
      "13/13 - 0s - loss: 1.6385 - accuracy: 0.4219 - 27ms/epoch - 2ms/step\n",
      "Epoch 4/20\n",
      "13/13 - 0s - loss: 1.4300 - accuracy: 0.5703 - 39ms/epoch - 3ms/step\n",
      "Epoch 5/20\n",
      "13/13 - 0s - loss: 1.2226 - accuracy: 0.6328 - 39ms/epoch - 3ms/step\n",
      "Epoch 6/20\n",
      "13/13 - 0s - loss: 1.1245 - accuracy: 0.6953 - 34ms/epoch - 3ms/step\n",
      "Epoch 7/20\n",
      "13/13 - 0s - loss: 1.0160 - accuracy: 0.7188 - 34ms/epoch - 3ms/step\n",
      "Epoch 8/20\n",
      "13/13 - 0s - loss: 0.8791 - accuracy: 0.7969 - 32ms/epoch - 2ms/step\n",
      "Epoch 9/20\n",
      "13/13 - 0s - loss: 0.8167 - accuracy: 0.8125 - 24ms/epoch - 2ms/step\n",
      "Epoch 10/20\n",
      "13/13 - 0s - loss: 0.7590 - accuracy: 0.8516 - 29ms/epoch - 2ms/step\n",
      "Epoch 11/20\n",
      "13/13 - 0s - loss: 0.6521 - accuracy: 0.9062 - 35ms/epoch - 3ms/step\n",
      "Epoch 12/20\n",
      "13/13 - 0s - loss: 0.5361 - accuracy: 0.9375 - 33ms/epoch - 3ms/step\n",
      "Epoch 13/20\n",
      "13/13 - 0s - loss: 0.5068 - accuracy: 0.9141 - 32ms/epoch - 2ms/step\n",
      "Epoch 14/20\n",
      "13/13 - 0s - loss: 0.4637 - accuracy: 0.9531 - 24ms/epoch - 2ms/step\n",
      "Epoch 15/20\n",
      "13/13 - 0s - loss: 0.3711 - accuracy: 0.9609 - 27ms/epoch - 2ms/step\n",
      "Epoch 16/20\n",
      "13/13 - 0s - loss: 0.3504 - accuracy: 0.9766 - 32ms/epoch - 2ms/step\n",
      "Epoch 17/20\n",
      "13/13 - 0s - loss: 0.3016 - accuracy: 0.9844 - 28ms/epoch - 2ms/step\n",
      "Epoch 18/20\n",
      "13/13 - 0s - loss: 0.2735 - accuracy: 0.9766 - 23ms/epoch - 2ms/step\n",
      "Epoch 19/20\n",
      "13/13 - 0s - loss: 0.2527 - accuracy: 1.0000 - 32ms/epoch - 2ms/step\n",
      "Epoch 20/20\n",
      "13/13 - 0s - loss: 0.2169 - accuracy: 1.0000 - 36ms/epoch - 3ms/step\n"
     ]
    },
    {
     "data": {
      "text/plain": [
       "<keras.callbacks.History at 0x2732adf67f0>"
      ]
     },
     "execution_count": 105,
     "metadata": {},
     "output_type": "execute_result"
    }
   ],
   "source": [
    "model.fit(Train,Target, epochs=20, batch_size=10, verbose=2)"
   ]
  },
  {
   "cell_type": "code",
   "execution_count": 106,
   "metadata": {},
   "outputs": [],
   "source": [
    "def bag_of_words(text, W):\n",
    "    bag = []\n",
    "    token = nltk.word_tokenize(text)\n",
    "    w_temp = [stemmer.stem(w.lower()) for w in token]\n",
    "    \n",
    "    for w in W:\n",
    "        if w in w_temp:\n",
    "            bag.append(1)\n",
    "        else:\n",
    "            bag.append(0)\n",
    "    return bag"
   ]
  },
  {
   "cell_type": "code",
   "execution_count": 111,
   "metadata": {},
   "outputs": [],
   "source": [
    "import numpy\n",
    "import random\n",
    "def chat():\n",
    "    print(\"Chat with GL BOT\")\n",
    "    print(\"Type 'quit' to stop, If answer is not right type '*'\")\n",
    "    while True:\n",
    "        inp = input(\"\\nYOU: \")\n",
    "        if inp.lower() == '*':\n",
    "            print(\"BOT: please rephrase your question and try again\")\n",
    "        if inp.lower() == 'quit':\n",
    "            break\n",
    "\n",
    "        results = model.predict([bag_of_words(inp,W)])\n",
    "        results_index = numpy.argmax(results)\n",
    "        tag = L[results_index]\n",
    "\n",
    "        for tg in corpus[\"intents\"]:\n",
    "            if tg['tag'] == tag:\n",
    "                responses = tg['responses']\n",
    "    \n",
    "        print(random.choice(responses))"
   ]
  },
  {
   "cell_type": "code",
   "execution_count": 112,
   "metadata": {},
   "outputs": [
    {
     "name": "stdout",
     "output_type": "stream",
     "text": [
      "Chat with GL BOT\n",
      "Type 'quit' to stop, If answer is not right type '*'\n",
      "\n",
      "YOU: hi\n",
      "1/1 [==============================] - 0s 24ms/step\n",
      "Hello! how can i help you ?\n",
      "\n",
      "YOU: explain about olympus\n",
      "1/1 [==============================] - 0s 31ms/step\n",
      "Link: Olympus wiki\n",
      "\n",
      "YOU: explain aboutdeep learning\n",
      "1/1 [==============================] - 0s 28ms/step\n",
      "Link: Machine Learning wiki \n",
      "\n",
      "YOU: i am not able to understand random forest\n",
      "1/1 [==============================] - 0s 31ms/step\n",
      "Link: Machine Learning wiki \n",
      "\n",
      "YOU: computer vision\n",
      "1/1 [==============================] - 0s 23ms/step\n",
      "Link: Machine Learning wiki \n",
      "\n",
      "YOU: i hate you\n",
      "1/1 [==============================] - 0s 32ms/step\n",
      "Please use respectful words\n",
      "\n",
      "YOU: explain about epochs\n",
      "1/1 [==============================] - 0s 38ms/step\n",
      "Link: Neural Nets wiki\n",
      "\n",
      "YOU: quit\n"
     ]
    }
   ],
   "source": [
    "chat()"
   ]
  },
  {
   "cell_type": "code",
   "execution_count": null,
   "metadata": {},
   "outputs": [],
   "source": []
  }
 ],
 "metadata": {
  "accelerator": "GPU",
  "colab": {
   "provenance": []
  },
  "gpuClass": "standard",
  "kernelspec": {
   "display_name": "Python 3 (ipykernel)",
   "language": "python",
   "name": "python3"
  },
  "language_info": {
   "codemirror_mode": {
    "name": "ipython",
    "version": 3
   },
   "file_extension": ".py",
   "mimetype": "text/x-python",
   "name": "python",
   "nbconvert_exporter": "python",
   "pygments_lexer": "ipython3",
   "version": "3.9.7"
  }
 },
 "nbformat": 4,
 "nbformat_minor": 1
}
