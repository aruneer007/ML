{
 "cells": [
  {
   "cell_type": "code",
   "execution_count": 8,
   "id": "ee65432b",
   "metadata": {},
   "outputs": [
    {
     "name": "stdout",
     "output_type": "stream",
     "text": [
      "Joint probability of the people who planned to purchase and actually placed an order is 0.200\n"
     ]
    }
   ],
   "source": [
    "#1A\n",
    "n=2000 #total no of peoples\n",
    "p=400 #planned to purchase and placed an order\n",
    "P=p/n\n",
    "print('Joint probability of the people who planned to purchase and actually placed an order is %1.3f' % P)\n"
   ]
  },
  {
   "cell_type": "code",
   "execution_count": 10,
   "id": "1569cd50",
   "metadata": {},
   "outputs": [
    {
     "name": "stdout",
     "output_type": "stream",
     "text": [
      "Joint probability of the people who planned to purchase and actually placed an order given that people planned to purchase is 0.800\n"
     ]
    }
   ],
   "source": [
    "#1B\n",
    "n=500 #total no of people planned to purchase\n",
    "p=400 #planned to purchase and placed an order\n",
    "P=p/n\n",
    "print('Joint probability of the people who planned to purchase and actually placed an order given that people planned to purchase is %1.3f' % P)"
   ]
  },
  {
   "cell_type": "code",
   "execution_count": 14,
   "id": "d61b4550",
   "metadata": {},
   "outputs": [
    {
     "data": {
      "text/plain": [
       "array([5.98736939e-01, 3.15124705e-01, 7.46347985e-02, 1.04750594e-02,\n",
       "       9.64808106e-04, 6.09352488e-05, 2.67259863e-06, 8.03789062e-08,\n",
       "       1.58642578e-09, 1.85546875e-11, 9.76562500e-14])"
      ]
     },
     "execution_count": 14,
     "metadata": {},
     "output_type": "execute_result"
    }
   ],
   "source": [
    "import numpy             as np\n",
    "import pandas            as pd\n",
    "import scipy.stats       as stats\n",
    "import matplotlib.pyplot as plt"
   ]
  },
  {
   "cell_type": "code",
   "execution_count": 15,
   "id": "f29a605e",
   "metadata": {},
   "outputs": [
    {
     "data": {
      "text/plain": [
       "array([5.98736939e-01, 3.15124705e-01, 7.46347985e-02, 1.04750594e-02,\n",
       "       9.64808106e-04, 6.09352488e-05, 2.67259863e-06, 8.03789062e-08,\n",
       "       1.58642578e-09, 1.85546875e-11, 9.76562500e-14])"
      ]
     },
     "execution_count": 15,
     "metadata": {},
     "output_type": "execute_result"
    }
   ],
   "source": [
    "p = 0.05 # failure rate for manufactured item is 5%\n",
    "n = 10   # sample size\n",
    "k = np.arange(0,11) # an array of quantiles\n",
    "binomial = stats.binom.pmf(k,n,p)\n",
    "binomial"
   ]
  },
  {
   "cell_type": "code",
   "execution_count": 18,
   "id": "26b31ea7",
   "metadata": {},
   "outputs": [
    {
     "name": "stdout",
     "output_type": "stream",
     "text": [
      "Probability that none of items defective is 0.5987\n"
     ]
    }
   ],
   "source": [
    "#2A \n",
    "\n",
    "print('Probability that none of items defective is %1.4f' %binomial[0])"
   ]
  },
  {
   "cell_type": "code",
   "execution_count": 19,
   "id": "54961457",
   "metadata": {},
   "outputs": [
    {
     "name": "stdout",
     "output_type": "stream",
     "text": [
      "Probability that exactly two items are defective is 0.3151\n"
     ]
    }
   ],
   "source": [
    "#2B\n",
    "print('Probability that exactly two items are defective is %1.4f' %binomial[1])"
   ]
  },
  {
   "cell_type": "code",
   "execution_count": 22,
   "id": "6ed097e5",
   "metadata": {},
   "outputs": [
    {
     "name": "stdout",
     "output_type": "stream",
     "text": [
      "Probability that two or fewer items are defective is 0.9885\n"
     ]
    }
   ],
   "source": [
    "#2C\n",
    "b_2 = binomial[2]+binomial[1]+binomial[0]\n",
    "print('Probability that two or fewer items are defective is %1.4f' %b_2)"
   ]
  },
  {
   "cell_type": "code",
   "execution_count": 24,
   "id": "3894e6b2",
   "metadata": {},
   "outputs": [
    {
     "name": "stdout",
     "output_type": "stream",
     "text": [
      "Probability that three or more items are defective is 0.0115\n"
     ]
    }
   ],
   "source": [
    "#2D\n",
    "b_3 = 1- (binomial[2]+binomial[1]+binomial[0])\n",
    "print('Probability that three or more items are defective is %1.4f' %b_3)"
   ]
  },
  {
   "cell_type": "code",
   "execution_count": null,
   "id": "8b28370c",
   "metadata": {},
   "outputs": [],
   "source": []
  },
  {
   "cell_type": "code",
   "execution_count": 26,
   "id": "cda03c23",
   "metadata": {},
   "outputs": [
    {
     "data": {
      "text/plain": [
       "array([0, 1, 2, 3, 4, 5, 6, 7])"
      ]
     },
     "execution_count": 26,
     "metadata": {},
     "output_type": "execute_result"
    }
   ],
   "source": [
    "#3\n",
    "rate=3\n",
    "n=np.arange(0,8)\n",
    "n"
   ]
  },
  {
   "cell_type": "code",
   "execution_count": 36,
   "id": "ed23b2c8",
   "metadata": {},
   "outputs": [
    {
     "data": {
      "text/plain": [
       "array([0.04978707, 0.19914827, 0.42319008, 0.64723189, 0.81526324,\n",
       "       0.91608206, 0.96649146, 0.9880955 ])"
      ]
     },
     "execution_count": 36,
     "metadata": {},
     "output_type": "execute_result"
    }
   ],
   "source": [
    "#3A\n",
    "poisson = stats.poisson.cdf(n,rate)\n",
    "poisson"
   ]
  },
  {
   "cell_type": "code",
   "execution_count": 37,
   "id": "2371f08e",
   "metadata": {},
   "outputs": [
    {
     "name": "stdout",
     "output_type": "stream",
     "text": [
      "Probability that he will sell some cars in a given week is 0.9502\n"
     ]
    }
   ],
   "source": [
    "p=1-poisson[0]\n",
    "print('Probability that he will sell some cars in a given week is %1.4f' %p)"
   ]
  },
  {
   "cell_type": "code",
   "execution_count": 38,
   "id": "ead899d4",
   "metadata": {},
   "outputs": [
    {
     "name": "stdout",
     "output_type": "stream",
     "text": [
      "Probability that he will sell 2 or more but less than 5 cars in a given week is 0.6161\n"
     ]
    }
   ],
   "source": [
    "#3B\n",
    "P1 = poisson[4]\n",
    "P2 = poisson[1]\n",
    "P = P1-P2\n",
    "print('Probability that he will sell 2 or more but less than 5 cars in a given week is %1.4f' %P)"
   ]
  },
  {
   "cell_type": "code",
   "execution_count": 39,
   "id": "25c4fb81",
   "metadata": {},
   "outputs": [
    {
     "data": {
      "text/plain": [
       "array([0.04978707, 0.19914827, 0.42319008, 0.64723189, 0.81526324,\n",
       "       0.91608206, 0.96649146, 0.9880955 ])"
      ]
     },
     "execution_count": 39,
     "metadata": {},
     "output_type": "execute_result"
    }
   ],
   "source": [
    "Probability_of_cars_sold_per_week = stats.poisson.cdf(n,rate)\n",
    "Probability_of_cars_sold_per_week"
   ]
  },
  {
   "cell_type": "code",
   "execution_count": 41,
   "id": "62821cf7",
   "metadata": {},
   "outputs": [
    {
     "data": {
      "image/png": "[encoded data removed]",
      "text/plain": [
       "<Figure size 432x288 with 1 Axes>"
      ]
     },
     "metadata": {
      "needs_background": "light"
     },
     "output_type": "display_data"
    }
   ],
   "source": [
    "plt.plot(n,poisson,'o-')\n",
    "plt.title('Poisson: $\\lambda$ = %i ' % rate)\n",
    "plt.ylabel('Probability_of_cars_sold_per_week')\n",
    "plt.xlabel('Number_of_cars_sold_per_week')\n",
    "plt.show()"
   ]
  },
  {
   "cell_type": "code",
   "execution_count": 54,
   "id": "cbc16006",
   "metadata": {},
   "outputs": [],
   "source": [
    "#4"
   ]
  },
  {
   "cell_type": "code",
   "execution_count": 43,
   "id": "aeb39e6f",
   "metadata": {},
   "outputs": [
    {
     "data": {
      "text/plain": [
       "array([0, 1, 2, 3])"
      ]
     },
     "execution_count": 43,
     "metadata": {},
     "output_type": "execute_result"
    }
   ],
   "source": [
    "rate=0.868\n",
    "n=np.arange(0,4)\n",
    "n\n"
   ]
  },
  {
   "cell_type": "code",
   "execution_count": 44,
   "id": "b2d1e1fb",
   "metadata": {},
   "outputs": [
    {
     "data": {
      "text/plain": [
       "array([0.41979029, 0.78416826, 0.9423083 , 0.98806349])"
      ]
     },
     "execution_count": 44,
     "metadata": {},
     "output_type": "execute_result"
    }
   ],
   "source": [
    "poisson=stats.poisson.cdf(n,rate)\n",
    "poisson"
   ]
  },
  {
   "cell_type": "code",
   "execution_count": 73,
   "id": "d0b99408",
   "metadata": {},
   "outputs": [
    {
     "data": {
      "text/plain": [
       "array([0.00229997, 0.0453721 , 0.2983559 , 0.65397203])"
      ]
     },
     "execution_count": 73,
     "metadata": {},
     "output_type": "execute_result"
    }
   ],
   "source": [
    "p = 0.868 # failure rate for manufactured item is 5%\n",
    "n = 3   # sample size\n",
    "k = np.arange(0,4) # an array of quantiles\n",
    "binomial1 = stats.binom.pmf(k,n,p)\n",
    "binomial1"
   ]
  },
  {
   "cell_type": "code",
   "execution_count": 80,
   "id": "dce80c29",
   "metadata": {},
   "outputs": [
    {
     "name": "stdout",
     "output_type": "stream",
     "text": [
      "probability that all three orders will be recognized correctly is 65.4 %\n"
     ]
    }
   ],
   "source": [
    "#4A\n",
    "binomial2 = binomial1[3]*100\n",
    "print('probability that all three orders will be recognized correctly is %2.1f' %binomial2 , '%')"
   ]
  },
  {
   "cell_type": "code",
   "execution_count": 81,
   "id": "4bcd68b8",
   "metadata": {},
   "outputs": [
    {
     "name": "stdout",
     "output_type": "stream",
     "text": [
      "probability that none of the orders will be recognized correctly is 0.23 %\n"
     ]
    }
   ],
   "source": [
    "#4B\n",
    "binomial3= binomial1[0]*100\n",
    "print('probability that none of the orders will be recognized correctly is %1.2f' %binomial3 , '%')"
   ]
  },
  {
   "cell_type": "code",
   "execution_count": 87,
   "id": "a5fb9569",
   "metadata": {},
   "outputs": [
    {
     "name": "stdout",
     "output_type": "stream",
     "text": [
      "probability that atleast two of the three orders will be recognized correctly is 95.23 %\n"
     ]
    }
   ],
   "source": [
    "#4C\n",
    "binomial4  = (binomial[2]+binomial[3])*100\n",
    "print('probability that atleast two of the three orders will be recognized correctly is %1.2f' %binomial4 , '%')"
   ]
  },
  {
   "cell_type": "code",
   "execution_count": 101,
   "id": "69f8c6f2",
   "metadata": {},
   "outputs": [
    {
     "data": {
      "text/plain": [
       "array([  0,   1,   2,   3,   4,   5,   6,   7,   8,   9,  10,  11,  12,\n",
       "        13,  14,  15,  16,  17,  18,  19,  20,  21,  22,  23,  24,  25,\n",
       "        26,  27,  28,  29,  30,  31,  32,  33,  34,  35,  36,  37,  38,\n",
       "        39,  40,  41,  42,  43,  44,  45,  46,  47,  48,  49,  50,  51,\n",
       "        52,  53,  54,  55,  56,  57,  58,  59,  60,  61,  62,  63,  64,\n",
       "        65,  66,  67,  68,  69,  70,  71,  72,  73,  74,  75,  76,  77,\n",
       "        78,  79,  80,  81,  82,  83,  84,  85,  86,  87,  88,  89,  90,\n",
       "        91,  92,  93,  94,  95,  96,  97,  98,  99, 100, 101, 102, 103,\n",
       "       104, 105, 106, 107, 108, 109, 110, 111, 112, 113, 114, 115, 116,\n",
       "       117, 118, 119, 120, 121, 122, 123, 124, 125, 126, 127, 128, 129,\n",
       "       130, 131, 132, 133, 134, 135, 136, 137, 138, 139, 140, 141, 142,\n",
       "       143, 144, 145, 146, 147, 148, 149, 150, 151, 152, 153, 154, 155,\n",
       "       156, 157, 158, 159, 160, 161, 162, 163, 164, 165, 166, 167, 168,\n",
       "       169, 170, 171, 172, 173, 174, 175, 176, 177, 178, 179, 180, 181,\n",
       "       182, 183, 184, 185, 186, 187, 188, 189, 190, 191, 192, 193, 194,\n",
       "       195, 196, 197, 198, 199, 200, 201, 202, 203, 204, 205, 206, 207,\n",
       "       208, 209, 210, 211, 212, 213, 214, 215, 216, 217, 218, 219, 220,\n",
       "       221, 222, 223, 224, 225, 226, 227, 228, 229, 230, 231, 232, 233,\n",
       "       234, 235, 236, 237, 238, 239, 240, 241, 242, 243, 244, 245, 246,\n",
       "       247, 248, 249, 250, 251, 252, 253, 254, 255, 256, 257, 258, 259,\n",
       "       260, 261, 262, 263, 264, 265, 266, 267, 268, 269, 270, 271, 272,\n",
       "       273, 274, 275, 276, 277, 278, 279, 280, 281, 282, 283, 284, 285,\n",
       "       286, 287, 288, 289, 290, 291, 292, 293, 294, 295, 296, 297, 298,\n",
       "       299, 300, 301, 302, 303, 304, 305, 306, 307, 308, 309, 310, 311,\n",
       "       312, 313, 314, 315, 316, 317, 318, 319, 320, 321, 322, 323, 324,\n",
       "       325, 326, 327, 328, 329, 330, 331, 332, 333, 334, 335, 336, 337,\n",
       "       338, 339, 340, 341, 342, 343, 344, 345, 346, 347, 348, 349, 350,\n",
       "       351, 352, 353, 354, 355, 356, 357, 358, 359, 360, 361, 362, 363,\n",
       "       364, 365, 366, 367, 368, 369, 370, 371, 372, 373, 374, 375, 376,\n",
       "       377, 378, 379, 380, 381, 382, 383, 384, 385, 386, 387, 388, 389,\n",
       "       390, 391, 392, 393, 394, 395, 396, 397, 398, 399, 400])"
      ]
     },
     "execution_count": 101,
     "metadata": {},
     "output_type": "execute_result"
    }
   ],
   "source": [
    "# 5.a publisher of non technical books takes a great pain to ensure that his books are free of typological errors, so that the \n",
    "#  probability of any given page containing atleast one such error is 0.005 and errors are independent from page to page\n",
    "#  1. probability with exactly one page with error\n",
    "#  2. atmost three pages with errors\n",
    "n=np.arange(0,401)\n",
    "p=0.005\n",
    "rate= 400*p\n",
    "rate\n",
    "n"
   ]
  },
  {
   "cell_type": "code",
   "execution_count": 104,
   "id": "0dbd139d",
   "metadata": {},
   "outputs": [
    {
     "data": {
      "text/plain": [
       "array([1.35335283e-001, 2.70670566e-001, 2.70670566e-001, 1.80447044e-001,\n",
       "       9.02235222e-002, 3.60894089e-002, 1.20298030e-002, 3.43708656e-003,\n",
       "       8.59271640e-004, 1.90949253e-004, 3.81898506e-005, 6.94360921e-006,\n",
       "       1.15726820e-006, 1.78041262e-007, 2.54344660e-008, 3.39126213e-009,\n",
       "       4.23907766e-010, 4.98715019e-011, 5.54127799e-012, 5.83292420e-013,\n",
       "       5.83292420e-014, 5.55516590e-015, 5.05015082e-016, 4.39143550e-017,\n",
       "       3.65952958e-018, 2.92762366e-019, 2.25201820e-020, 1.66816163e-021,\n",
       "       1.19154402e-022, 8.21754499e-024, 5.47836332e-025, 3.53442795e-026,\n",
       "       2.20901747e-027, 1.33879847e-028, 7.87528510e-030, 4.50016291e-031,\n",
       "       2.50009051e-032, 1.35140027e-033, 7.11263302e-035, 3.64750411e-036,\n",
       "       1.82375206e-037, 8.89635149e-039, 4.23635785e-040, 1.97039900e-041,\n",
       "       8.95635910e-043, 3.98060404e-044, 1.73069741e-045, 7.36466983e-047,\n",
       "       3.06861243e-048, 1.25249487e-049, 5.00997948e-051, 1.96469783e-052,\n",
       "       7.55653013e-054, 2.85152080e-055, 1.05611882e-056, 3.84043206e-058,\n",
       "       1.37158288e-059, 4.81257150e-061, 1.65950742e-062, 5.62544887e-064,\n",
       "       1.87514962e-065, 6.14803155e-067, 1.98323598e-068, 6.29598725e-070,\n",
       "       1.96749601e-071, 6.05383389e-073, 1.83449512e-074, 5.47610483e-076,\n",
       "       1.61061907e-077, 4.66846107e-079, 1.33384602e-080, 3.75731273e-082,\n",
       "       1.04369798e-083, 2.85944652e-085, 7.72823384e-087, 2.06086236e-088,\n",
       "       5.42332200e-090, 1.40865506e-091, 3.61193606e-093, 9.14414193e-095,\n",
       "       2.28603548e-096, 5.64453205e-098, 1.37671513e-099, 3.31738587e-101,\n",
       "       7.89853778e-103, 1.85847948e-104, 4.32204530e-106, 9.93573631e-108,\n",
       "       2.25812189e-109, 5.07443121e-111, 1.12765138e-112, 2.47835468e-114,\n",
       "       5.38772757e-116, 1.15865109e-117, 2.46521509e-119, 5.18992650e-121,\n",
       "       1.08123469e-122, 2.22934987e-124, 4.54969361e-126, 9.19130023e-128,\n",
       "       1.83826005e-129, 3.64011890e-131, 7.13748804e-133, 1.38592001e-134,\n",
       "       2.66523078e-136, 5.07663007e-138, 9.57854730e-140, 1.79038267e-141,\n",
       "       3.31552347e-143, 6.08352930e-145, 1.10609624e-146, 1.99296619e-148,\n",
       "       3.55886820e-150, 6.29888177e-152, 1.10506698e-153, 1.92185561e-155,\n",
       "       3.31354416e-157, 5.66417805e-159, 9.60030177e-161, 1.61349610e-162,\n",
       "       2.68916016e-164, 4.44489283e-166, 7.28670955e-168, 1.18483082e-169,\n",
       "       1.91101745e-171, 3.05762793e-173, 4.85337766e-175, 7.64311443e-177,\n",
       "       1.19423663e-178, 1.85152966e-180, 2.84850717e-182, 4.34886590e-184,\n",
       "       6.58919076e-186, 9.90855754e-188, 1.47888918e-189, 2.19094694e-191,\n",
       "       3.22198079e-193, 4.70362160e-195, 6.81684289e-197, 9.80840704e-199,\n",
       "       1.40120101e-200, 1.98751916e-202, 2.79932276e-204, 3.91513672e-206,\n",
       "       5.43768989e-208, 7.50026192e-210, 1.02743314e-211, 1.39786822e-213,\n",
       "       1.88901110e-215, 2.53558538e-217, 3.38078050e-219, 4.47785497e-221,\n",
       "       5.89191443e-223, 7.70184893e-225, 1.00024012e-226, 1.29063241e-228,\n",
       "       1.65465694e-230, 2.10784324e-232, 2.66815600e-234, 3.35617106e-236,\n",
       "       4.19521383e-238, 5.21144575e-240, 6.43388364e-242, 7.89433576e-244,\n",
       "       9.62723873e-246, 1.16693803e-247, 1.40594943e-249, 1.68377177e-251,\n",
       "       2.00449021e-253, 2.37217776e-255, 2.79079736e-257, 3.26409049e-259,\n",
       "       3.79545405e-261, 4.38780815e-263, 5.04345765e-265, 5.76395160e-267,\n",
       "       6.54994500e-269, 7.40106779e-271, 8.31580651e-273, 9.29140392e-275,\n",
       "       1.03237821e-276, 1.14074941e-278, 1.25357078e-280, 1.37002271e-282,\n",
       "       1.48915512e-284, 1.60989742e-286, 1.73107250e-288, 1.85141444e-290,\n",
       "       1.96958983e-292, 2.08422204e-294, 2.19391793e-296, 2.29729627e-298,\n",
       "       2.39301694e-300, 2.47981031e-302, 2.55650547e-304, 2.62205689e-306,\n",
       "       2.67556826e-308, 2.71631295e-310, 2.74375046e-312, 2.75753815e-314,\n",
       "       2.75753812e-316, 2.74381827e-318, 2.71686699e-320, 2.66795449e-322,\n",
       "       0.00000000e+000, 0.00000000e+000, 0.00000000e+000, 0.00000000e+000,\n",
       "       0.00000000e+000, 0.00000000e+000, 0.00000000e+000, 0.00000000e+000,\n",
       "       0.00000000e+000, 0.00000000e+000, 0.00000000e+000, 0.00000000e+000,\n",
       "       0.00000000e+000, 0.00000000e+000, 0.00000000e+000, 0.00000000e+000,\n",
       "       0.00000000e+000, 0.00000000e+000, 0.00000000e+000, 0.00000000e+000,\n",
       "       0.00000000e+000, 0.00000000e+000, 0.00000000e+000, 0.00000000e+000,\n",
       "       0.00000000e+000, 0.00000000e+000, 0.00000000e+000, 0.00000000e+000,\n",
       "       0.00000000e+000, 0.00000000e+000, 0.00000000e+000, 0.00000000e+000,\n",
       "       0.00000000e+000, 0.00000000e+000, 0.00000000e+000, 0.00000000e+000,\n",
       "       0.00000000e+000, 0.00000000e+000, 0.00000000e+000, 0.00000000e+000,\n",
       "       0.00000000e+000, 0.00000000e+000, 0.00000000e+000, 0.00000000e+000,\n",
       "       0.00000000e+000, 0.00000000e+000, 0.00000000e+000, 0.00000000e+000,\n",
       "       0.00000000e+000, 0.00000000e+000, 0.00000000e+000, 0.00000000e+000,\n",
       "       0.00000000e+000, 0.00000000e+000, 0.00000000e+000, 0.00000000e+000,\n",
       "       0.00000000e+000, 0.00000000e+000, 0.00000000e+000, 0.00000000e+000,\n",
       "       0.00000000e+000, 0.00000000e+000, 0.00000000e+000, 0.00000000e+000,\n",
       "       0.00000000e+000, 0.00000000e+000, 0.00000000e+000, 0.00000000e+000,\n",
       "       0.00000000e+000, 0.00000000e+000, 0.00000000e+000, 0.00000000e+000,\n",
       "       0.00000000e+000, 0.00000000e+000, 0.00000000e+000, 0.00000000e+000,\n",
       "       0.00000000e+000, 0.00000000e+000, 0.00000000e+000, 0.00000000e+000,\n",
       "       0.00000000e+000, 0.00000000e+000, 0.00000000e+000, 0.00000000e+000,\n",
       "       0.00000000e+000, 0.00000000e+000, 0.00000000e+000, 0.00000000e+000,\n",
       "       0.00000000e+000, 0.00000000e+000, 0.00000000e+000, 0.00000000e+000,\n",
       "       0.00000000e+000, 0.00000000e+000, 0.00000000e+000, 0.00000000e+000,\n",
       "       0.00000000e+000, 0.00000000e+000, 0.00000000e+000, 0.00000000e+000,\n",
       "       0.00000000e+000, 0.00000000e+000, 0.00000000e+000, 0.00000000e+000,\n",
       "       0.00000000e+000, 0.00000000e+000, 0.00000000e+000, 0.00000000e+000,\n",
       "       0.00000000e+000, 0.00000000e+000, 0.00000000e+000, 0.00000000e+000,\n",
       "       0.00000000e+000, 0.00000000e+000, 0.00000000e+000, 0.00000000e+000,\n",
       "       0.00000000e+000, 0.00000000e+000, 0.00000000e+000, 0.00000000e+000,\n",
       "       0.00000000e+000, 0.00000000e+000, 0.00000000e+000, 0.00000000e+000,\n",
       "       0.00000000e+000, 0.00000000e+000, 0.00000000e+000, 0.00000000e+000,\n",
       "       0.00000000e+000, 0.00000000e+000, 0.00000000e+000, 0.00000000e+000,\n",
       "       0.00000000e+000, 0.00000000e+000, 0.00000000e+000, 0.00000000e+000,\n",
       "       0.00000000e+000, 0.00000000e+000, 0.00000000e+000, 0.00000000e+000,\n",
       "       0.00000000e+000, 0.00000000e+000, 0.00000000e+000, 0.00000000e+000,\n",
       "       0.00000000e+000, 0.00000000e+000, 0.00000000e+000, 0.00000000e+000,\n",
       "       0.00000000e+000, 0.00000000e+000, 0.00000000e+000, 0.00000000e+000,\n",
       "       0.00000000e+000, 0.00000000e+000, 0.00000000e+000, 0.00000000e+000,\n",
       "       0.00000000e+000, 0.00000000e+000, 0.00000000e+000, 0.00000000e+000,\n",
       "       0.00000000e+000, 0.00000000e+000, 0.00000000e+000, 0.00000000e+000,\n",
       "       0.00000000e+000, 0.00000000e+000, 0.00000000e+000, 0.00000000e+000,\n",
       "       0.00000000e+000, 0.00000000e+000, 0.00000000e+000, 0.00000000e+000,\n",
       "       0.00000000e+000, 0.00000000e+000, 0.00000000e+000, 0.00000000e+000,\n",
       "       0.00000000e+000, 0.00000000e+000, 0.00000000e+000, 0.00000000e+000,\n",
       "       0.00000000e+000, 0.00000000e+000, 0.00000000e+000, 0.00000000e+000,\n",
       "       0.00000000e+000, 0.00000000e+000, 0.00000000e+000, 0.00000000e+000,\n",
       "       0.00000000e+000, 0.00000000e+000, 0.00000000e+000, 0.00000000e+000,\n",
       "       0.00000000e+000, 0.00000000e+000, 0.00000000e+000, 0.00000000e+000,\n",
       "       0.00000000e+000])"
      ]
     },
     "execution_count": 104,
     "metadata": {},
     "output_type": "execute_result"
    }
   ],
   "source": [
    "#1.\n",
    "poisson=stats.poisson.pmf(n,rate)\n",
    "poisson"
   ]
  },
  {
   "cell_type": "code",
   "execution_count": 105,
   "id": "9ff0b6ca",
   "metadata": {},
   "outputs": [
    {
     "data": {
      "text/plain": [
       "0.2706705664732254"
      ]
     },
     "execution_count": 105,
     "metadata": {},
     "output_type": "execute_result"
    }
   ],
   "source": [
    "poisson[1]"
   ]
  },
  {
   "cell_type": "code",
   "execution_count": 108,
   "id": "e9f9fb1c",
   "metadata": {},
   "outputs": [
    {
     "data": {
      "text/plain": [
       "0.857123460498547"
      ]
     },
     "execution_count": 108,
     "metadata": {},
     "output_type": "execute_result"
    }
   ],
   "source": [
    "poisson[0]+poisson[1]+poisson[2]+poisson[3]"
   ]
  },
  {
   "cell_type": "code",
   "execution_count": null,
   "id": "4e84be37",
   "metadata": {},
   "outputs": [],
   "source": []
  },
  {
   "cell_type": "code",
   "execution_count": 109,
   "id": "f9c069e1",
   "metadata": {},
   "outputs": [],
   "source": [
    "                                                        #PART B"
   ]
  },
  {
   "cell_type": "code",
   "execution_count": 88,
   "id": "af412622",
   "metadata": {},
   "outputs": [],
   "source": [
    "import pandas as pd\n",
    "import numpy as np\n",
    "import matplotlib.pyplot as plt\n",
    "import seaborn as sns\n",
    "import warnings\n",
    "warnings.filterwarnings(\"ignore\")\n",
    "from PIL import Image "
   ]
  },
  {
   "cell_type": "code",
   "execution_count": 51,
   "id": "ef31cfc0",
   "metadata": {},
   "outputs": [
    {
     "data": {
      "text/html": [
       "<div>\n",
       "<style scoped>\n",
       "    .dataframe tbody tr th:only-of-type {\n",
       "        vertical-align: middle;\n",
       "    }\n",
       "\n",
       "    .dataframe tbody tr th {\n",
       "        vertical-align: top;\n",
       "    }\n",
       "\n",
       "    .dataframe thead th {\n",
       "        text-align: right;\n",
       "    }\n",
       "</style>\n",
       "<table border=\"1\" class=\"dataframe\">\n",
       "  <thead>\n",
       "    <tr style=\"text-align: right;\">\n",
       "      <th></th>\n",
       "      <th>Team</th>\n",
       "      <th>Tournament</th>\n",
       "      <th>Score</th>\n",
       "      <th>PlayedGames</th>\n",
       "      <th>WonGames</th>\n",
       "      <th>DrawnGames</th>\n",
       "      <th>LostGames</th>\n",
       "      <th>BasketScored</th>\n",
       "      <th>BasketGiven</th>\n",
       "      <th>TournamentChampion</th>\n",
       "      <th>Runner-up</th>\n",
       "      <th>TeamLaunch</th>\n",
       "      <th>HighestPositionHeld</th>\n",
       "    </tr>\n",
       "  </thead>\n",
       "  <tbody>\n",
       "    <tr>\n",
       "      <th>0</th>\n",
       "      <td>Team 1</td>\n",
       "      <td>86</td>\n",
       "      <td>4385</td>\n",
       "      <td>2762</td>\n",
       "      <td>1647</td>\n",
       "      <td>552</td>\n",
       "      <td>563</td>\n",
       "      <td>5947</td>\n",
       "      <td>3140</td>\n",
       "      <td>33</td>\n",
       "      <td>23</td>\n",
       "      <td>1929</td>\n",
       "      <td>1</td>\n",
       "    </tr>\n",
       "    <tr>\n",
       "      <th>1</th>\n",
       "      <td>Team 2</td>\n",
       "      <td>86</td>\n",
       "      <td>4262</td>\n",
       "      <td>2762</td>\n",
       "      <td>1581</td>\n",
       "      <td>573</td>\n",
       "      <td>608</td>\n",
       "      <td>5900</td>\n",
       "      <td>3114</td>\n",
       "      <td>25</td>\n",
       "      <td>25</td>\n",
       "      <td>1929</td>\n",
       "      <td>1</td>\n",
       "    </tr>\n",
       "    <tr>\n",
       "      <th>2</th>\n",
       "      <td>Team 3</td>\n",
       "      <td>80</td>\n",
       "      <td>3442</td>\n",
       "      <td>2614</td>\n",
       "      <td>1241</td>\n",
       "      <td>598</td>\n",
       "      <td>775</td>\n",
       "      <td>4534</td>\n",
       "      <td>3309</td>\n",
       "      <td>10</td>\n",
       "      <td>8</td>\n",
       "      <td>1929</td>\n",
       "      <td>1</td>\n",
       "    </tr>\n",
       "    <tr>\n",
       "      <th>3</th>\n",
       "      <td>Team 4</td>\n",
       "      <td>82</td>\n",
       "      <td>3386</td>\n",
       "      <td>2664</td>\n",
       "      <td>1187</td>\n",
       "      <td>616</td>\n",
       "      <td>861</td>\n",
       "      <td>4398</td>\n",
       "      <td>3469</td>\n",
       "      <td>6</td>\n",
       "      <td>6</td>\n",
       "      <td>1931to32</td>\n",
       "      <td>1</td>\n",
       "    </tr>\n",
       "    <tr>\n",
       "      <th>4</th>\n",
       "      <td>Team 5</td>\n",
       "      <td>86</td>\n",
       "      <td>3368</td>\n",
       "      <td>2762</td>\n",
       "      <td>1209</td>\n",
       "      <td>633</td>\n",
       "      <td>920</td>\n",
       "      <td>4631</td>\n",
       "      <td>3700</td>\n",
       "      <td>8</td>\n",
       "      <td>7</td>\n",
       "      <td>1929</td>\n",
       "      <td>1</td>\n",
       "    </tr>\n",
       "  </tbody>\n",
       "</table>\n",
       "</div>"
      ],
      "text/plain": [
       "     Team  Tournament Score PlayedGames WonGames DrawnGames LostGames  \\\n",
       "0  Team 1          86  4385        2762     1647        552       563   \n",
       "1  Team 2          86  4262        2762     1581        573       608   \n",
       "2  Team 3          80  3442        2614     1241        598       775   \n",
       "3  Team 4          82  3386        2664     1187        616       861   \n",
       "4  Team 5          86  3368        2762     1209        633       920   \n",
       "\n",
       "  BasketScored BasketGiven TournamentChampion Runner-up TeamLaunch  \\\n",
       "0         5947        3140                 33        23       1929   \n",
       "1         5900        3114                 25        25       1929   \n",
       "2         4534        3309                 10         8       1929   \n",
       "3         4398        3469                  6         6   1931to32   \n",
       "4         4631        3700                  8         7       1929   \n",
       "\n",
       "   HighestPositionHeld  \n",
       "0                    1  \n",
       "1                    1  \n",
       "2                    1  \n",
       "3                    1  \n",
       "4                    1  "
      ]
     },
     "execution_count": 51,
     "metadata": {},
     "output_type": "execute_result"
    }
   ],
   "source": [
    "df1 = pd.read_csv('Basketball.csv')\n",
    "df1.head()"
   ]
  },
  {
   "cell_type": "code",
   "execution_count": 52,
   "id": "3658b24d",
   "metadata": {},
   "outputs": [
    {
     "name": "stdout",
     "output_type": "stream",
     "text": [
      "<class 'pandas.core.frame.DataFrame'>\n",
      "RangeIndex: 61 entries, 0 to 60\n",
      "Data columns (total 13 columns):\n",
      " #   Column               Non-Null Count  Dtype \n",
      "---  ------               --------------  ----- \n",
      " 0   Team                 61 non-null     object\n",
      " 1   Tournament           61 non-null     int64 \n",
      " 2   Score                61 non-null     object\n",
      " 3   PlayedGames          61 non-null     object\n",
      " 4   WonGames             61 non-null     object\n",
      " 5   DrawnGames           61 non-null     object\n",
      " 6   LostGames            61 non-null     object\n",
      " 7   BasketScored         61 non-null     object\n",
      " 8   BasketGiven          61 non-null     object\n",
      " 9   TournamentChampion   61 non-null     object\n",
      " 10  Runner-up            61 non-null     object\n",
      " 11  TeamLaunch           61 non-null     object\n",
      " 12  HighestPositionHeld  61 non-null     int64 \n",
      "dtypes: int64(2), object(11)\n",
      "memory usage: 6.3+ KB\n"
     ]
    }
   ],
   "source": [
    "df1.info()"
   ]
  },
  {
   "cell_type": "code",
   "execution_count": 53,
   "id": "ba705ed2",
   "metadata": {},
   "outputs": [
    {
     "data": {
      "text/html": [
       "<div>\n",
       "<style scoped>\n",
       "    .dataframe tbody tr th:only-of-type {\n",
       "        vertical-align: middle;\n",
       "    }\n",
       "\n",
       "    .dataframe tbody tr th {\n",
       "        vertical-align: top;\n",
       "    }\n",
       "\n",
       "    .dataframe thead th {\n",
       "        text-align: right;\n",
       "    }\n",
       "</style>\n",
       "<table border=\"1\" class=\"dataframe\">\n",
       "  <thead>\n",
       "    <tr style=\"text-align: right;\">\n",
       "      <th></th>\n",
       "      <th>Team</th>\n",
       "      <th>Tournament</th>\n",
       "      <th>Score</th>\n",
       "      <th>PlayedGames</th>\n",
       "      <th>WonGames</th>\n",
       "      <th>DrawnGames</th>\n",
       "      <th>LostGames</th>\n",
       "      <th>BasketScored</th>\n",
       "      <th>BasketGiven</th>\n",
       "      <th>TournamentChampion</th>\n",
       "      <th>Runner-up</th>\n",
       "      <th>TeamLaunch</th>\n",
       "      <th>HighestPositionHeld</th>\n",
       "    </tr>\n",
       "  </thead>\n",
       "  <tbody>\n",
       "    <tr>\n",
       "      <th>0</th>\n",
       "      <td>False</td>\n",
       "      <td>False</td>\n",
       "      <td>False</td>\n",
       "      <td>False</td>\n",
       "      <td>False</td>\n",
       "      <td>False</td>\n",
       "      <td>False</td>\n",
       "      <td>False</td>\n",
       "      <td>False</td>\n",
       "      <td>False</td>\n",
       "      <td>False</td>\n",
       "      <td>False</td>\n",
       "      <td>False</td>\n",
       "    </tr>\n",
       "    <tr>\n",
       "      <th>1</th>\n",
       "      <td>False</td>\n",
       "      <td>False</td>\n",
       "      <td>False</td>\n",
       "      <td>False</td>\n",
       "      <td>False</td>\n",
       "      <td>False</td>\n",
       "      <td>False</td>\n",
       "      <td>False</td>\n",
       "      <td>False</td>\n",
       "      <td>False</td>\n",
       "      <td>False</td>\n",
       "      <td>False</td>\n",
       "      <td>False</td>\n",
       "    </tr>\n",
       "    <tr>\n",
       "      <th>2</th>\n",
       "      <td>False</td>\n",
       "      <td>False</td>\n",
       "      <td>False</td>\n",
       "      <td>False</td>\n",
       "      <td>False</td>\n",
       "      <td>False</td>\n",
       "      <td>False</td>\n",
       "      <td>False</td>\n",
       "      <td>False</td>\n",
       "      <td>False</td>\n",
       "      <td>False</td>\n",
       "      <td>False</td>\n",
       "      <td>False</td>\n",
       "    </tr>\n",
       "    <tr>\n",
       "      <th>3</th>\n",
       "      <td>False</td>\n",
       "      <td>False</td>\n",
       "      <td>False</td>\n",
       "      <td>False</td>\n",
       "      <td>False</td>\n",
       "      <td>False</td>\n",
       "      <td>False</td>\n",
       "      <td>False</td>\n",
       "      <td>False</td>\n",
       "      <td>False</td>\n",
       "      <td>False</td>\n",
       "      <td>False</td>\n",
       "      <td>False</td>\n",
       "    </tr>\n",
       "    <tr>\n",
       "      <th>4</th>\n",
       "      <td>False</td>\n",
       "      <td>False</td>\n",
       "      <td>False</td>\n",
       "      <td>False</td>\n",
       "      <td>False</td>\n",
       "      <td>False</td>\n",
       "      <td>False</td>\n",
       "      <td>False</td>\n",
       "      <td>False</td>\n",
       "      <td>False</td>\n",
       "      <td>False</td>\n",
       "      <td>False</td>\n",
       "      <td>False</td>\n",
       "    </tr>\n",
       "    <tr>\n",
       "      <th>...</th>\n",
       "      <td>...</td>\n",
       "      <td>...</td>\n",
       "      <td>...</td>\n",
       "      <td>...</td>\n",
       "      <td>...</td>\n",
       "      <td>...</td>\n",
       "      <td>...</td>\n",
       "      <td>...</td>\n",
       "      <td>...</td>\n",
       "      <td>...</td>\n",
       "      <td>...</td>\n",
       "      <td>...</td>\n",
       "      <td>...</td>\n",
       "    </tr>\n",
       "    <tr>\n",
       "      <th>56</th>\n",
       "      <td>False</td>\n",
       "      <td>False</td>\n",
       "      <td>False</td>\n",
       "      <td>False</td>\n",
       "      <td>False</td>\n",
       "      <td>False</td>\n",
       "      <td>False</td>\n",
       "      <td>False</td>\n",
       "      <td>False</td>\n",
       "      <td>False</td>\n",
       "      <td>False</td>\n",
       "      <td>False</td>\n",
       "      <td>False</td>\n",
       "    </tr>\n",
       "    <tr>\n",
       "      <th>57</th>\n",
       "      <td>False</td>\n",
       "      <td>False</td>\n",
       "      <td>False</td>\n",
       "      <td>False</td>\n",
       "      <td>False</td>\n",
       "      <td>False</td>\n",
       "      <td>False</td>\n",
       "      <td>False</td>\n",
       "      <td>False</td>\n",
       "      <td>False</td>\n",
       "      <td>False</td>\n",
       "      <td>False</td>\n",
       "      <td>False</td>\n",
       "    </tr>\n",
       "    <tr>\n",
       "      <th>58</th>\n",
       "      <td>False</td>\n",
       "      <td>False</td>\n",
       "      <td>False</td>\n",
       "      <td>False</td>\n",
       "      <td>False</td>\n",
       "      <td>False</td>\n",
       "      <td>False</td>\n",
       "      <td>False</td>\n",
       "      <td>False</td>\n",
       "      <td>False</td>\n",
       "      <td>False</td>\n",
       "      <td>False</td>\n",
       "      <td>False</td>\n",
       "    </tr>\n",
       "    <tr>\n",
       "      <th>59</th>\n",
       "      <td>False</td>\n",
       "      <td>False</td>\n",
       "      <td>False</td>\n",
       "      <td>False</td>\n",
       "      <td>False</td>\n",
       "      <td>False</td>\n",
       "      <td>False</td>\n",
       "      <td>False</td>\n",
       "      <td>False</td>\n",
       "      <td>False</td>\n",
       "      <td>False</td>\n",
       "      <td>False</td>\n",
       "      <td>False</td>\n",
       "    </tr>\n",
       "    <tr>\n",
       "      <th>60</th>\n",
       "      <td>False</td>\n",
       "      <td>False</td>\n",
       "      <td>False</td>\n",
       "      <td>False</td>\n",
       "      <td>False</td>\n",
       "      <td>False</td>\n",
       "      <td>False</td>\n",
       "      <td>False</td>\n",
       "      <td>False</td>\n",
       "      <td>False</td>\n",
       "      <td>False</td>\n",
       "      <td>False</td>\n",
       "      <td>False</td>\n",
       "    </tr>\n",
       "  </tbody>\n",
       "</table>\n",
       "<p>61 rows × 13 columns</p>\n",
       "</div>"
      ],
      "text/plain": [
       "     Team  Tournament  Score  PlayedGames  WonGames  DrawnGames  LostGames  \\\n",
       "0   False       False  False        False     False       False      False   \n",
       "1   False       False  False        False     False       False      False   \n",
       "2   False       False  False        False     False       False      False   \n",
       "3   False       False  False        False     False       False      False   \n",
       "4   False       False  False        False     False       False      False   \n",
       "..    ...         ...    ...          ...       ...         ...        ...   \n",
       "56  False       False  False        False     False       False      False   \n",
       "57  False       False  False        False     False       False      False   \n",
       "58  False       False  False        False     False       False      False   \n",
       "59  False       False  False        False     False       False      False   \n",
       "60  False       False  False        False     False       False      False   \n",
       "\n",
       "    BasketScored  BasketGiven  TournamentChampion  Runner-up  TeamLaunch  \\\n",
       "0          False        False               False      False       False   \n",
       "1          False        False               False      False       False   \n",
       "2          False        False               False      False       False   \n",
       "3          False        False               False      False       False   \n",
       "4          False        False               False      False       False   \n",
       "..           ...          ...                 ...        ...         ...   \n",
       "56         False        False               False      False       False   \n",
       "57         False        False               False      False       False   \n",
       "58         False        False               False      False       False   \n",
       "59         False        False               False      False       False   \n",
       "60         False        False               False      False       False   \n",
       "\n",
       "    HighestPositionHeld  \n",
       "0                 False  \n",
       "1                 False  \n",
       "2                 False  \n",
       "3                 False  \n",
       "4                 False  \n",
       "..                  ...  \n",
       "56                False  \n",
       "57                False  \n",
       "58                False  \n",
       "59                False  \n",
       "60                False  \n",
       "\n",
       "[61 rows x 13 columns]"
      ]
     },
     "execution_count": 53,
     "metadata": {},
     "output_type": "execute_result"
    }
   ],
   "source": [
    "df1.isnull()"
   ]
  },
  {
   "cell_type": "code",
   "execution_count": 54,
   "id": "9906114b",
   "metadata": {},
   "outputs": [
    {
     "data": {
      "text/html": [
       "<div>\n",
       "<style scoped>\n",
       "    .dataframe tbody tr th:only-of-type {\n",
       "        vertical-align: middle;\n",
       "    }\n",
       "\n",
       "    .dataframe tbody tr th {\n",
       "        vertical-align: top;\n",
       "    }\n",
       "\n",
       "    .dataframe thead th {\n",
       "        text-align: right;\n",
       "    }\n",
       "</style>\n",
       "<table border=\"1\" class=\"dataframe\">\n",
       "  <thead>\n",
       "    <tr style=\"text-align: right;\">\n",
       "      <th></th>\n",
       "      <th>Team</th>\n",
       "      <th>Tournament</th>\n",
       "      <th>Score</th>\n",
       "      <th>PlayedGames</th>\n",
       "      <th>WonGames</th>\n",
       "      <th>DrawnGames</th>\n",
       "      <th>LostGames</th>\n",
       "      <th>BasketScored</th>\n",
       "      <th>BasketGiven</th>\n",
       "      <th>TournamentChampion</th>\n",
       "      <th>Runner-up</th>\n",
       "      <th>TeamLaunch</th>\n",
       "      <th>HighestPositionHeld</th>\n",
       "    </tr>\n",
       "  </thead>\n",
       "  <tbody>\n",
       "    <tr>\n",
       "      <th>0</th>\n",
       "      <td>Team 1</td>\n",
       "      <td>86</td>\n",
       "      <td>4385</td>\n",
       "      <td>2762</td>\n",
       "      <td>1647</td>\n",
       "      <td>552</td>\n",
       "      <td>563</td>\n",
       "      <td>5947</td>\n",
       "      <td>3140</td>\n",
       "      <td>33</td>\n",
       "      <td>23</td>\n",
       "      <td>1929</td>\n",
       "      <td>1</td>\n",
       "    </tr>\n",
       "    <tr>\n",
       "      <th>1</th>\n",
       "      <td>Team 2</td>\n",
       "      <td>86</td>\n",
       "      <td>4262</td>\n",
       "      <td>2762</td>\n",
       "      <td>1581</td>\n",
       "      <td>573</td>\n",
       "      <td>608</td>\n",
       "      <td>5900</td>\n",
       "      <td>3114</td>\n",
       "      <td>25</td>\n",
       "      <td>25</td>\n",
       "      <td>1929</td>\n",
       "      <td>1</td>\n",
       "    </tr>\n",
       "    <tr>\n",
       "      <th>2</th>\n",
       "      <td>Team 3</td>\n",
       "      <td>80</td>\n",
       "      <td>3442</td>\n",
       "      <td>2614</td>\n",
       "      <td>1241</td>\n",
       "      <td>598</td>\n",
       "      <td>775</td>\n",
       "      <td>4534</td>\n",
       "      <td>3309</td>\n",
       "      <td>10</td>\n",
       "      <td>8</td>\n",
       "      <td>1929</td>\n",
       "      <td>1</td>\n",
       "    </tr>\n",
       "    <tr>\n",
       "      <th>3</th>\n",
       "      <td>Team 4</td>\n",
       "      <td>82</td>\n",
       "      <td>3386</td>\n",
       "      <td>2664</td>\n",
       "      <td>1187</td>\n",
       "      <td>616</td>\n",
       "      <td>861</td>\n",
       "      <td>4398</td>\n",
       "      <td>3469</td>\n",
       "      <td>6</td>\n",
       "      <td>6</td>\n",
       "      <td>1931to32</td>\n",
       "      <td>1</td>\n",
       "    </tr>\n",
       "    <tr>\n",
       "      <th>4</th>\n",
       "      <td>Team 5</td>\n",
       "      <td>86</td>\n",
       "      <td>3368</td>\n",
       "      <td>2762</td>\n",
       "      <td>1209</td>\n",
       "      <td>633</td>\n",
       "      <td>920</td>\n",
       "      <td>4631</td>\n",
       "      <td>3700</td>\n",
       "      <td>8</td>\n",
       "      <td>7</td>\n",
       "      <td>1929</td>\n",
       "      <td>1</td>\n",
       "    </tr>\n",
       "    <tr>\n",
       "      <th>...</th>\n",
       "      <td>...</td>\n",
       "      <td>...</td>\n",
       "      <td>...</td>\n",
       "      <td>...</td>\n",
       "      <td>...</td>\n",
       "      <td>...</td>\n",
       "      <td>...</td>\n",
       "      <td>...</td>\n",
       "      <td>...</td>\n",
       "      <td>...</td>\n",
       "      <td>...</td>\n",
       "      <td>...</td>\n",
       "      <td>...</td>\n",
       "    </tr>\n",
       "    <tr>\n",
       "      <th>56</th>\n",
       "      <td>Team 57</td>\n",
       "      <td>1</td>\n",
       "      <td>34</td>\n",
       "      <td>38</td>\n",
       "      <td>8</td>\n",
       "      <td>10</td>\n",
       "      <td>20</td>\n",
       "      <td>38</td>\n",
       "      <td>66</td>\n",
       "      <td>-</td>\n",
       "      <td>-</td>\n",
       "      <td>2009-10</td>\n",
       "      <td>20</td>\n",
       "    </tr>\n",
       "    <tr>\n",
       "      <th>57</th>\n",
       "      <td>Team 58</td>\n",
       "      <td>1</td>\n",
       "      <td>22</td>\n",
       "      <td>30</td>\n",
       "      <td>7</td>\n",
       "      <td>8</td>\n",
       "      <td>15</td>\n",
       "      <td>37</td>\n",
       "      <td>57</td>\n",
       "      <td>-</td>\n",
       "      <td>-</td>\n",
       "      <td>1956-57</td>\n",
       "      <td>16</td>\n",
       "    </tr>\n",
       "    <tr>\n",
       "      <th>58</th>\n",
       "      <td>Team 59</td>\n",
       "      <td>1</td>\n",
       "      <td>19</td>\n",
       "      <td>30</td>\n",
       "      <td>7</td>\n",
       "      <td>5</td>\n",
       "      <td>18</td>\n",
       "      <td>51</td>\n",
       "      <td>85</td>\n",
       "      <td>-</td>\n",
       "      <td>-</td>\n",
       "      <td>1951~52</td>\n",
       "      <td>16</td>\n",
       "    </tr>\n",
       "    <tr>\n",
       "      <th>59</th>\n",
       "      <td>Team 60</td>\n",
       "      <td>1</td>\n",
       "      <td>14</td>\n",
       "      <td>30</td>\n",
       "      <td>5</td>\n",
       "      <td>4</td>\n",
       "      <td>21</td>\n",
       "      <td>34</td>\n",
       "      <td>65</td>\n",
       "      <td>-</td>\n",
       "      <td>-</td>\n",
       "      <td>1955-56</td>\n",
       "      <td>15</td>\n",
       "    </tr>\n",
       "    <tr>\n",
       "      <th>60</th>\n",
       "      <td>Team 61</td>\n",
       "      <td>1</td>\n",
       "      <td>-</td>\n",
       "      <td>-</td>\n",
       "      <td>-</td>\n",
       "      <td>-</td>\n",
       "      <td>-</td>\n",
       "      <td>-</td>\n",
       "      <td>-</td>\n",
       "      <td>-</td>\n",
       "      <td>-</td>\n",
       "      <td>2017~18</td>\n",
       "      <td>9</td>\n",
       "    </tr>\n",
       "  </tbody>\n",
       "</table>\n",
       "<p>61 rows × 13 columns</p>\n",
       "</div>"
      ],
      "text/plain": [
       "       Team  Tournament Score PlayedGames WonGames DrawnGames LostGames  \\\n",
       "0    Team 1          86  4385        2762     1647        552       563   \n",
       "1    Team 2          86  4262        2762     1581        573       608   \n",
       "2    Team 3          80  3442        2614     1241        598       775   \n",
       "3    Team 4          82  3386        2664     1187        616       861   \n",
       "4    Team 5          86  3368        2762     1209        633       920   \n",
       "..      ...         ...   ...         ...      ...        ...       ...   \n",
       "56  Team 57           1    34          38        8         10        20   \n",
       "57  Team 58           1    22          30        7          8        15   \n",
       "58  Team 59           1    19          30        7          5        18   \n",
       "59  Team 60           1    14          30        5          4        21   \n",
       "60  Team 61           1     -           -        -          -         -   \n",
       "\n",
       "   BasketScored BasketGiven TournamentChampion Runner-up TeamLaunch  \\\n",
       "0          5947        3140                 33        23       1929   \n",
       "1          5900        3114                 25        25       1929   \n",
       "2          4534        3309                 10         8       1929   \n",
       "3          4398        3469                  6         6   1931to32   \n",
       "4          4631        3700                  8         7       1929   \n",
       "..          ...         ...                ...       ...        ...   \n",
       "56           38          66                  -         -    2009-10   \n",
       "57           37          57                  -         -    1956-57   \n",
       "58           51          85                  -         -    1951~52   \n",
       "59           34          65                  -         -    1955-56   \n",
       "60            -           -                  -         -    2017~18   \n",
       "\n",
       "    HighestPositionHeld  \n",
       "0                     1  \n",
       "1                     1  \n",
       "2                     1  \n",
       "3                     1  \n",
       "4                     1  \n",
       "..                  ...  \n",
       "56                   20  \n",
       "57                   16  \n",
       "58                   16  \n",
       "59                   15  \n",
       "60                    9  \n",
       "\n",
       "[61 rows x 13 columns]"
      ]
     },
     "execution_count": 54,
     "metadata": {},
     "output_type": "execute_result"
    }
   ],
   "source": [
    "df2 = df1.dropna().copy(deep=True)\n",
    "df2"
   ]
  },
  {
   "cell_type": "code",
   "execution_count": 78,
   "id": "fead7a66",
   "metadata": {},
   "outputs": [
    {
     "ename": "NameError",
     "evalue": "name 'clean_Score' is not defined",
     "output_type": "error",
     "traceback": [
      "\u001b[1;31m---------------------------------------------------------------------------\u001b[0m",
      "\u001b[1;31mNameError\u001b[0m                                 Traceback (most recent call last)",
      "\u001b[1;32m~\\AppData\\Local\\Temp/ipykernel_12680/2613266866.py\u001b[0m in \u001b[0;36m<module>\u001b[1;34m\u001b[0m\n\u001b[1;32m----> 1\u001b[1;33m \u001b[0mdf2\u001b[0m\u001b[1;33m[\u001b[0m\u001b[1;34m'Score'\u001b[0m\u001b[1;33m]\u001b[0m\u001b[1;33m=\u001b[0m\u001b[0mdf2\u001b[0m\u001b[1;33m[\u001b[0m\u001b[1;34m'Score'\u001b[0m\u001b[1;33m]\u001b[0m\u001b[1;33m.\u001b[0m\u001b[0mapply\u001b[0m\u001b[1;33m(\u001b[0m\u001b[0mclean_Score\u001b[0m\u001b[1;33m)\u001b[0m\u001b[1;33m\u001b[0m\u001b[1;33m\u001b[0m\u001b[0m\n\u001b[0m\u001b[0;32m      2\u001b[0m \u001b[1;32mdef\u001b[0m \u001b[0mclean_Score\u001b[0m\u001b[1;33m(\u001b[0m\u001b[0mx\u001b[0m\u001b[1;33m)\u001b[0m\u001b[1;33m:\u001b[0m\u001b[1;33m\u001b[0m\u001b[1;33m\u001b[0m\u001b[0m\n\u001b[0;32m      3\u001b[0m     \u001b[1;32mtry\u001b[0m\u001b[1;33m:\u001b[0m\u001b[1;33m\u001b[0m\u001b[1;33m\u001b[0m\u001b[0m\n\u001b[0;32m      4\u001b[0m         \u001b[1;32mreturn\u001b[0m \u001b[0mint\u001b[0m\u001b[1;33m(\u001b[0m\u001b[0mx\u001b[0m\u001b[1;33m)\u001b[0m\u001b[1;33m\u001b[0m\u001b[1;33m\u001b[0m\u001b[0m\n\u001b[0;32m      5\u001b[0m     \u001b[1;32mexcept\u001b[0m\u001b[1;33m:\u001b[0m\u001b[1;33m\u001b[0m\u001b[1;33m\u001b[0m\u001b[0m\n",
      "\u001b[1;31mNameError\u001b[0m: name 'clean_Score' is not defined"
     ]
    }
   ],
   "source": [
    "df2['Score']=df2['Score'].apply(clean_Score)\n",
    "def clean_Score(x):\n",
    "    try:\n",
    "        return int(x)\n",
    "    except:\n",
    "        return np.nan\n"
   ]
  },
  {
   "cell_type": "code",
   "execution_count": 60,
   "id": "94f54d87",
   "metadata": {},
   "outputs": [
    {
     "data": {
      "text/plain": [
       "<seaborn.axisgrid.PairGrid at 0x188099afac0>"
      ]
     },
     "execution_count": 60,
     "metadata": {},
     "output_type": "execute_result"
    },
    {
     "data": {
      "image/png": "[encoded data removed]",
      "text/plain": [
       "<Figure size 360x360 with 6 Axes>"
      ]
     },
     "metadata": {
      "needs_background": "light"
     },
     "output_type": "display_data"
    }
   ],
   "source": [
    "sns.pairplot(df2)"
   ]
  },
  {
   "cell_type": "code",
   "execution_count": 48,
   "id": "29542d42",
   "metadata": {},
   "outputs": [
    {
     "data": {
      "text/plain": [
       "61"
      ]
     },
     "execution_count": 48,
     "metadata": {},
     "output_type": "execute_result"
    }
   ],
   "source": []
  },
  {
   "cell_type": "code",
   "execution_count": 8,
   "id": "a62cbcd7",
   "metadata": {},
   "outputs": [
    {
     "data": {
      "text/plain": [
       "<AxesSubplot:xlabel='Team', ylabel='Tournament'>"
      ]
     },
     "execution_count": 8,
     "metadata": {},
     "output_type": "execute_result"
    },
    {
     "data": {
      "image/png": "[encoded data removed]",
      "text/plain": [
       "<Figure size 1800x504 with 1 Axes>"
      ]
     },
     "metadata": {
      "needs_background": "light"
     },
     "output_type": "display_data"
    }
   ],
   "source": [
    "figure = plt.figure(figsize=(25,7))\n",
    "sns.scatterplot(x='Team', y='Tournament', data=df2)"
   ]
  },
  {
   "cell_type": "code",
   "execution_count": 12,
   "id": "e4e26ad5",
   "metadata": {},
   "outputs": [
    {
     "data": {
      "image/png": "[encoded data removed]",
      "text/plain": [
       "<Figure size 432x288 with 1 Axes>"
      ]
     },
     "metadata": {
      "needs_background": "light"
     },
     "output_type": "display_data"
    }
   ],
   "source": [
    "plt.hist(df2['Team'], bins= 10, facecolor= 'tan')\n",
    "plt.xlabel('Team')\n",
    "plt.ylabel('Tournament')\n",
    "plt.show()"
   ]
  },
  {
   "cell_type": "code",
   "execution_count": 62,
   "id": "b241945c",
   "metadata": {},
   "outputs": [
    {
     "data": {
      "text/plain": [
       "<AxesSubplot:xlabel='Team', ylabel='Score'>"
      ]
     },
     "execution_count": 62,
     "metadata": {},
     "output_type": "execute_result"
    },
    {
     "data": {
      "image/png": "[encoded data removed]",
      "text/plain": [
       "<Figure size 1800x504 with 1 Axes>"
      ]
     },
     "metadata": {
      "needs_background": "light"
     },
     "output_type": "display_data"
    }
   ],
   "source": [
    "figure = plt.figure(figsize=(25,7))\n",
    "sns.scatterplot(x='Team', y='Score', data=df2)"
   ]
  },
  {
   "cell_type": "code",
   "execution_count": 78,
   "id": "90be9334",
   "metadata": {},
   "outputs": [
    {
     "data": {
      "text/plain": [
       "<AxesSubplot:xlabel='Team', ylabel='PlayedGames'>"
      ]
     },
     "execution_count": 78,
     "metadata": {},
     "output_type": "execute_result"
    },
    {
     "data": {
      "image/png": "[encoded data removed]",
      "text/plain": [
       "<Figure size 1800x504 with 1 Axes>"
      ]
     },
     "metadata": {
      "needs_background": "light"
     },
     "output_type": "display_data"
    }
   ],
   "source": [
    "figure = plt.figure(figsize=(25,7))\n",
    "\n",
    "sns.scatterplot(x='Team', y='PlayedGames', data=df2)\n"
   ]
  },
  {
   "cell_type": "code",
   "execution_count": 71,
   "id": "c3ee11c0",
   "metadata": {},
   "outputs": [
    {
     "data": {
      "text/plain": [
       "array([[<AxesSubplot:title={'center':'Tournament'}>,\n",
       "        <AxesSubplot:title={'center':'HighestPositionHeld'}>]],\n",
       "      dtype=object)"
      ]
     },
     "execution_count": 71,
     "metadata": {},
     "output_type": "execute_result"
    },
    {
     "data": {
      "image/png": "[encoded data removed]",
      "text/plain": [
       "<Figure size 432x288 with 2 Axes>"
      ]
     },
     "metadata": {
      "needs_background": "light"
     },
     "output_type": "display_data"
    }
   ],
   "source": [
    "df2.hist()"
   ]
  },
  {
   "cell_type": "code",
   "execution_count": 74,
   "id": "96dac5e1",
   "metadata": {},
   "outputs": [
    {
     "data": {
      "text/plain": [
       "<seaborn.axisgrid.PairGrid at 0x1880e5cd4f0>"
      ]
     },
     "execution_count": 74,
     "metadata": {},
     "output_type": "execute_result"
    },
    {
     "data": {
      "image/png": "[encoded data removed]",
      "text/plain": [
       "<Figure size 360x360 with 6 Axes>"
      ]
     },
     "metadata": {
      "needs_background": "light"
     },
     "output_type": "display_data"
    }
   ],
   "source": [
    "sns.pairplot(df2)"
   ]
  },
  {
   "cell_type": "code",
   "execution_count": 81,
   "id": "5dae7756",
   "metadata": {},
   "outputs": [
    {
     "data": {
      "text/plain": [
       "<AxesSubplot:xlabel='Team', ylabel='WonGames'>"
      ]
     },
     "execution_count": 81,
     "metadata": {},
     "output_type": "execute_result"
    },
    {
     "data": {
      "image/png": "[encoded data removed]",
      "text/plain": [
       "<Figure size 1800x504 with 1 Axes>"
      ]
     },
     "metadata": {
      "needs_background": "light"
     },
     "output_type": "display_data"
    }
   ],
   "source": [
    "figure = plt.figure(figsize=(25,7))\n",
    "sns.scatterplot(x='Team', y='WonGames', data=df2)"
   ]
  },
  {
   "cell_type": "code",
   "execution_count": 84,
   "id": "a992bc51",
   "metadata": {},
   "outputs": [
    {
     "data": {
      "text/plain": [
       "<AxesSubplot:xlabel='Team', ylabel='DrawnGames'>"
      ]
     },
     "execution_count": 84,
     "metadata": {},
     "output_type": "execute_result"
    },
    {
     "data": {
      "image/png": "[encoded data removed]",
      "text/plain": [
       "<Figure size 1800x504 with 1 Axes>"
      ]
     },
     "metadata": {
      "needs_background": "light"
     },
     "output_type": "display_data"
    }
   ],
   "source": [
    "figure = plt.figure(figsize=(25,7))\n",
    "sns.scatterplot(x='Team', y='DrawnGames', data=df2)"
   ]
  },
  {
   "cell_type": "code",
   "execution_count": 88,
   "id": "c7e88a64",
   "metadata": {},
   "outputs": [
    {
     "data": {
      "text/plain": [
       "<AxesSubplot:xlabel='Team', ylabel='TournamentChampion'>"
      ]
     },
     "execution_count": 88,
     "metadata": {},
     "output_type": "execute_result"
    },
    {
     "data": {
      "image/png": "[encoded data removed]",
      "text/plain": [
       "<Figure size 1800x504 with 1 Axes>"
      ]
     },
     "metadata": {
      "needs_background": "light"
     },
     "output_type": "display_data"
    }
   ],
   "source": [
    "figure = plt.figure(figsize=(25,7))\n",
    "sns.scatterplot(x='Team', y='TournamentChampion', data=df2)"
   ]
  },
  {
   "cell_type": "code",
   "execution_count": 91,
   "id": "514538df",
   "metadata": {},
   "outputs": [
    {
     "data": {
      "text/plain": [
       "<AxesSubplot:xlabel='Tournament', ylabel='WonGames'>"
      ]
     },
     "execution_count": 91,
     "metadata": {},
     "output_type": "execute_result"
    },
    {
     "data": {
      "image/png": "[encoded data removed]",
      "text/plain": [
       "<Figure size 1800x504 with 1 Axes>"
      ]
     },
     "metadata": {
      "needs_background": "light"
     },
     "output_type": "display_data"
    }
   ],
   "source": [
    "figure = plt.figure(figsize=(25,7))\n",
    "sns.scatterplot(x='Tournament', y='WonGames', data=df2)"
   ]
  },
  {
   "cell_type": "code",
   "execution_count": 96,
   "id": "6567422f",
   "metadata": {},
   "outputs": [
    {
     "data": {
      "text/plain": [
       "<AxesSubplot:xlabel='Team', ylabel='Tournament'>"
      ]
     },
     "execution_count": 96,
     "metadata": {},
     "output_type": "execute_result"
    },
    {
     "data": {
      "image/png": "[encoded data removed]",
      "text/plain": [
       "<Figure size 1800x504 with 1 Axes>"
      ]
     },
     "metadata": {
      "needs_background": "light"
     },
     "output_type": "display_data"
    }
   ],
   "source": [
    "figure = plt.figure(figsize=(25,7))\n",
    "sns.scatterplot(x='Team', y='Tournament', data=df2)\n",
    "sns.scatterplot(x='Team', y='TournamentChampion', data=df2)\n",
    "sns.scatterplot(x='Team', y='WonGames', data=df2)"
   ]
  },
  {
   "cell_type": "code",
   "execution_count": 2,
   "id": "88e86e4c",
   "metadata": {},
   "outputs": [],
   "source": [
    "#conclusion: team 1 performes better in all occasions"
   ]
  },
  {
   "cell_type": "code",
   "execution_count": null,
   "id": "f7e00c37",
   "metadata": {},
   "outputs": [],
   "source": []
  },
  {
   "cell_type": "code",
   "execution_count": null,
   "id": "428251ce",
   "metadata": {},
   "outputs": [],
   "source": [
    "                                                #PART-C"
   ]
  },
  {
   "cell_type": "code",
   "execution_count": 4,
   "id": "547c4853",
   "metadata": {},
   "outputs": [],
   "source": [
    "import pandas as pd\n",
    "import numpy as np\n",
    "import matplotlib.pyplot as plt"
   ]
  },
  {
   "cell_type": "code",
   "execution_count": 6,
   "id": "b26bad9b",
   "metadata": {},
   "outputs": [
    {
     "data": {
      "text/html": [
       "<div>\n",
       "<style scoped>\n",
       "    .dataframe tbody tr th:only-of-type {\n",
       "        vertical-align: middle;\n",
       "    }\n",
       "\n",
       "    .dataframe tbody tr th {\n",
       "        vertical-align: top;\n",
       "    }\n",
       "\n",
       "    .dataframe thead th {\n",
       "        text-align: right;\n",
       "    }\n",
       "</style>\n",
       "<table border=\"1\" class=\"dataframe\">\n",
       "  <thead>\n",
       "    <tr style=\"text-align: right;\">\n",
       "      <th></th>\n",
       "      <th>Startup</th>\n",
       "      <th>Product</th>\n",
       "      <th>Funding</th>\n",
       "      <th>Event</th>\n",
       "      <th>Result</th>\n",
       "      <th>OperatingState</th>\n",
       "    </tr>\n",
       "  </thead>\n",
       "  <tbody>\n",
       "    <tr>\n",
       "      <th>0</th>\n",
       "      <td>2600Hz</td>\n",
       "      <td>2600hz.com</td>\n",
       "      <td>NaN</td>\n",
       "      <td>Disrupt SF 2013</td>\n",
       "      <td>Contestant</td>\n",
       "      <td>Operating</td>\n",
       "    </tr>\n",
       "    <tr>\n",
       "      <th>1</th>\n",
       "      <td>3DLT</td>\n",
       "      <td>3dlt.com</td>\n",
       "      <td>$630K</td>\n",
       "      <td>Disrupt NYC 2013</td>\n",
       "      <td>Contestant</td>\n",
       "      <td>Closed</td>\n",
       "    </tr>\n",
       "    <tr>\n",
       "      <th>2</th>\n",
       "      <td>3DPrinterOS</td>\n",
       "      <td>3dprinteros.com</td>\n",
       "      <td>NaN</td>\n",
       "      <td>Disrupt SF 2016</td>\n",
       "      <td>Contestant</td>\n",
       "      <td>Operating</td>\n",
       "    </tr>\n",
       "    <tr>\n",
       "      <th>3</th>\n",
       "      <td>3Dprintler</td>\n",
       "      <td>3dprintler.com</td>\n",
       "      <td>$1M</td>\n",
       "      <td>Disrupt NY 2016</td>\n",
       "      <td>Audience choice</td>\n",
       "      <td>Operating</td>\n",
       "    </tr>\n",
       "    <tr>\n",
       "      <th>4</th>\n",
       "      <td>42 Technologies</td>\n",
       "      <td>42technologies.com</td>\n",
       "      <td>NaN</td>\n",
       "      <td>Disrupt NYC 2013</td>\n",
       "      <td>Contestant</td>\n",
       "      <td>Operating</td>\n",
       "    </tr>\n",
       "  </tbody>\n",
       "</table>\n",
       "</div>"
      ],
      "text/plain": [
       "           Startup             Product Funding             Event  \\\n",
       "0           2600Hz          2600hz.com     NaN   Disrupt SF 2013   \n",
       "1             3DLT            3dlt.com   $630K  Disrupt NYC 2013   \n",
       "2      3DPrinterOS     3dprinteros.com     NaN   Disrupt SF 2016   \n",
       "3       3Dprintler      3dprintler.com     $1M   Disrupt NY 2016   \n",
       "4  42 Technologies  42technologies.com     NaN  Disrupt NYC 2013   \n",
       "\n",
       "            Result OperatingState  \n",
       "0       Contestant      Operating  \n",
       "1       Contestant         Closed  \n",
       "2       Contestant      Operating  \n",
       "3  Audience choice      Operating  \n",
       "4       Contestant      Operating  "
      ]
     },
     "execution_count": 6,
     "metadata": {},
     "output_type": "execute_result"
    }
   ],
   "source": [
    "df1 = pd.read_csv('CompanyX_EU.csv')\n",
    "df1.head()"
   ]
  },
  {
   "cell_type": "code",
   "execution_count": 8,
   "id": "55a4a6d1",
   "metadata": {},
   "outputs": [
    {
     "data": {
      "text/plain": [
       "Startup           object\n",
       "Product           object\n",
       "Funding           object\n",
       "Event             object\n",
       "Result            object\n",
       "OperatingState    object\n",
       "dtype: object"
      ]
     },
     "execution_count": 8,
     "metadata": {},
     "output_type": "execute_result"
    }
   ],
   "source": [
    "df1.dtypes"
   ]
  },
  {
   "cell_type": "code",
   "execution_count": 10,
   "id": "d0ba2e42",
   "metadata": {},
   "outputs": [
    {
     "name": "stdout",
     "output_type": "stream",
     "text": [
      "<class 'pandas.core.frame.DataFrame'>\n",
      "RangeIndex: 662 entries, 0 to 661\n",
      "Data columns (total 6 columns):\n",
      " #   Column          Non-Null Count  Dtype \n",
      "---  ------          --------------  ----- \n",
      " 0   Startup         662 non-null    object\n",
      " 1   Product         656 non-null    object\n",
      " 2   Funding         448 non-null    object\n",
      " 3   Event           662 non-null    object\n",
      " 4   Result          662 non-null    object\n",
      " 5   OperatingState  662 non-null    object\n",
      "dtypes: object(6)\n",
      "memory usage: 31.2+ KB\n"
     ]
    }
   ],
   "source": [
    "df1.info()"
   ]
  },
  {
   "cell_type": "code",
   "execution_count": 12,
   "id": "5ed35c67",
   "metadata": {},
   "outputs": [
    {
     "data": {
      "text/html": [
       "<div>\n",
       "<style scoped>\n",
       "    .dataframe tbody tr th:only-of-type {\n",
       "        vertical-align: middle;\n",
       "    }\n",
       "\n",
       "    .dataframe tbody tr th {\n",
       "        vertical-align: top;\n",
       "    }\n",
       "\n",
       "    .dataframe thead th {\n",
       "        text-align: right;\n",
       "    }\n",
       "</style>\n",
       "<table border=\"1\" class=\"dataframe\">\n",
       "  <thead>\n",
       "    <tr style=\"text-align: right;\">\n",
       "      <th></th>\n",
       "      <th>Startup</th>\n",
       "      <th>Product</th>\n",
       "      <th>Funding</th>\n",
       "      <th>Event</th>\n",
       "      <th>Result</th>\n",
       "      <th>OperatingState</th>\n",
       "    </tr>\n",
       "  </thead>\n",
       "  <tbody>\n",
       "    <tr>\n",
       "      <th>0</th>\n",
       "      <td>False</td>\n",
       "      <td>False</td>\n",
       "      <td>True</td>\n",
       "      <td>False</td>\n",
       "      <td>False</td>\n",
       "      <td>False</td>\n",
       "    </tr>\n",
       "    <tr>\n",
       "      <th>1</th>\n",
       "      <td>False</td>\n",
       "      <td>False</td>\n",
       "      <td>False</td>\n",
       "      <td>False</td>\n",
       "      <td>False</td>\n",
       "      <td>False</td>\n",
       "    </tr>\n",
       "    <tr>\n",
       "      <th>2</th>\n",
       "      <td>False</td>\n",
       "      <td>False</td>\n",
       "      <td>True</td>\n",
       "      <td>False</td>\n",
       "      <td>False</td>\n",
       "      <td>False</td>\n",
       "    </tr>\n",
       "    <tr>\n",
       "      <th>3</th>\n",
       "      <td>False</td>\n",
       "      <td>False</td>\n",
       "      <td>False</td>\n",
       "      <td>False</td>\n",
       "      <td>False</td>\n",
       "      <td>False</td>\n",
       "    </tr>\n",
       "    <tr>\n",
       "      <th>4</th>\n",
       "      <td>False</td>\n",
       "      <td>False</td>\n",
       "      <td>True</td>\n",
       "      <td>False</td>\n",
       "      <td>False</td>\n",
       "      <td>False</td>\n",
       "    </tr>\n",
       "    <tr>\n",
       "      <th>...</th>\n",
       "      <td>...</td>\n",
       "      <td>...</td>\n",
       "      <td>...</td>\n",
       "      <td>...</td>\n",
       "      <td>...</td>\n",
       "      <td>...</td>\n",
       "    </tr>\n",
       "    <tr>\n",
       "      <th>657</th>\n",
       "      <td>False</td>\n",
       "      <td>False</td>\n",
       "      <td>False</td>\n",
       "      <td>False</td>\n",
       "      <td>False</td>\n",
       "      <td>False</td>\n",
       "    </tr>\n",
       "    <tr>\n",
       "      <th>658</th>\n",
       "      <td>False</td>\n",
       "      <td>False</td>\n",
       "      <td>False</td>\n",
       "      <td>False</td>\n",
       "      <td>False</td>\n",
       "      <td>False</td>\n",
       "    </tr>\n",
       "    <tr>\n",
       "      <th>659</th>\n",
       "      <td>False</td>\n",
       "      <td>False</td>\n",
       "      <td>False</td>\n",
       "      <td>False</td>\n",
       "      <td>False</td>\n",
       "      <td>False</td>\n",
       "    </tr>\n",
       "    <tr>\n",
       "      <th>660</th>\n",
       "      <td>False</td>\n",
       "      <td>False</td>\n",
       "      <td>False</td>\n",
       "      <td>False</td>\n",
       "      <td>False</td>\n",
       "      <td>False</td>\n",
       "    </tr>\n",
       "    <tr>\n",
       "      <th>661</th>\n",
       "      <td>False</td>\n",
       "      <td>False</td>\n",
       "      <td>False</td>\n",
       "      <td>False</td>\n",
       "      <td>False</td>\n",
       "      <td>False</td>\n",
       "    </tr>\n",
       "  </tbody>\n",
       "</table>\n",
       "<p>662 rows × 6 columns</p>\n",
       "</div>"
      ],
      "text/plain": [
       "     Startup  Product  Funding  Event  Result  OperatingState\n",
       "0      False    False     True  False   False           False\n",
       "1      False    False    False  False   False           False\n",
       "2      False    False     True  False   False           False\n",
       "3      False    False    False  False   False           False\n",
       "4      False    False     True  False   False           False\n",
       "..       ...      ...      ...    ...     ...             ...\n",
       "657    False    False    False  False   False           False\n",
       "658    False    False    False  False   False           False\n",
       "659    False    False    False  False   False           False\n",
       "660    False    False    False  False   False           False\n",
       "661    False    False    False  False   False           False\n",
       "\n",
       "[662 rows x 6 columns]"
      ]
     },
     "execution_count": 12,
     "metadata": {},
     "output_type": "execute_result"
    }
   ],
   "source": [
    "df1.isnull()"
   ]
  },
  {
   "cell_type": "code",
   "execution_count": 14,
   "id": "ba1992e7",
   "metadata": {},
   "outputs": [
    {
     "data": {
      "text/plain": [
       "Startup             0\n",
       "Product             6\n",
       "Funding           214\n",
       "Event               0\n",
       "Result              0\n",
       "OperatingState      0\n",
       "dtype: int64"
      ]
     },
     "execution_count": 14,
     "metadata": {},
     "output_type": "execute_result"
    }
   ],
   "source": [
    "df1.isna().sum()"
   ]
  },
  {
   "cell_type": "code",
   "execution_count": 16,
   "id": "bed64044",
   "metadata": {},
   "outputs": [
    {
     "data": {
      "text/html": [
       "<div>\n",
       "<style scoped>\n",
       "    .dataframe tbody tr th:only-of-type {\n",
       "        vertical-align: middle;\n",
       "    }\n",
       "\n",
       "    .dataframe tbody tr th {\n",
       "        vertical-align: top;\n",
       "    }\n",
       "\n",
       "    .dataframe thead th {\n",
       "        text-align: right;\n",
       "    }\n",
       "</style>\n",
       "<table border=\"1\" class=\"dataframe\">\n",
       "  <thead>\n",
       "    <tr style=\"text-align: right;\">\n",
       "      <th></th>\n",
       "      <th>Startup</th>\n",
       "      <th>Product</th>\n",
       "      <th>Funding</th>\n",
       "      <th>Event</th>\n",
       "      <th>Result</th>\n",
       "      <th>OperatingState</th>\n",
       "    </tr>\n",
       "  </thead>\n",
       "  <tbody>\n",
       "    <tr>\n",
       "      <th>1</th>\n",
       "      <td>3DLT</td>\n",
       "      <td>3dlt.com</td>\n",
       "      <td>$630K</td>\n",
       "      <td>Disrupt NYC 2013</td>\n",
       "      <td>Contestant</td>\n",
       "      <td>Closed</td>\n",
       "    </tr>\n",
       "    <tr>\n",
       "      <th>3</th>\n",
       "      <td>3Dprintler</td>\n",
       "      <td>3dprintler.com</td>\n",
       "      <td>$1M</td>\n",
       "      <td>Disrupt NY 2016</td>\n",
       "      <td>Audience choice</td>\n",
       "      <td>Operating</td>\n",
       "    </tr>\n",
       "    <tr>\n",
       "      <th>5</th>\n",
       "      <td>5to1</td>\n",
       "      <td>5to1.com</td>\n",
       "      <td>$19.3M</td>\n",
       "      <td>TC50 2009</td>\n",
       "      <td>Contestant</td>\n",
       "      <td>Acquired</td>\n",
       "    </tr>\n",
       "    <tr>\n",
       "      <th>6</th>\n",
       "      <td>8 Securities</td>\n",
       "      <td>8securities.com</td>\n",
       "      <td>$29M</td>\n",
       "      <td>Disrupt Beijing 2011</td>\n",
       "      <td>Finalist</td>\n",
       "      <td>Operating</td>\n",
       "    </tr>\n",
       "    <tr>\n",
       "      <th>10</th>\n",
       "      <td>AdhereTech</td>\n",
       "      <td>adheretech.com</td>\n",
       "      <td>$1.8M</td>\n",
       "      <td>Hardware Battlefield 2014</td>\n",
       "      <td>Contestant</td>\n",
       "      <td>Operating</td>\n",
       "    </tr>\n",
       "    <tr>\n",
       "      <th>...</th>\n",
       "      <td>...</td>\n",
       "      <td>...</td>\n",
       "      <td>...</td>\n",
       "      <td>...</td>\n",
       "      <td>...</td>\n",
       "      <td>...</td>\n",
       "    </tr>\n",
       "    <tr>\n",
       "      <th>657</th>\n",
       "      <td>Zivity</td>\n",
       "      <td>zivity.com</td>\n",
       "      <td>$8M</td>\n",
       "      <td>TC40 2007</td>\n",
       "      <td>Contestant</td>\n",
       "      <td>Operating</td>\n",
       "    </tr>\n",
       "    <tr>\n",
       "      <th>658</th>\n",
       "      <td>Zmorph</td>\n",
       "      <td>zmorph3d.com</td>\n",
       "      <td>$1M</td>\n",
       "      <td>-</td>\n",
       "      <td>Audience choice</td>\n",
       "      <td>Operating</td>\n",
       "    </tr>\n",
       "    <tr>\n",
       "      <th>659</th>\n",
       "      <td>Zocdoc</td>\n",
       "      <td>zocdoc.com</td>\n",
       "      <td>$223M</td>\n",
       "      <td>TC40 2007</td>\n",
       "      <td>Contestant</td>\n",
       "      <td>Operating</td>\n",
       "    </tr>\n",
       "    <tr>\n",
       "      <th>660</th>\n",
       "      <td>Zula</td>\n",
       "      <td>zulaapp.com</td>\n",
       "      <td>$3.4M</td>\n",
       "      <td>Disrupt SF 2013</td>\n",
       "      <td>Audience choice</td>\n",
       "      <td>Operating</td>\n",
       "    </tr>\n",
       "    <tr>\n",
       "      <th>661</th>\n",
       "      <td>Zumper</td>\n",
       "      <td>zumper.com</td>\n",
       "      <td>$31.5M</td>\n",
       "      <td>Disrupt SF 2012</td>\n",
       "      <td>Finalist</td>\n",
       "      <td>Operating</td>\n",
       "    </tr>\n",
       "  </tbody>\n",
       "</table>\n",
       "<p>446 rows × 6 columns</p>\n",
       "</div>"
      ],
      "text/plain": [
       "          Startup          Product Funding                      Event  \\\n",
       "1            3DLT         3dlt.com   $630K           Disrupt NYC 2013   \n",
       "3      3Dprintler   3dprintler.com     $1M            Disrupt NY 2016   \n",
       "5            5to1         5to1.com  $19.3M                  TC50 2009   \n",
       "6    8 Securities  8securities.com    $29M       Disrupt Beijing 2011   \n",
       "10     AdhereTech   adheretech.com   $1.8M  Hardware Battlefield 2014   \n",
       "..            ...              ...     ...                        ...   \n",
       "657        Zivity       zivity.com     $8M                  TC40 2007   \n",
       "658        Zmorph     zmorph3d.com     $1M                          -   \n",
       "659        Zocdoc       zocdoc.com   $223M                  TC40 2007   \n",
       "660          Zula      zulaapp.com   $3.4M            Disrupt SF 2013   \n",
       "661        Zumper       zumper.com  $31.5M            Disrupt SF 2012   \n",
       "\n",
       "              Result OperatingState  \n",
       "1         Contestant         Closed  \n",
       "3    Audience choice      Operating  \n",
       "5         Contestant       Acquired  \n",
       "6           Finalist      Operating  \n",
       "10        Contestant      Operating  \n",
       "..               ...            ...  \n",
       "657       Contestant      Operating  \n",
       "658  Audience choice      Operating  \n",
       "659       Contestant      Operating  \n",
       "660  Audience choice      Operating  \n",
       "661         Finalist      Operating  \n",
       "\n",
       "[446 rows x 6 columns]"
      ]
     },
     "execution_count": 16,
     "metadata": {},
     "output_type": "execute_result"
    }
   ],
   "source": [
    "df2 = df1.dropna().copy(deep=True)\n",
    "df2"
   ]
  },
  {
   "cell_type": "code",
   "execution_count": 18,
   "id": "46e7514d",
   "metadata": {},
   "outputs": [
    {
     "data": {
      "text/plain": [
       "416      $525K\n",
       "47         $1M\n",
       "18      $12.2M\n",
       "656    $583.6M\n",
       "164       $10M\n",
       "Name: Funding, dtype: object"
      ]
     },
     "execution_count": 18,
     "metadata": {},
     "output_type": "execute_result"
    }
   ],
   "source": [
    "df2['Funding'].sample(5)"
   ]
  },
  {
   "cell_type": "code",
   "execution_count": 20,
   "id": "21a1fb44",
   "metadata": {},
   "outputs": [
    {
     "data": {
      "text/html": [
       "<div>\n",
       "<style scoped>\n",
       "    .dataframe tbody tr th:only-of-type {\n",
       "        vertical-align: middle;\n",
       "    }\n",
       "\n",
       "    .dataframe tbody tr th {\n",
       "        vertical-align: top;\n",
       "    }\n",
       "\n",
       "    .dataframe thead th {\n",
       "        text-align: right;\n",
       "    }\n",
       "</style>\n",
       "<table border=\"1\" class=\"dataframe\">\n",
       "  <thead>\n",
       "    <tr style=\"text-align: right;\">\n",
       "      <th></th>\n",
       "      <th>Startup</th>\n",
       "      <th>Product</th>\n",
       "      <th>Funding</th>\n",
       "      <th>Event</th>\n",
       "      <th>Result</th>\n",
       "      <th>OperatingState</th>\n",
       "      <th>Funds_in_million</th>\n",
       "    </tr>\n",
       "  </thead>\n",
       "  <tbody>\n",
       "    <tr>\n",
       "      <th>1</th>\n",
       "      <td>3DLT</td>\n",
       "      <td>3dlt.com</td>\n",
       "      <td>$630K</td>\n",
       "      <td>Disrupt NYC 2013</td>\n",
       "      <td>Contestant</td>\n",
       "      <td>Closed</td>\n",
       "      <td>0.63</td>\n",
       "    </tr>\n",
       "    <tr>\n",
       "      <th>3</th>\n",
       "      <td>3Dprintler</td>\n",
       "      <td>3dprintler.com</td>\n",
       "      <td>$1M</td>\n",
       "      <td>Disrupt NY 2016</td>\n",
       "      <td>Audience choice</td>\n",
       "      <td>Operating</td>\n",
       "      <td>1.00</td>\n",
       "    </tr>\n",
       "    <tr>\n",
       "      <th>5</th>\n",
       "      <td>5to1</td>\n",
       "      <td>5to1.com</td>\n",
       "      <td>$19.3M</td>\n",
       "      <td>TC50 2009</td>\n",
       "      <td>Contestant</td>\n",
       "      <td>Acquired</td>\n",
       "      <td>19.30</td>\n",
       "    </tr>\n",
       "    <tr>\n",
       "      <th>6</th>\n",
       "      <td>8 Securities</td>\n",
       "      <td>8securities.com</td>\n",
       "      <td>$29M</td>\n",
       "      <td>Disrupt Beijing 2011</td>\n",
       "      <td>Finalist</td>\n",
       "      <td>Operating</td>\n",
       "      <td>29.00</td>\n",
       "    </tr>\n",
       "    <tr>\n",
       "      <th>10</th>\n",
       "      <td>AdhereTech</td>\n",
       "      <td>adheretech.com</td>\n",
       "      <td>$1.8M</td>\n",
       "      <td>Hardware Battlefield 2014</td>\n",
       "      <td>Contestant</td>\n",
       "      <td>Operating</td>\n",
       "      <td>1.80</td>\n",
       "    </tr>\n",
       "    <tr>\n",
       "      <th>...</th>\n",
       "      <td>...</td>\n",
       "      <td>...</td>\n",
       "      <td>...</td>\n",
       "      <td>...</td>\n",
       "      <td>...</td>\n",
       "      <td>...</td>\n",
       "      <td>...</td>\n",
       "    </tr>\n",
       "    <tr>\n",
       "      <th>657</th>\n",
       "      <td>Zivity</td>\n",
       "      <td>zivity.com</td>\n",
       "      <td>$8M</td>\n",
       "      <td>TC40 2007</td>\n",
       "      <td>Contestant</td>\n",
       "      <td>Operating</td>\n",
       "      <td>8.00</td>\n",
       "    </tr>\n",
       "    <tr>\n",
       "      <th>658</th>\n",
       "      <td>Zmorph</td>\n",
       "      <td>zmorph3d.com</td>\n",
       "      <td>$1M</td>\n",
       "      <td>-</td>\n",
       "      <td>Audience choice</td>\n",
       "      <td>Operating</td>\n",
       "      <td>1.00</td>\n",
       "    </tr>\n",
       "    <tr>\n",
       "      <th>659</th>\n",
       "      <td>Zocdoc</td>\n",
       "      <td>zocdoc.com</td>\n",
       "      <td>$223M</td>\n",
       "      <td>TC40 2007</td>\n",
       "      <td>Contestant</td>\n",
       "      <td>Operating</td>\n",
       "      <td>223.00</td>\n",
       "    </tr>\n",
       "    <tr>\n",
       "      <th>660</th>\n",
       "      <td>Zula</td>\n",
       "      <td>zulaapp.com</td>\n",
       "      <td>$3.4M</td>\n",
       "      <td>Disrupt SF 2013</td>\n",
       "      <td>Audience choice</td>\n",
       "      <td>Operating</td>\n",
       "      <td>3.40</td>\n",
       "    </tr>\n",
       "    <tr>\n",
       "      <th>661</th>\n",
       "      <td>Zumper</td>\n",
       "      <td>zumper.com</td>\n",
       "      <td>$31.5M</td>\n",
       "      <td>Disrupt SF 2012</td>\n",
       "      <td>Finalist</td>\n",
       "      <td>Operating</td>\n",
       "      <td>31.50</td>\n",
       "    </tr>\n",
       "  </tbody>\n",
       "</table>\n",
       "<p>446 rows × 7 columns</p>\n",
       "</div>"
      ],
      "text/plain": [
       "          Startup          Product Funding                      Event  \\\n",
       "1            3DLT         3dlt.com   $630K           Disrupt NYC 2013   \n",
       "3      3Dprintler   3dprintler.com     $1M            Disrupt NY 2016   \n",
       "5            5to1         5to1.com  $19.3M                  TC50 2009   \n",
       "6    8 Securities  8securities.com    $29M       Disrupt Beijing 2011   \n",
       "10     AdhereTech   adheretech.com   $1.8M  Hardware Battlefield 2014   \n",
       "..            ...              ...     ...                        ...   \n",
       "657        Zivity       zivity.com     $8M                  TC40 2007   \n",
       "658        Zmorph     zmorph3d.com     $1M                          -   \n",
       "659        Zocdoc       zocdoc.com   $223M                  TC40 2007   \n",
       "660          Zula      zulaapp.com   $3.4M            Disrupt SF 2013   \n",
       "661        Zumper       zumper.com  $31.5M            Disrupt SF 2012   \n",
       "\n",
       "              Result OperatingState  Funds_in_million  \n",
       "1         Contestant         Closed              0.63  \n",
       "3    Audience choice      Operating              1.00  \n",
       "5         Contestant       Acquired             19.30  \n",
       "6           Finalist      Operating             29.00  \n",
       "10        Contestant      Operating              1.80  \n",
       "..               ...            ...               ...  \n",
       "657       Contestant      Operating              8.00  \n",
       "658  Audience choice      Operating              1.00  \n",
       "659       Contestant      Operating            223.00  \n",
       "660  Audience choice      Operating              3.40  \n",
       "661         Finalist      Operating             31.50  \n",
       "\n",
       "[446 rows x 7 columns]"
      ]
     },
     "execution_count": 20,
     "metadata": {},
     "output_type": "execute_result"
    }
   ],
   "source": [
    "df2.loc[:,'Funds_in_million'] = df2['Funding'].apply(lambda x: float(x[1:-1])/1000 if x[-1] == 'K' else (float(x[1:-1])*1000 if x[-1] == 'B' else float(x[1:-1])))\n",
    "df2"
   ]
  },
  {
   "cell_type": "code",
   "execution_count": 22,
   "id": "84cdacc7",
   "metadata": {},
   "outputs": [
    {
     "data": {
      "image/png": "[encoded data removed]",
      "text/plain": [
       "<Figure size 432x288 with 1 Axes>"
      ]
     },
     "metadata": {
      "needs_background": "light"
     },
     "output_type": "display_data"
    }
   ],
   "source": [
    "%matplotlib inline\n",
    "from matplotlib import pyplot as plt\n",
    "\n",
    "plot = plt.boxplot(df2.Funds_in_million)\n",
    "plt.title('Boxplot of the funds')\n",
    "plt.ylabel(\"Funding\")\n",
    "\n",
    "plt.show()"
   ]
  },
  {
   "cell_type": "code",
   "execution_count": 23,
   "id": "ac45d045",
   "metadata": {},
   "outputs": [
    {
     "data": {
      "text/plain": [
       "22.0"
      ]
     },
     "execution_count": 23,
     "metadata": {},
     "output_type": "execute_result"
    }
   ],
   "source": [
    "upper_fence = plot['caps'][1].get_data()[1][1]\n",
    "upper_fence"
   ]
  },
  {
   "cell_type": "code",
   "execution_count": 25,
   "id": "79117173",
   "metadata": {},
   "outputs": [
    {
     "name": "stdout",
     "output_type": "stream",
     "text": [
      "Number of outliers = 60\n"
     ]
    },
    {
     "data": {
      "text/html": [
       "<div>\n",
       "<style scoped>\n",
       "    .dataframe tbody tr th:only-of-type {\n",
       "        vertical-align: middle;\n",
       "    }\n",
       "\n",
       "    .dataframe tbody tr th {\n",
       "        vertical-align: top;\n",
       "    }\n",
       "\n",
       "    .dataframe thead th {\n",
       "        text-align: right;\n",
       "    }\n",
       "</style>\n",
       "<table border=\"1\" class=\"dataframe\">\n",
       "  <thead>\n",
       "    <tr style=\"text-align: right;\">\n",
       "      <th></th>\n",
       "      <th>Startup</th>\n",
       "      <th>Product</th>\n",
       "      <th>Funding</th>\n",
       "      <th>Event</th>\n",
       "      <th>Result</th>\n",
       "      <th>OperatingState</th>\n",
       "      <th>Funds_in_million</th>\n",
       "    </tr>\n",
       "  </thead>\n",
       "  <tbody>\n",
       "    <tr>\n",
       "      <th>6</th>\n",
       "      <td>8 Securities</td>\n",
       "      <td>8securities.com</td>\n",
       "      <td>$29M</td>\n",
       "      <td>Disrupt Beijing 2011</td>\n",
       "      <td>Finalist</td>\n",
       "      <td>Operating</td>\n",
       "      <td>29.0</td>\n",
       "    </tr>\n",
       "    <tr>\n",
       "      <th>31</th>\n",
       "      <td>Anyclip</td>\n",
       "      <td>anyclip.com</td>\n",
       "      <td>$24M</td>\n",
       "      <td>TC50 2009</td>\n",
       "      <td>Finalist</td>\n",
       "      <td>Operating</td>\n",
       "      <td>24.0</td>\n",
       "    </tr>\n",
       "    <tr>\n",
       "      <th>40</th>\n",
       "      <td>Artsy</td>\n",
       "      <td>artsy.net</td>\n",
       "      <td>$50.9M</td>\n",
       "      <td>Disrupt NYC 2010</td>\n",
       "      <td>Contestant</td>\n",
       "      <td>Operating</td>\n",
       "      <td>50.9</td>\n",
       "    </tr>\n",
       "    <tr>\n",
       "      <th>49</th>\n",
       "      <td>Badgeville</td>\n",
       "      <td>badgeville.com</td>\n",
       "      <td>$40M</td>\n",
       "      <td>Disrupt SF 2010</td>\n",
       "      <td>Finalist</td>\n",
       "      <td>Acquired</td>\n",
       "      <td>40.0</td>\n",
       "    </tr>\n",
       "    <tr>\n",
       "      <th>56</th>\n",
       "      <td>Betterment</td>\n",
       "      <td>betterment.com</td>\n",
       "      <td>$205M</td>\n",
       "      <td>Disrupt NYC 2010</td>\n",
       "      <td>Finalist</td>\n",
       "      <td>Operating</td>\n",
       "      <td>205.0</td>\n",
       "    </tr>\n",
       "    <tr>\n",
       "      <th>108</th>\n",
       "      <td>Clickable</td>\n",
       "      <td>clickable.com</td>\n",
       "      <td>$32.5M</td>\n",
       "      <td>TC40 2007</td>\n",
       "      <td>Finalist</td>\n",
       "      <td>Acquired</td>\n",
       "      <td>32.5</td>\n",
       "    </tr>\n",
       "    <tr>\n",
       "      <th>113</th>\n",
       "      <td>Cloudflare</td>\n",
       "      <td>cloudflare.com</td>\n",
       "      <td>$182.1M</td>\n",
       "      <td>Disrupt SF 2010</td>\n",
       "      <td>Runner up</td>\n",
       "      <td>Operating</td>\n",
       "      <td>182.1</td>\n",
       "    </tr>\n",
       "    <tr>\n",
       "      <th>128</th>\n",
       "      <td>Credit Sesame</td>\n",
       "      <td>creditsesame.com</td>\n",
       "      <td>$35.4M</td>\n",
       "      <td>Disrupt SF 2010</td>\n",
       "      <td>Contestant</td>\n",
       "      <td>Operating</td>\n",
       "      <td>35.4</td>\n",
       "    </tr>\n",
       "    <tr>\n",
       "      <th>130</th>\n",
       "      <td>CrowdFlower Inc.</td>\n",
       "      <td>crowdflower.com</td>\n",
       "      <td>$38M</td>\n",
       "      <td>TC50 2009</td>\n",
       "      <td>Contestant</td>\n",
       "      <td>Operating</td>\n",
       "      <td>38.0</td>\n",
       "    </tr>\n",
       "    <tr>\n",
       "      <th>132</th>\n",
       "      <td>Cubic Telecom</td>\n",
       "      <td>cubictelecom.com</td>\n",
       "      <td>$37.1M</td>\n",
       "      <td>TC40 2007</td>\n",
       "      <td>Contestant</td>\n",
       "      <td>Operating</td>\n",
       "      <td>37.1</td>\n",
       "    </tr>\n",
       "    <tr>\n",
       "      <th>138</th>\n",
       "      <td>DataSift</td>\n",
       "      <td>datasift.com</td>\n",
       "      <td>$72M</td>\n",
       "      <td>Disrupt SF 2010</td>\n",
       "      <td>Finalist</td>\n",
       "      <td>Operating</td>\n",
       "      <td>72.0</td>\n",
       "    </tr>\n",
       "    <tr>\n",
       "      <th>139</th>\n",
       "      <td>DataXu</td>\n",
       "      <td>dataxu.com</td>\n",
       "      <td>$64M</td>\n",
       "      <td>TC50 2009</td>\n",
       "      <td>Contestant</td>\n",
       "      <td>Operating</td>\n",
       "      <td>64.0</td>\n",
       "    </tr>\n",
       "    <tr>\n",
       "      <th>154</th>\n",
       "      <td>Dropbox</td>\n",
       "      <td>dropbox.com</td>\n",
       "      <td>$1.7B</td>\n",
       "      <td>TC50 2008</td>\n",
       "      <td>Contestant</td>\n",
       "      <td>Operating</td>\n",
       "      <td>1700.0</td>\n",
       "    </tr>\n",
       "    <tr>\n",
       "      <th>166</th>\n",
       "      <td>Enigma</td>\n",
       "      <td>enigma.io</td>\n",
       "      <td>$34.6M</td>\n",
       "      <td>Disrupt NYC 2013</td>\n",
       "      <td>Winner</td>\n",
       "      <td>Operating</td>\n",
       "      <td>34.6</td>\n",
       "    </tr>\n",
       "    <tr>\n",
       "      <th>172</th>\n",
       "      <td>EverythingMe</td>\n",
       "      <td>everything.me</td>\n",
       "      <td>$35.5M</td>\n",
       "      <td>Disrupt NYC 2011</td>\n",
       "      <td>Contestant</td>\n",
       "      <td>Closed</td>\n",
       "      <td>35.5</td>\n",
       "    </tr>\n",
       "    <tr>\n",
       "      <th>179</th>\n",
       "      <td>Famo.us</td>\n",
       "      <td>famo.us</td>\n",
       "      <td>$30.1M</td>\n",
       "      <td>Disrupt SF 2012</td>\n",
       "      <td>Contestant</td>\n",
       "      <td>Operating</td>\n",
       "      <td>30.1</td>\n",
       "    </tr>\n",
       "    <tr>\n",
       "      <th>180</th>\n",
       "      <td>Farmigo</td>\n",
       "      <td>farmigo.com</td>\n",
       "      <td>$26M</td>\n",
       "      <td>Disrupt SF 2011</td>\n",
       "      <td>Finalist</td>\n",
       "      <td>Operating</td>\n",
       "      <td>26.0</td>\n",
       "    </tr>\n",
       "    <tr>\n",
       "      <th>188</th>\n",
       "      <td>Fitbit</td>\n",
       "      <td>fitbit.com</td>\n",
       "      <td>$66M</td>\n",
       "      <td>TC50 2008</td>\n",
       "      <td>Finalist</td>\n",
       "      <td>Ipo</td>\n",
       "      <td>66.0</td>\n",
       "    </tr>\n",
       "    <tr>\n",
       "      <th>191</th>\n",
       "      <td>Flock</td>\n",
       "      <td>flock.com</td>\n",
       "      <td>$28.3M</td>\n",
       "      <td>TC40 2007</td>\n",
       "      <td>Contestant</td>\n",
       "      <td>Acquired</td>\n",
       "      <td>28.3</td>\n",
       "    </tr>\n",
       "    <tr>\n",
       "      <th>209</th>\n",
       "      <td>Getaround</td>\n",
       "      <td>getaround.com</td>\n",
       "      <td>$103M</td>\n",
       "      <td>Disrupt NYC 2011</td>\n",
       "      <td>Winner</td>\n",
       "      <td>Operating</td>\n",
       "      <td>103.0</td>\n",
       "    </tr>\n",
       "    <tr>\n",
       "      <th>213</th>\n",
       "      <td>Gild</td>\n",
       "      <td>gild.com</td>\n",
       "      <td>$25.9M</td>\n",
       "      <td>Disrupt SF 2010</td>\n",
       "      <td>Contestant</td>\n",
       "      <td>Acquired</td>\n",
       "      <td>25.9</td>\n",
       "    </tr>\n",
       "    <tr>\n",
       "      <th>215</th>\n",
       "      <td>Glide</td>\n",
       "      <td>glide.me</td>\n",
       "      <td>$36.5M</td>\n",
       "      <td>Disrupt NYC 2013</td>\n",
       "      <td>Audience choice</td>\n",
       "      <td>Operating</td>\n",
       "      <td>36.5</td>\n",
       "    </tr>\n",
       "    <tr>\n",
       "      <th>225</th>\n",
       "      <td>Grockit</td>\n",
       "      <td>grockit.com</td>\n",
       "      <td>$44.7M</td>\n",
       "      <td>TC50 2008</td>\n",
       "      <td>Finalist</td>\n",
       "      <td>Acquired</td>\n",
       "      <td>44.7</td>\n",
       "    </tr>\n",
       "    <tr>\n",
       "      <th>231</th>\n",
       "      <td>HackerRank</td>\n",
       "      <td>hackerrank.com</td>\n",
       "      <td>$24.2M</td>\n",
       "      <td>Disrupt SF 2012</td>\n",
       "      <td>Contestant</td>\n",
       "      <td>Operating</td>\n",
       "      <td>24.2</td>\n",
       "    </tr>\n",
       "    <tr>\n",
       "      <th>271</th>\n",
       "      <td>Ionic Security</td>\n",
       "      <td>ionicsecurity.com</td>\n",
       "      <td>$122.4M</td>\n",
       "      <td>Disrupt SF 2012</td>\n",
       "      <td>Contestant</td>\n",
       "      <td>Operating</td>\n",
       "      <td>122.4</td>\n",
       "    </tr>\n",
       "    <tr>\n",
       "      <th>276</th>\n",
       "      <td>IZEA</td>\n",
       "      <td>izea.com</td>\n",
       "      <td>$34.9M</td>\n",
       "      <td>Disrupt NYC 2010</td>\n",
       "      <td>Contestant</td>\n",
       "      <td>Ipo</td>\n",
       "      <td>34.9</td>\n",
       "    </tr>\n",
       "    <tr>\n",
       "      <th>279</th>\n",
       "      <td>Jiff</td>\n",
       "      <td>jiff.com</td>\n",
       "      <td>$67.8M</td>\n",
       "      <td>Disrupt SF 2011</td>\n",
       "      <td>Contestant</td>\n",
       "      <td>Acquired</td>\n",
       "      <td>67.8</td>\n",
       "    </tr>\n",
       "    <tr>\n",
       "      <th>282</th>\n",
       "      <td>Kaltura</td>\n",
       "      <td>kaltura.com</td>\n",
       "      <td>$166.1M</td>\n",
       "      <td>TC40 2007</td>\n",
       "      <td>Audience choice</td>\n",
       "      <td>Operating</td>\n",
       "      <td>166.1</td>\n",
       "    </tr>\n",
       "    <tr>\n",
       "      <th>302</th>\n",
       "      <td>Layer</td>\n",
       "      <td>layer.com</td>\n",
       "      <td>$42.1M</td>\n",
       "      <td>Disrupt SF 2013</td>\n",
       "      <td>Winner</td>\n",
       "      <td>Operating</td>\n",
       "      <td>42.1</td>\n",
       "    </tr>\n",
       "    <tr>\n",
       "      <th>305</th>\n",
       "      <td>LearnVest</td>\n",
       "      <td>learnvest.com</td>\n",
       "      <td>$69M</td>\n",
       "      <td>TC50 2009</td>\n",
       "      <td>Contestant</td>\n",
       "      <td>Acquired</td>\n",
       "      <td>69.0</td>\n",
       "    </tr>\n",
       "    <tr>\n",
       "      <th>313</th>\n",
       "      <td>LiveIntent</td>\n",
       "      <td>liveintent.com</td>\n",
       "      <td>$65.1M</td>\n",
       "      <td>Disrupt NYC 2010</td>\n",
       "      <td>Audience choice</td>\n",
       "      <td>Operating</td>\n",
       "      <td>65.1</td>\n",
       "    </tr>\n",
       "    <tr>\n",
       "      <th>325</th>\n",
       "      <td>Lystable</td>\n",
       "      <td>lystable.com</td>\n",
       "      <td>$25.1M</td>\n",
       "      <td>Disrupt London 2015</td>\n",
       "      <td>Finalist</td>\n",
       "      <td>Operating</td>\n",
       "      <td>25.1</td>\n",
       "    </tr>\n",
       "    <tr>\n",
       "      <th>346</th>\n",
       "      <td>Mint</td>\n",
       "      <td>mint.com</td>\n",
       "      <td>$31.8M</td>\n",
       "      <td>TC40 2007</td>\n",
       "      <td>Winner</td>\n",
       "      <td>Acquired</td>\n",
       "      <td>31.8</td>\n",
       "    </tr>\n",
       "    <tr>\n",
       "      <th>389</th>\n",
       "      <td>OrderWithMe</td>\n",
       "      <td>orderwithme.com</td>\n",
       "      <td>$37M</td>\n",
       "      <td>Disrupt Beijing 2011</td>\n",
       "      <td>Winner</td>\n",
       "      <td>Operating</td>\n",
       "      <td>37.0</td>\n",
       "    </tr>\n",
       "    <tr>\n",
       "      <th>393</th>\n",
       "      <td>Osmo</td>\n",
       "      <td>playosmo.com</td>\n",
       "      <td>$38.5M</td>\n",
       "      <td>Disrupt SF 2013</td>\n",
       "      <td>Contestant</td>\n",
       "      <td>Operating</td>\n",
       "      <td>38.5</td>\n",
       "    </tr>\n",
       "    <tr>\n",
       "      <th>394</th>\n",
       "      <td>Ossia</td>\n",
       "      <td>ossia.com</td>\n",
       "      <td>$25.5M</td>\n",
       "      <td>Disrupt SF 2013</td>\n",
       "      <td>Runner up</td>\n",
       "      <td>Operating</td>\n",
       "      <td>25.5</td>\n",
       "    </tr>\n",
       "    <tr>\n",
       "      <th>398</th>\n",
       "      <td>Owlet Baby Care</td>\n",
       "      <td>owletcare.com</td>\n",
       "      <td>$24M</td>\n",
       "      <td>Hardware Battlefield 2014</td>\n",
       "      <td>Runner up</td>\n",
       "      <td>Operating</td>\n",
       "      <td>24.0</td>\n",
       "    </tr>\n",
       "    <tr>\n",
       "      <th>427</th>\n",
       "      <td>Postmates</td>\n",
       "      <td>postmates.com</td>\n",
       "      <td>$278M</td>\n",
       "      <td>Disrupt SF 2011</td>\n",
       "      <td>Contestant</td>\n",
       "      <td>Operating</td>\n",
       "      <td>278.0</td>\n",
       "    </tr>\n",
       "    <tr>\n",
       "      <th>432</th>\n",
       "      <td>Prism Skylabs</td>\n",
       "      <td>prism.com</td>\n",
       "      <td>$24M</td>\n",
       "      <td>Disrupt SF 2011</td>\n",
       "      <td>Runner up</td>\n",
       "      <td>Operating</td>\n",
       "      <td>24.0</td>\n",
       "    </tr>\n",
       "    <tr>\n",
       "      <th>435</th>\n",
       "      <td>PubMatic</td>\n",
       "      <td>pubmatic.com</td>\n",
       "      <td>$63M</td>\n",
       "      <td>TC40 2007</td>\n",
       "      <td>Contestant</td>\n",
       "      <td>Operating</td>\n",
       "      <td>63.0</td>\n",
       "    </tr>\n",
       "    <tr>\n",
       "      <th>460</th>\n",
       "      <td>Roadie</td>\n",
       "      <td>roadie.com</td>\n",
       "      <td>$25M</td>\n",
       "      <td>Disrupt NYC 2014</td>\n",
       "      <td>Audience choice</td>\n",
       "      <td>Operating</td>\n",
       "      <td>25.0</td>\n",
       "    </tr>\n",
       "    <tr>\n",
       "      <th>471</th>\n",
       "      <td>SeatGeek</td>\n",
       "      <td>seatgeek.com</td>\n",
       "      <td>$160M</td>\n",
       "      <td>TC50 2009</td>\n",
       "      <td>Contestant</td>\n",
       "      <td>Operating</td>\n",
       "      <td>160.0</td>\n",
       "    </tr>\n",
       "    <tr>\n",
       "      <th>546</th>\n",
       "      <td>StyleSeat</td>\n",
       "      <td>styleseat.com</td>\n",
       "      <td>$40M</td>\n",
       "      <td>Disrupt NYC 2011</td>\n",
       "      <td>Contestant</td>\n",
       "      <td>Operating</td>\n",
       "      <td>40.0</td>\n",
       "    </tr>\n",
       "    <tr>\n",
       "      <th>555</th>\n",
       "      <td>Symphony Commerce</td>\n",
       "      <td>symphonycommerce.com</td>\n",
       "      <td>$47.4M</td>\n",
       "      <td>Disrupt NYC 2011</td>\n",
       "      <td>Contestant</td>\n",
       "      <td>Operating</td>\n",
       "      <td>47.4</td>\n",
       "    </tr>\n",
       "    <tr>\n",
       "      <th>560</th>\n",
       "      <td>Talkdesk</td>\n",
       "      <td>talkdesk.com</td>\n",
       "      <td>$24.5M</td>\n",
       "      <td>Disrupt NYC 2012</td>\n",
       "      <td>Contestant</td>\n",
       "      <td>Operating</td>\n",
       "      <td>24.5</td>\n",
       "    </tr>\n",
       "    <tr>\n",
       "      <th>581</th>\n",
       "      <td>TouchPal</td>\n",
       "      <td>touchpal.com</td>\n",
       "      <td>$25M</td>\n",
       "      <td>Disrupt Beijing 2011</td>\n",
       "      <td>Finalist</td>\n",
       "      <td>Operating</td>\n",
       "      <td>25.0</td>\n",
       "    </tr>\n",
       "    <tr>\n",
       "      <th>593</th>\n",
       "      <td>TrueCar</td>\n",
       "      <td>truecar.com</td>\n",
       "      <td>$332.4M</td>\n",
       "      <td>TC50 2008</td>\n",
       "      <td>Contestant</td>\n",
       "      <td>Ipo</td>\n",
       "      <td>332.4</td>\n",
       "    </tr>\n",
       "    <tr>\n",
       "      <th>598</th>\n",
       "      <td>UberConference</td>\n",
       "      <td>uberconference.com</td>\n",
       "      <td>$35M</td>\n",
       "      <td>Disrupt NYC 2012</td>\n",
       "      <td>Winner</td>\n",
       "      <td>Operating</td>\n",
       "      <td>35.0</td>\n",
       "    </tr>\n",
       "    <tr>\n",
       "      <th>606</th>\n",
       "      <td>Upwork</td>\n",
       "      <td>upwork.com</td>\n",
       "      <td>$168.8M</td>\n",
       "      <td>TC50 2009</td>\n",
       "      <td>Audience choice</td>\n",
       "      <td>Operating</td>\n",
       "      <td>168.8</td>\n",
       "    </tr>\n",
       "    <tr>\n",
       "      <th>615</th>\n",
       "      <td>VideoSurf</td>\n",
       "      <td>videosurf.com</td>\n",
       "      <td>$28M</td>\n",
       "      <td>TC50 2008</td>\n",
       "      <td>Contestant</td>\n",
       "      <td>Acquired</td>\n",
       "      <td>28.0</td>\n",
       "    </tr>\n",
       "    <tr>\n",
       "      <th>625</th>\n",
       "      <td>Voxy</td>\n",
       "      <td>voxy.com</td>\n",
       "      <td>$30.8M</td>\n",
       "      <td>Disrupt SF 2010</td>\n",
       "      <td>Contestant</td>\n",
       "      <td>Operating</td>\n",
       "      <td>30.8</td>\n",
       "    </tr>\n",
       "    <tr>\n",
       "      <th>643</th>\n",
       "      <td>Xobni</td>\n",
       "      <td>yahoo.com</td>\n",
       "      <td>$41.8M</td>\n",
       "      <td>TC40 2007</td>\n",
       "      <td>Contestant</td>\n",
       "      <td>Acquired</td>\n",
       "      <td>41.8</td>\n",
       "    </tr>\n",
       "    <tr>\n",
       "      <th>644</th>\n",
       "      <td>Yammer</td>\n",
       "      <td>yammer.com</td>\n",
       "      <td>$142M</td>\n",
       "      <td>TC50 2008</td>\n",
       "      <td>Winner</td>\n",
       "      <td>Acquired</td>\n",
       "      <td>142.0</td>\n",
       "    </tr>\n",
       "    <tr>\n",
       "      <th>647</th>\n",
       "      <td>Yext</td>\n",
       "      <td>yext.com</td>\n",
       "      <td>$117.8M</td>\n",
       "      <td>TC50 2009</td>\n",
       "      <td>Contestant</td>\n",
       "      <td>Ipo</td>\n",
       "      <td>117.8</td>\n",
       "    </tr>\n",
       "    <tr>\n",
       "      <th>649</th>\n",
       "      <td>YouNow</td>\n",
       "      <td>younow.com</td>\n",
       "      <td>$26M</td>\n",
       "      <td>Disrupt SF 2011</td>\n",
       "      <td>Contestant</td>\n",
       "      <td>Operating</td>\n",
       "      <td>26.0</td>\n",
       "    </tr>\n",
       "    <tr>\n",
       "      <th>650</th>\n",
       "      <td>YourMechanic</td>\n",
       "      <td>yourmechanic.com</td>\n",
       "      <td>$28M</td>\n",
       "      <td>Disrupt SF 2012</td>\n",
       "      <td>Winner</td>\n",
       "      <td>Operating</td>\n",
       "      <td>28.0</td>\n",
       "    </tr>\n",
       "    <tr>\n",
       "      <th>654</th>\n",
       "      <td>ZEFR</td>\n",
       "      <td>zefr.com</td>\n",
       "      <td>$62.1M</td>\n",
       "      <td>Disrupt NYC 2010</td>\n",
       "      <td>Contestant</td>\n",
       "      <td>Operating</td>\n",
       "      <td>62.1</td>\n",
       "    </tr>\n",
       "    <tr>\n",
       "      <th>656</th>\n",
       "      <td>Zenefits</td>\n",
       "      <td>zenefits.com</td>\n",
       "      <td>$583.6M</td>\n",
       "      <td>Disrupt NYC 2013</td>\n",
       "      <td>Finalist</td>\n",
       "      <td>Operating</td>\n",
       "      <td>583.6</td>\n",
       "    </tr>\n",
       "    <tr>\n",
       "      <th>659</th>\n",
       "      <td>Zocdoc</td>\n",
       "      <td>zocdoc.com</td>\n",
       "      <td>$223M</td>\n",
       "      <td>TC40 2007</td>\n",
       "      <td>Contestant</td>\n",
       "      <td>Operating</td>\n",
       "      <td>223.0</td>\n",
       "    </tr>\n",
       "    <tr>\n",
       "      <th>661</th>\n",
       "      <td>Zumper</td>\n",
       "      <td>zumper.com</td>\n",
       "      <td>$31.5M</td>\n",
       "      <td>Disrupt SF 2012</td>\n",
       "      <td>Finalist</td>\n",
       "      <td>Operating</td>\n",
       "      <td>31.5</td>\n",
       "    </tr>\n",
       "  </tbody>\n",
       "</table>\n",
       "</div>"
      ],
      "text/plain": [
       "               Startup               Product  Funding  \\\n",
       "6         8 Securities       8securities.com     $29M   \n",
       "31             Anyclip           anyclip.com     $24M   \n",
       "40               Artsy             artsy.net   $50.9M   \n",
       "49          Badgeville        badgeville.com     $40M   \n",
       "56          Betterment        betterment.com    $205M   \n",
       "108          Clickable         clickable.com   $32.5M   \n",
       "113         Cloudflare        cloudflare.com  $182.1M   \n",
       "128      Credit Sesame      creditsesame.com   $35.4M   \n",
       "130   CrowdFlower Inc.       crowdflower.com     $38M   \n",
       "132      Cubic Telecom      cubictelecom.com   $37.1M   \n",
       "138           DataSift          datasift.com     $72M   \n",
       "139             DataXu            dataxu.com     $64M   \n",
       "154            Dropbox           dropbox.com    $1.7B   \n",
       "166             Enigma             enigma.io   $34.6M   \n",
       "172       EverythingMe         everything.me   $35.5M   \n",
       "179            Famo.us               famo.us   $30.1M   \n",
       "180            Farmigo           farmigo.com     $26M   \n",
       "188             Fitbit            fitbit.com     $66M   \n",
       "191              Flock             flock.com   $28.3M   \n",
       "209          Getaround         getaround.com    $103M   \n",
       "213               Gild              gild.com   $25.9M   \n",
       "215              Glide              glide.me   $36.5M   \n",
       "225            Grockit           grockit.com   $44.7M   \n",
       "231         HackerRank        hackerrank.com   $24.2M   \n",
       "271     Ionic Security     ionicsecurity.com  $122.4M   \n",
       "276               IZEA              izea.com   $34.9M   \n",
       "279               Jiff              jiff.com   $67.8M   \n",
       "282            Kaltura           kaltura.com  $166.1M   \n",
       "302              Layer             layer.com   $42.1M   \n",
       "305          LearnVest         learnvest.com     $69M   \n",
       "313         LiveIntent        liveintent.com   $65.1M   \n",
       "325           Lystable          lystable.com   $25.1M   \n",
       "346               Mint              mint.com   $31.8M   \n",
       "389        OrderWithMe       orderwithme.com     $37M   \n",
       "393               Osmo          playosmo.com   $38.5M   \n",
       "394              Ossia             ossia.com   $25.5M   \n",
       "398    Owlet Baby Care         owletcare.com     $24M   \n",
       "427          Postmates         postmates.com    $278M   \n",
       "432      Prism Skylabs             prism.com     $24M   \n",
       "435           PubMatic          pubmatic.com     $63M   \n",
       "460             Roadie            roadie.com     $25M   \n",
       "471           SeatGeek          seatgeek.com    $160M   \n",
       "546          StyleSeat         styleseat.com     $40M   \n",
       "555  Symphony Commerce  symphonycommerce.com   $47.4M   \n",
       "560           Talkdesk          talkdesk.com   $24.5M   \n",
       "581           TouchPal          touchpal.com     $25M   \n",
       "593            TrueCar           truecar.com  $332.4M   \n",
       "598     UberConference    uberconference.com     $35M   \n",
       "606             Upwork            upwork.com  $168.8M   \n",
       "615          VideoSurf         videosurf.com     $28M   \n",
       "625               Voxy              voxy.com   $30.8M   \n",
       "643              Xobni             yahoo.com   $41.8M   \n",
       "644             Yammer            yammer.com    $142M   \n",
       "647               Yext              yext.com  $117.8M   \n",
       "649             YouNow            younow.com     $26M   \n",
       "650       YourMechanic      yourmechanic.com     $28M   \n",
       "654               ZEFR              zefr.com   $62.1M   \n",
       "656           Zenefits          zenefits.com  $583.6M   \n",
       "659             Zocdoc            zocdoc.com    $223M   \n",
       "661             Zumper            zumper.com   $31.5M   \n",
       "\n",
       "                         Event           Result OperatingState  \\\n",
       "6         Disrupt Beijing 2011         Finalist      Operating   \n",
       "31                   TC50 2009         Finalist      Operating   \n",
       "40            Disrupt NYC 2010       Contestant      Operating   \n",
       "49             Disrupt SF 2010         Finalist       Acquired   \n",
       "56            Disrupt NYC 2010         Finalist      Operating   \n",
       "108                  TC40 2007         Finalist       Acquired   \n",
       "113            Disrupt SF 2010        Runner up      Operating   \n",
       "128            Disrupt SF 2010       Contestant      Operating   \n",
       "130                  TC50 2009       Contestant      Operating   \n",
       "132                  TC40 2007       Contestant      Operating   \n",
       "138            Disrupt SF 2010         Finalist      Operating   \n",
       "139                  TC50 2009       Contestant      Operating   \n",
       "154                  TC50 2008       Contestant      Operating   \n",
       "166           Disrupt NYC 2013           Winner      Operating   \n",
       "172           Disrupt NYC 2011       Contestant         Closed   \n",
       "179            Disrupt SF 2012       Contestant      Operating   \n",
       "180            Disrupt SF 2011         Finalist      Operating   \n",
       "188                  TC50 2008         Finalist            Ipo   \n",
       "191                  TC40 2007       Contestant       Acquired   \n",
       "209           Disrupt NYC 2011           Winner      Operating   \n",
       "213            Disrupt SF 2010       Contestant       Acquired   \n",
       "215           Disrupt NYC 2013  Audience choice      Operating   \n",
       "225                  TC50 2008         Finalist       Acquired   \n",
       "231            Disrupt SF 2012       Contestant      Operating   \n",
       "271            Disrupt SF 2012       Contestant      Operating   \n",
       "276           Disrupt NYC 2010       Contestant            Ipo   \n",
       "279            Disrupt SF 2011       Contestant       Acquired   \n",
       "282                  TC40 2007  Audience choice      Operating   \n",
       "302            Disrupt SF 2013           Winner      Operating   \n",
       "305                  TC50 2009       Contestant       Acquired   \n",
       "313           Disrupt NYC 2010  Audience choice      Operating   \n",
       "325        Disrupt London 2015         Finalist      Operating   \n",
       "346                  TC40 2007           Winner       Acquired   \n",
       "389       Disrupt Beijing 2011           Winner      Operating   \n",
       "393            Disrupt SF 2013       Contestant      Operating   \n",
       "394            Disrupt SF 2013        Runner up      Operating   \n",
       "398  Hardware Battlefield 2014        Runner up      Operating   \n",
       "427            Disrupt SF 2011       Contestant      Operating   \n",
       "432            Disrupt SF 2011        Runner up      Operating   \n",
       "435                  TC40 2007       Contestant      Operating   \n",
       "460           Disrupt NYC 2014  Audience choice      Operating   \n",
       "471                  TC50 2009       Contestant      Operating   \n",
       "546           Disrupt NYC 2011       Contestant      Operating   \n",
       "555           Disrupt NYC 2011       Contestant      Operating   \n",
       "560           Disrupt NYC 2012       Contestant      Operating   \n",
       "581       Disrupt Beijing 2011         Finalist      Operating   \n",
       "593                  TC50 2008       Contestant            Ipo   \n",
       "598           Disrupt NYC 2012           Winner      Operating   \n",
       "606                  TC50 2009  Audience choice      Operating   \n",
       "615                  TC50 2008       Contestant       Acquired   \n",
       "625            Disrupt SF 2010       Contestant      Operating   \n",
       "643                  TC40 2007       Contestant       Acquired   \n",
       "644                  TC50 2008           Winner       Acquired   \n",
       "647                  TC50 2009       Contestant            Ipo   \n",
       "649            Disrupt SF 2011       Contestant      Operating   \n",
       "650            Disrupt SF 2012           Winner      Operating   \n",
       "654           Disrupt NYC 2010       Contestant      Operating   \n",
       "656           Disrupt NYC 2013         Finalist      Operating   \n",
       "659                  TC40 2007       Contestant      Operating   \n",
       "661            Disrupt SF 2012         Finalist      Operating   \n",
       "\n",
       "     Funds_in_million  \n",
       "6                29.0  \n",
       "31               24.0  \n",
       "40               50.9  \n",
       "49               40.0  \n",
       "56              205.0  \n",
       "108              32.5  \n",
       "113             182.1  \n",
       "128              35.4  \n",
       "130              38.0  \n",
       "132              37.1  \n",
       "138              72.0  \n",
       "139              64.0  \n",
       "154            1700.0  \n",
       "166              34.6  \n",
       "172              35.5  \n",
       "179              30.1  \n",
       "180              26.0  \n",
       "188              66.0  \n",
       "191              28.3  \n",
       "209             103.0  \n",
       "213              25.9  \n",
       "215              36.5  \n",
       "225              44.7  \n",
       "231              24.2  \n",
       "271             122.4  \n",
       "276              34.9  \n",
       "279              67.8  \n",
       "282             166.1  \n",
       "302              42.1  \n",
       "305              69.0  \n",
       "313              65.1  \n",
       "325              25.1  \n",
       "346              31.8  \n",
       "389              37.0  \n",
       "393              38.5  \n",
       "394              25.5  \n",
       "398              24.0  \n",
       "427             278.0  \n",
       "432              24.0  \n",
       "435              63.0  \n",
       "460              25.0  \n",
       "471             160.0  \n",
       "546              40.0  \n",
       "555              47.4  \n",
       "560              24.5  \n",
       "581              25.0  \n",
       "593             332.4  \n",
       "598              35.0  \n",
       "606             168.8  \n",
       "615              28.0  \n",
       "625              30.8  \n",
       "643              41.8  \n",
       "644             142.0  \n",
       "647             117.8  \n",
       "649              26.0  \n",
       "650              28.0  \n",
       "654              62.1  \n",
       "656             583.6  \n",
       "659             223.0  \n",
       "661              31.5  "
      ]
     },
     "execution_count": 25,
     "metadata": {},
     "output_type": "execute_result"
    }
   ],
   "source": [
    "print(f'Number of outliers = {len(df2[df2.Funds_in_million > upper_fence])}')\n",
    "\n",
    "df2[df2.Funds_in_million > upper_fence]"
   ]
  },
  {
   "cell_type": "code",
   "execution_count": 27,
   "id": "23663dd1",
   "metadata": {},
   "outputs": [
    {
     "data": {
      "text/html": [
       "<div>\n",
       "<style scoped>\n",
       "    .dataframe tbody tr th:only-of-type {\n",
       "        vertical-align: middle;\n",
       "    }\n",
       "\n",
       "    .dataframe tbody tr th {\n",
       "        vertical-align: top;\n",
       "    }\n",
       "\n",
       "    .dataframe thead th {\n",
       "        text-align: right;\n",
       "    }\n",
       "</style>\n",
       "<table border=\"1\" class=\"dataframe\">\n",
       "  <thead>\n",
       "    <tr style=\"text-align: right;\">\n",
       "      <th></th>\n",
       "      <th>Startup</th>\n",
       "      <th>Product</th>\n",
       "      <th>Funding</th>\n",
       "      <th>Event</th>\n",
       "      <th>Result</th>\n",
       "      <th>OperatingState</th>\n",
       "      <th>Funds_in_million</th>\n",
       "    </tr>\n",
       "  </thead>\n",
       "  <tbody>\n",
       "    <tr>\n",
       "      <th>1</th>\n",
       "      <td>3DLT</td>\n",
       "      <td>3dlt.com</td>\n",
       "      <td>$630K</td>\n",
       "      <td>Disrupt NYC 2013</td>\n",
       "      <td>Contestant</td>\n",
       "      <td>Closed</td>\n",
       "      <td>0.63</td>\n",
       "    </tr>\n",
       "    <tr>\n",
       "      <th>3</th>\n",
       "      <td>3Dprintler</td>\n",
       "      <td>3dprintler.com</td>\n",
       "      <td>$1M</td>\n",
       "      <td>Disrupt NY 2016</td>\n",
       "      <td>Audience choice</td>\n",
       "      <td>Operating</td>\n",
       "      <td>1.00</td>\n",
       "    </tr>\n",
       "    <tr>\n",
       "      <th>5</th>\n",
       "      <td>5to1</td>\n",
       "      <td>5to1.com</td>\n",
       "      <td>$19.3M</td>\n",
       "      <td>TC50 2009</td>\n",
       "      <td>Contestant</td>\n",
       "      <td>Acquired</td>\n",
       "      <td>19.30</td>\n",
       "    </tr>\n",
       "    <tr>\n",
       "      <th>10</th>\n",
       "      <td>AdhereTech</td>\n",
       "      <td>adheretech.com</td>\n",
       "      <td>$1.8M</td>\n",
       "      <td>Hardware Battlefield 2014</td>\n",
       "      <td>Contestant</td>\n",
       "      <td>Operating</td>\n",
       "      <td>1.80</td>\n",
       "    </tr>\n",
       "    <tr>\n",
       "      <th>11</th>\n",
       "      <td>AdRocket</td>\n",
       "      <td>adrocket.com</td>\n",
       "      <td>$1M</td>\n",
       "      <td>TC50 2008</td>\n",
       "      <td>Contestant</td>\n",
       "      <td>Closed</td>\n",
       "      <td>1.00</td>\n",
       "    </tr>\n",
       "    <tr>\n",
       "      <th>...</th>\n",
       "      <td>...</td>\n",
       "      <td>...</td>\n",
       "      <td>...</td>\n",
       "      <td>...</td>\n",
       "      <td>...</td>\n",
       "      <td>...</td>\n",
       "      <td>...</td>\n",
       "    </tr>\n",
       "    <tr>\n",
       "      <th>645</th>\n",
       "      <td>Yap</td>\n",
       "      <td>yapme.com</td>\n",
       "      <td>$10M</td>\n",
       "      <td>TC40 2007</td>\n",
       "      <td>Contestant</td>\n",
       "      <td>Closed</td>\n",
       "      <td>10.00</td>\n",
       "    </tr>\n",
       "    <tr>\n",
       "      <th>646</th>\n",
       "      <td>YayPay Inc</td>\n",
       "      <td>yaypay.com</td>\n",
       "      <td>$900K</td>\n",
       "      <td>Disrupt London 2015</td>\n",
       "      <td>Contestant</td>\n",
       "      <td>Operating</td>\n",
       "      <td>0.90</td>\n",
       "    </tr>\n",
       "    <tr>\n",
       "      <th>657</th>\n",
       "      <td>Zivity</td>\n",
       "      <td>zivity.com</td>\n",
       "      <td>$8M</td>\n",
       "      <td>TC40 2007</td>\n",
       "      <td>Contestant</td>\n",
       "      <td>Operating</td>\n",
       "      <td>8.00</td>\n",
       "    </tr>\n",
       "    <tr>\n",
       "      <th>658</th>\n",
       "      <td>Zmorph</td>\n",
       "      <td>zmorph3d.com</td>\n",
       "      <td>$1M</td>\n",
       "      <td>-</td>\n",
       "      <td>Audience choice</td>\n",
       "      <td>Operating</td>\n",
       "      <td>1.00</td>\n",
       "    </tr>\n",
       "    <tr>\n",
       "      <th>660</th>\n",
       "      <td>Zula</td>\n",
       "      <td>zulaapp.com</td>\n",
       "      <td>$3.4M</td>\n",
       "      <td>Disrupt SF 2013</td>\n",
       "      <td>Audience choice</td>\n",
       "      <td>Operating</td>\n",
       "      <td>3.40</td>\n",
       "    </tr>\n",
       "  </tbody>\n",
       "</table>\n",
       "<p>386 rows × 7 columns</p>\n",
       "</div>"
      ],
      "text/plain": [
       "        Startup         Product Funding                      Event  \\\n",
       "1          3DLT        3dlt.com   $630K           Disrupt NYC 2013   \n",
       "3    3Dprintler  3dprintler.com     $1M            Disrupt NY 2016   \n",
       "5          5to1        5to1.com  $19.3M                  TC50 2009   \n",
       "10   AdhereTech  adheretech.com   $1.8M  Hardware Battlefield 2014   \n",
       "11     AdRocket    adrocket.com     $1M                  TC50 2008   \n",
       "..          ...             ...     ...                        ...   \n",
       "645         Yap       yapme.com    $10M                  TC40 2007   \n",
       "646  YayPay Inc      yaypay.com   $900K        Disrupt London 2015   \n",
       "657      Zivity      zivity.com     $8M                  TC40 2007   \n",
       "658      Zmorph    zmorph3d.com     $1M                          -   \n",
       "660        Zula     zulaapp.com   $3.4M            Disrupt SF 2013   \n",
       "\n",
       "              Result OperatingState  Funds_in_million  \n",
       "1         Contestant         Closed              0.63  \n",
       "3    Audience choice      Operating              1.00  \n",
       "5         Contestant       Acquired             19.30  \n",
       "10        Contestant      Operating              1.80  \n",
       "11        Contestant         Closed              1.00  \n",
       "..               ...            ...               ...  \n",
       "645       Contestant         Closed             10.00  \n",
       "646       Contestant      Operating              0.90  \n",
       "657       Contestant      Operating              8.00  \n",
       "658  Audience choice      Operating              1.00  \n",
       "660  Audience choice      Operating              3.40  \n",
       "\n",
       "[386 rows x 7 columns]"
      ]
     },
     "execution_count": 27,
     "metadata": {},
     "output_type": "execute_result"
    }
   ],
   "source": [
    "df2.drop(df2[df2.Funds_in_million > upper_fence].index, inplace = True)\n",
    "df2"
   ]
  },
  {
   "cell_type": "code",
   "execution_count": 29,
   "id": "f7f868e8",
   "metadata": {},
   "outputs": [
    {
     "data": {
      "text/plain": [
       "count           386\n",
       "unique            3\n",
       "top       Operating\n",
       "freq            275\n",
       "Name: OperatingState, dtype: object"
      ]
     },
     "execution_count": 29,
     "metadata": {},
     "output_type": "execute_result"
    }
   ],
   "source": [
    "df2.OperatingState.describe()"
   ]
  },
  {
   "cell_type": "code",
   "execution_count": 31,
   "id": "9b60424b",
   "metadata": {},
   "outputs": [
    {
     "data": {
      "text/plain": [
       "Operating    275\n",
       "Closed        56\n",
       "Acquired      55\n",
       "Name: OperatingState, dtype: int64"
      ]
     },
     "execution_count": 31,
     "metadata": {},
     "output_type": "execute_result"
    }
   ],
   "source": [
    "df2.OperatingState.value_counts()"
   ]
  },
  {
   "cell_type": "code",
   "execution_count": 33,
   "id": "bcb0c186",
   "metadata": {},
   "outputs": [
    {
     "data": {
      "image/png": "[encoded data removed]",
      "text/plain": [
       "<Figure size 1080x360 with 2 Axes>"
      ]
     },
     "metadata": {
      "needs_background": "light"
     },
     "output_type": "display_data"
    }
   ],
   "source": [
    "import seaborn as sns\n",
    "fig, ax = plt.subplots(1, 2)\n",
    "\n",
    "fig.set_figheight(5)\n",
    "fig.set_figwidth(15)\n",
    "\n",
    "sns.histplot(df2.loc[df2.OperatingState == 'Operating', 'Funds_in_million'], ax = ax[0])\n",
    "sns.histplot(df2.loc[df2.OperatingState =='Closed', 'Funds_in_million'], ax = ax[1])\n",
    "\n",
    "ax[0].set_title('Funds raised by the companies still operating')\n",
    "ax[1].set_title('Funds raised by companies that got closed')\n",
    "plt.show()"
   ]
  },
  {
   "cell_type": "code",
   "execution_count": 34,
   "id": "3822632c",
   "metadata": {},
   "outputs": [
    {
     "name": "stdout",
     "output_type": "stream",
     "text": [
      "\t Since the p-value, 0.192 > 0.05 (alpha) the difference is not significant and,\n",
      "    \t we fail to reject the Null hypothesis\n"
     ]
    }
   ],
   "source": [
    "from statsmodels.stats.weightstats import ztest\n",
    "\n",
    "sample1 = df2.loc[df2.OperatingState == 'Operating', 'Funds_in_million']\n",
    "sample2 = df2.loc[df2.OperatingState =='Closed', 'Funds_in_million']\n",
    "\n",
    "alpha = 0.05   \n",
    "\n",
    "test_statistic, p_value = ztest(sample1, sample2)\n",
    "\n",
    "if p_value <= alpha:\n",
    "    print(f'Since the p-value, {round(p_value, 3)} < {alpha} (alpha) the difference is significant and we reject the Null hypothesis')\n",
    "else:\n",
    "    print(f'''\\t Since the p-value, {round(p_value,3)} > {alpha} (alpha) the difference is not significant and,\n",
    "    \\t we fail to reject the Null hypothesis''')\n",
    "    "
   ]
  },
  {
   "cell_type": "code",
   "execution_count": 36,
   "id": "5789726f",
   "metadata": {},
   "outputs": [
    {
     "name": "stdout",
     "output_type": "stream",
     "text": [
      "From the tests above we found no evidence to state that the companies that have raised more money tend to suceed more or vice-versa\n"
     ]
    }
   ],
   "source": [
    "print('From the tests above we found no evidence to state that the companies that have raised more money tend to suceed more or vice-versa')"
   ]
  },
  {
   "cell_type": "code",
   "execution_count": 37,
   "id": "783fd01b",
   "metadata": {},
   "outputs": [
    {
     "data": {
      "text/html": [
       "<div>\n",
       "<style scoped>\n",
       "    .dataframe tbody tr th:only-of-type {\n",
       "        vertical-align: middle;\n",
       "    }\n",
       "\n",
       "    .dataframe tbody tr th {\n",
       "        vertical-align: top;\n",
       "    }\n",
       "\n",
       "    .dataframe thead th {\n",
       "        text-align: right;\n",
       "    }\n",
       "</style>\n",
       "<table border=\"1\" class=\"dataframe\">\n",
       "  <thead>\n",
       "    <tr style=\"text-align: right;\">\n",
       "      <th></th>\n",
       "      <th>Startup</th>\n",
       "      <th>Product</th>\n",
       "      <th>Funding</th>\n",
       "      <th>Event</th>\n",
       "      <th>Result</th>\n",
       "      <th>OperatingState</th>\n",
       "    </tr>\n",
       "  </thead>\n",
       "  <tbody>\n",
       "    <tr>\n",
       "      <th>0</th>\n",
       "      <td>2600Hz</td>\n",
       "      <td>2600hz.com</td>\n",
       "      <td>NaN</td>\n",
       "      <td>Disrupt SF 2013</td>\n",
       "      <td>Contestant</td>\n",
       "      <td>Operating</td>\n",
       "    </tr>\n",
       "    <tr>\n",
       "      <th>1</th>\n",
       "      <td>3DLT</td>\n",
       "      <td>3dlt.com</td>\n",
       "      <td>$630K</td>\n",
       "      <td>Disrupt NYC 2013</td>\n",
       "      <td>Contestant</td>\n",
       "      <td>Closed</td>\n",
       "    </tr>\n",
       "    <tr>\n",
       "      <th>2</th>\n",
       "      <td>3DPrinterOS</td>\n",
       "      <td>3dprinteros.com</td>\n",
       "      <td>NaN</td>\n",
       "      <td>Disrupt SF 2016</td>\n",
       "      <td>Contestant</td>\n",
       "      <td>Operating</td>\n",
       "    </tr>\n",
       "    <tr>\n",
       "      <th>3</th>\n",
       "      <td>3Dprintler</td>\n",
       "      <td>3dprintler.com</td>\n",
       "      <td>$1M</td>\n",
       "      <td>Disrupt NY 2016</td>\n",
       "      <td>Audience choice</td>\n",
       "      <td>Operating</td>\n",
       "    </tr>\n",
       "    <tr>\n",
       "      <th>4</th>\n",
       "      <td>42 Technologies</td>\n",
       "      <td>42technologies.com</td>\n",
       "      <td>NaN</td>\n",
       "      <td>Disrupt NYC 2013</td>\n",
       "      <td>Contestant</td>\n",
       "      <td>Operating</td>\n",
       "    </tr>\n",
       "  </tbody>\n",
       "</table>\n",
       "</div>"
      ],
      "text/plain": [
       "           Startup             Product Funding             Event  \\\n",
       "0           2600Hz          2600hz.com     NaN   Disrupt SF 2013   \n",
       "1             3DLT            3dlt.com   $630K  Disrupt NYC 2013   \n",
       "2      3DPrinterOS     3dprinteros.com     NaN   Disrupt SF 2016   \n",
       "3       3Dprintler      3dprintler.com     $1M   Disrupt NY 2016   \n",
       "4  42 Technologies  42technologies.com     NaN  Disrupt NYC 2013   \n",
       "\n",
       "            Result OperatingState  \n",
       "0       Contestant      Operating  \n",
       "1       Contestant         Closed  \n",
       "2       Contestant      Operating  \n",
       "3  Audience choice      Operating  \n",
       "4       Contestant      Operating  "
      ]
     },
     "execution_count": 37,
     "metadata": {},
     "output_type": "execute_result"
    }
   ],
   "source": [
    "df3 = df1.copy(deep = True)\n",
    "df3.head()"
   ]
  },
  {
   "cell_type": "code",
   "execution_count": 39,
   "id": "84c9fe15",
   "metadata": {},
   "outputs": [
    {
     "data": {
      "text/plain": [
       "Contestant         488\n",
       "Finalist            84\n",
       "Audience choice     41\n",
       "Winner              26\n",
       "Runner up           23\n",
       "Name: Result, dtype: int64"
      ]
     },
     "execution_count": 39,
     "metadata": {},
     "output_type": "execute_result"
    }
   ],
   "source": [
    "df3.Result.value_counts()"
   ]
  },
  {
   "cell_type": "code",
   "execution_count": 41,
   "id": "6e678841",
   "metadata": {},
   "outputs": [
    {
     "name": "stdout",
     "output_type": "stream",
     "text": [
      "174\n"
     ]
    },
    {
     "data": {
      "text/plain": [
       "488"
      ]
     },
     "execution_count": 41,
     "metadata": {},
     "output_type": "execute_result"
    }
   ],
   "source": [
    "winners = df3.Result.value_counts()[1:].sum()\n",
    "contestants = df3.Result.value_counts()['Contestant']\n",
    "print(winners)\n",
    "contestants"
   ]
  },
  {
   "cell_type": "code",
   "execution_count": 42,
   "id": "027be4f6",
   "metadata": {},
   "outputs": [
    {
     "name": "stdout",
     "output_type": "stream",
     "text": [
      "Percentage of winners still operating is 76.44 %\n",
      "Percentage of contestents still operating is 68.03 %\n"
     ]
    }
   ],
   "source": [
    "contestants_operating = df3.OperatingState[df3.Result == 'Contestant'].value_counts().loc['Operating']\n",
    "winners_operating = df3.OperatingState[df3.Result != 'Contestant'].value_counts().loc['Operating']\n",
    "w=winners_operating/winners*100\n",
    "c=contestants_operating/contestants*100\n",
    "print('Percentage of winners still operating is %2.2f' %w,'%')\n",
    "print('Percentage of contestents still operating is %2.2f' %c,'%')"
   ]
  },
  {
   "cell_type": "code",
   "execution_count": 44,
   "id": "198de157",
   "metadata": {},
   "outputs": [
    {
     "name": "stdout",
     "output_type": "stream",
     "text": [
      "Since the p-value, 0.037 < 0.05 (alpha) the difference is significant and we reject the Null hypothesis\n"
     ]
    }
   ],
   "source": [
    "from statsmodels.stats.proportion import proportions_ztest\n",
    "\n",
    "test_statistic, p_value = proportions_ztest([contestants_operating, winners_operating], [contestants, winners])\n",
    "\n",
    "if p_value <= alpha:\n",
    "    print(f'Since the p-value, {round(p_value, 3)} < {alpha} (alpha) the difference is significant and we reject the Null hypothesis')\n",
    "else:\n",
    "    print(f'''\\t Since the p-value, {round(p_value,3)} > {alpha} (alpha) the difference is not significant and,\n",
    "    \\t we fail to reject the Null hypothesis''')"
   ]
  },
  {
   "cell_type": "code",
   "execution_count": 45,
   "id": "2d012621",
   "metadata": {},
   "outputs": [],
   "source": [
    "#The amount of funds a company raises is not a significant factor in deciding if the company will remain operational or close down\n",
    "#Winners in the companies battle have proven to remain operational more so, than the companies that came out only as contestants"
   ]
  },
  {
   "cell_type": "code",
   "execution_count": 47,
   "id": "07d6856f",
   "metadata": {},
   "outputs": [
    {
     "data": {
      "text/plain": [
       "Disrupt NY 2015         21\n",
       "Disrupt NYC 2013        19\n",
       "Disrupt SF 2011         19\n",
       "Disrupt SF 2013         19\n",
       "Disrupt SF 2014         19\n",
       "Disrupt NYC 2012        19\n",
       "Disrupt SF 2015         19\n",
       "Disrupt SF 2016         17\n",
       "Disrupt NY 2016         16\n",
       "Disrupt SF 2012         15\n",
       "Disrupt NYC 2011        15\n",
       "Disrupt NYC 2014        15\n",
       "Disrupt SF 2010         13\n",
       "Disrupt London 2015     11\n",
       "Disrupt NYC 2010        10\n",
       "Disrupt London 2016     10\n",
       "Disrupt EU 2014         10\n",
       "Disrupt EU 2013          9\n",
       "Disrupt Beijing 2011     4\n",
       "Name: Event, dtype: int64"
      ]
     },
     "execution_count": 47,
     "metadata": {},
     "output_type": "execute_result"
    }
   ],
   "source": [
    "df2[df2.Event.apply(lambda x: 'Disrupt' in x)].Event.value_counts()"
   ]
  },
  {
   "cell_type": "code",
   "execution_count": 48,
   "id": "ce0c9643",
   "metadata": {},
   "outputs": [
    {
     "data": {
      "text/plain": [
       "1         Disrupt NYC 2013\n",
       "3          Disrupt NY 2016\n",
       "13         Disrupt SF 2015\n",
       "14     Disrupt London 2016\n",
       "16         Disrupt SF 2015\n",
       "              ...         \n",
       "635        Disrupt NY 2015\n",
       "641       Disrupt NYC 2013\n",
       "642        Disrupt SF 2014\n",
       "646    Disrupt London 2015\n",
       "660        Disrupt SF 2013\n",
       "Name: Event, Length: 185, dtype: object"
      ]
     },
     "execution_count": 48,
     "metadata": {},
     "output_type": "execute_result"
    }
   ],
   "source": [
    "events = df2[df2.Event.apply(lambda x: 'Disrupt' in x and int(x[-4:]) > 2012)].Event\n",
    "events"
   ]
  }
 ],
 "metadata": {
  "kernelspec": {
   "display_name": "Python 3 (ipykernel)",
   "language": "python",
   "name": "python3"
  },
  "language_info": {
   "codemirror_mode": {
    "name": "ipython",
    "version": 3
   },
   "file_extension": ".py",
   "mimetype": "text/x-python",
   "name": "python",
   "nbconvert_exporter": "python",
   "pygments_lexer": "ipython3",
   "version": "3.9.7"
  }
 },
 "nbformat": 4,
 "nbformat_minor": 5
}
