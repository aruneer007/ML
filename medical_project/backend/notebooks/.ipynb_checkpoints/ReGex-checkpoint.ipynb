{
 "cells": [
  {
   "cell_type": "code",
   "execution_count": 1,
   "id": "6d0050f7",
   "metadata": {},
   "outputs": [],
   "source": [
    "import re"
   ]
  },
  {
   "cell_type": "code",
   "execution_count": 2,
   "id": "0c8a545b",
   "metadata": {},
   "outputs": [],
   "source": [
    "test = \"Patient's phone number is 7321119999. Bill amount is 120$. Patient can go to our online portal www.awesomehospital.com and pay the bill online.\""
   ]
  },
  {
   "cell_type": "code",
   "execution_count": 3,
   "id": "2c20284e",
   "metadata": {},
   "outputs": [],
   "source": [
    "pattern = '\\d+'"
   ]
  },
  {
   "cell_type": "markdown",
   "id": "572b90de",
   "metadata": {},
   "source": [
    "## Extract all numbers"
   ]
  },
  {
   "cell_type": "code",
   "execution_count": 5,
   "id": "a752a4fe",
   "metadata": {},
   "outputs": [],
   "source": [
    "match = re.findall(pattern, test)"
   ]
  },
  {
   "cell_type": "code",
   "execution_count": 6,
   "id": "4aa2bdc2",
   "metadata": {},
   "outputs": [
    {
     "data": {
      "text/plain": [
       "['7321119999', '120']"
      ]
     },
     "execution_count": 6,
     "metadata": {},
     "output_type": "execute_result"
    }
   ],
   "source": [
    "match"
   ]
  },
  {
   "cell_type": "code",
   "execution_count": 7,
   "id": "74717aa5",
   "metadata": {},
   "outputs": [
    {
     "name": "stdout",
     "output_type": "stream",
     "text": [
      "['7321119999', '120']\n"
     ]
    }
   ],
   "source": [
    "print(match)"
   ]
  },
  {
   "cell_type": "markdown",
   "id": "983ba1c3",
   "metadata": {},
   "source": [
    "## Extractonly the phone numbers"
   ]
  },
  {
   "cell_type": "code",
   "execution_count": 8,
   "id": "6df23db0",
   "metadata": {},
   "outputs": [],
   "source": [
    "pattern = '\\d{10}'"
   ]
  },
  {
   "cell_type": "code",
   "execution_count": 9,
   "id": "17305216",
   "metadata": {},
   "outputs": [],
   "source": [
    "match = re.findall(pattern, test)"
   ]
  },
  {
   "cell_type": "code",
   "execution_count": 10,
   "id": "6562bb31",
   "metadata": {},
   "outputs": [
    {
     "data": {
      "text/plain": [
       "['7321119999']"
      ]
     },
     "execution_count": 10,
     "metadata": {},
     "output_type": "execute_result"
    }
   ],
   "source": [
    "match"
   ]
  },
  {
   "cell_type": "markdown",
   "id": "2d2bc2b1",
   "metadata": {},
   "source": [
    "## Extract phone number either 10 digits continuous or (xxx)-xxx-xxxx"
   ]
  },
  {
   "cell_type": "code",
   "execution_count": 11,
   "id": "6b7be6e0",
   "metadata": {},
   "outputs": [],
   "source": [
    "pattern = '\\(\\d{3}\\)-\\d{3}-\\d{4}|\\d{10}'\n",
    "\n",
    "test = \"Patient's phone number is (732)-111-9999 and spouse phine number 7321119999. Bill amount is 120$.\""
   ]
  },
  {
   "cell_type": "code",
   "execution_count": 12,
   "id": "c017ab49",
   "metadata": {},
   "outputs": [
    {
     "data": {
      "text/plain": [
       "['(732)-111-9999', '7321119999']"
      ]
     },
     "execution_count": 12,
     "metadata": {},
     "output_type": "execute_result"
    }
   ],
   "source": [
    "match = re.findall(pattern,test)\n",
    "match"
   ]
  },
  {
   "cell_type": "markdown",
   "id": "ad905ce9",
   "metadata": {},
   "source": [
    "## Extract phone number and bill amount"
   ]
  },
  {
   "cell_type": "code",
   "execution_count": 23,
   "id": "eba17cf3",
   "metadata": {},
   "outputs": [],
   "source": [
    "pattern = \"(\\d{10})\\D+(\\d+)\\$\"\n",
    "text = \"Patient's phone number is 7321119999. Bill amount is 120$. Patient can go to our online portal www.awesomehospital.com and pay the bill online.\"\n"
   ]
  },
  {
   "cell_type": "code",
   "execution_count": 24,
   "id": "35656f38",
   "metadata": {},
   "outputs": [],
   "source": [
    "match = re.search(pattern, text)"
   ]
  },
  {
   "cell_type": "code",
   "execution_count": 25,
   "id": "7d11c4a8",
   "metadata": {},
   "outputs": [
    {
     "data": {
      "text/plain": [
       "('7321119999', '120')"
      ]
     },
     "execution_count": 25,
     "metadata": {},
     "output_type": "execute_result"
    }
   ],
   "source": [
    "match.groups()"
   ]
  },
  {
   "cell_type": "code",
   "execution_count": 26,
   "id": "5bdbcb0e",
   "metadata": {},
   "outputs": [],
   "source": [
    "phone_number, amount= match.groups()"
   ]
  },
  {
   "cell_type": "code",
   "execution_count": 27,
   "id": "bd8a3f79",
   "metadata": {},
   "outputs": [
    {
     "data": {
      "text/plain": [
       "'7321119999'"
      ]
     },
     "execution_count": 27,
     "metadata": {},
     "output_type": "execute_result"
    }
   ],
   "source": [
    "phone_number"
   ]
  },
  {
   "cell_type": "code",
   "execution_count": 28,
   "id": "87e609b7",
   "metadata": {},
   "outputs": [
    {
     "data": {
      "text/plain": [
       "'120'"
      ]
     },
     "execution_count": 28,
     "metadata": {},
     "output_type": "execute_result"
    }
   ],
   "source": [
    "amount"
   ]
  },
  {
   "cell_type": "markdown",
   "id": "c70c2824",
   "metadata": {},
   "source": [
    "## Extracting character"
   ]
  },
  {
   "cell_type": "code",
   "execution_count": 29,
   "id": "840910f0",
   "metadata": {},
   "outputs": [],
   "source": [
    "text = '''Name: Marta Sharapova Date: 9/11/2022\n",
    "\n",
    "Address: 9 tennis court, new Russia, DC\n",
    "\n",
    "Prednisone 20 mg\n",
    "Lialda 2.4 gram\n",
    "\n",
    "Directions:\n",
    "\n",
    "Prednisone, Taper 5 mg every 3 days,\n",
    "Finish in 2.5 weeks a\n",
    "Lialda - take 2 pill everyday for 1 month\n",
    "\n",
    "Refill: 2 times'''"
   ]
  },
  {
   "cell_type": "code",
   "execution_count": 31,
   "id": "03757c1e",
   "metadata": {},
   "outputs": [
    {
     "name": "stdout",
     "output_type": "stream",
     "text": [
      "Name: Marta Sharapova Date: 9/11/2022\n",
      "\n",
      "Address: 9 tennis court, new Russia, DC\n",
      "\n",
      "Prednisone 20 mg\n",
      "Lialda 2.4 gram\n",
      "\n",
      "Directions:\n",
      "\n",
      "Prednisone, Taper 5 mg every 3 days,\n",
      "Finish in 2.5 weeks a\n",
      "Lialda - take 2 pill everyday for 1 month\n",
      "\n",
      "Refill: 2 times\n"
     ]
    }
   ],
   "source": [
    "print(text)"
   ]
  },
  {
   "cell_type": "code",
   "execution_count": 32,
   "id": "b88a03d3",
   "metadata": {},
   "outputs": [],
   "source": [
    "pattern = \"Name:(.*)Date:\""
   ]
  },
  {
   "cell_type": "code",
   "execution_count": 33,
   "id": "f93fe29c",
   "metadata": {},
   "outputs": [],
   "source": [
    "name = re.findall(pattern, text)"
   ]
  },
  {
   "cell_type": "code",
   "execution_count": 37,
   "id": "6b65ee65",
   "metadata": {},
   "outputs": [
    {
     "name": "stdout",
     "output_type": "stream",
     "text": [
      "Marta Sharapova\n"
     ]
    }
   ],
   "source": [
    "print(name[0].strip())"
   ]
  },
  {
   "cell_type": "code",
   "execution_count": 38,
   "id": "03379152",
   "metadata": {},
   "outputs": [],
   "source": [
    "pattern = \"Address:(.*)\\n\""
   ]
  },
  {
   "cell_type": "code",
   "execution_count": 42,
   "id": "5811f603",
   "metadata": {},
   "outputs": [],
   "source": [
    "address = re.findall(pattern, text)"
   ]
  },
  {
   "cell_type": "code",
   "execution_count": 43,
   "id": "1242468d",
   "metadata": {},
   "outputs": [
    {
     "data": {
      "text/plain": [
       "'9 tennis court, new Russia, DC'"
      ]
     },
     "execution_count": 43,
     "metadata": {},
     "output_type": "execute_result"
    }
   ],
   "source": [
    "address[0].strip()"
   ]
  },
  {
   "cell_type": "code",
   "execution_count": 47,
   "id": "6adccecf",
   "metadata": {},
   "outputs": [],
   "source": [
    "pattern = \"Address:[^\\n]*(.*)Directions:\"\n",
    "medicine = re.findall(pattern, text, flags = re.DOTALL)"
   ]
  },
  {
   "cell_type": "code",
   "execution_count": 50,
   "id": "0e64c2e1",
   "metadata": {},
   "outputs": [
    {
     "name": "stdout",
     "output_type": "stream",
     "text": [
      "Prednisone 20 mg\n",
      "Lialda 2.4 gram\n"
     ]
    }
   ],
   "source": [
    "print(medicine[0].strip())"
   ]
  },
  {
   "cell_type": "code",
   "execution_count": 51,
   "id": "87569de2",
   "metadata": {},
   "outputs": [],
   "source": [
    "pattern = \"Directions:(.*)Refill:\""
   ]
  },
  {
   "cell_type": "code",
   "execution_count": 54,
   "id": "7252ff9e",
   "metadata": {},
   "outputs": [],
   "source": [
    "Directions = re.findall(pattern, text, flags = re.DOTALL)"
   ]
  },
  {
   "cell_type": "code",
   "execution_count": 55,
   "id": "c7d47f09",
   "metadata": {},
   "outputs": [
    {
     "name": "stdout",
     "output_type": "stream",
     "text": [
      "Prednisone, Taper 5 mg every 3 days,\n",
      "Finish in 2.5 weeks a\n",
      "Lialda - take 2 pill everyday for 1 month\n"
     ]
    }
   ],
   "source": [
    "print(Directions[0].strip())"
   ]
  },
  {
   "cell_type": "code",
   "execution_count": 57,
   "id": "945f4655",
   "metadata": {},
   "outputs": [],
   "source": [
    "pattern = \"Refill:(.*)times\""
   ]
  },
  {
   "cell_type": "code",
   "execution_count": 58,
   "id": "b4cd700a",
   "metadata": {},
   "outputs": [],
   "source": [
    "refill = re.findall(pattern, text, flags = re.DOTALL)"
   ]
  },
  {
   "cell_type": "code",
   "execution_count": 59,
   "id": "9169f24f",
   "metadata": {},
   "outputs": [
    {
     "name": "stdout",
     "output_type": "stream",
     "text": [
      "2\n"
     ]
    }
   ],
   "source": [
    "print(refill[0].strip())"
   ]
  },
  {
   "cell_type": "code",
   "execution_count": null,
   "id": "dc63ae79",
   "metadata": {},
   "outputs": [],
   "source": []
  }
 ],
 "metadata": {
  "kernelspec": {
   "display_name": "Python 3 (ipykernel)",
   "language": "python",
   "name": "python3"
  },
  "language_info": {
   "codemirror_mode": {
    "name": "ipython",
    "version": 3
   },
   "file_extension": ".py",
   "mimetype": "text/x-python",
   "name": "python",
   "nbconvert_exporter": "python",
   "pygments_lexer": "ipython3",
   "version": "3.9.7"
  }
 },
 "nbformat": 4,
 "nbformat_minor": 5
}
