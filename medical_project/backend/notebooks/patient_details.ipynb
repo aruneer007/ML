{
 "cells": [
  {
   "cell_type": "code",
   "execution_count": 1,
   "id": "3f473ddb",
   "metadata": {},
   "outputs": [],
   "source": [
    "import cv2\n",
    "from pdf2image import convert_from_path\n",
    "from PIL import Image\n",
    "\n",
    "POPPLER_PATH = r'C:\\poppler-22.04.0\\Library\\bin'"
   ]
  },
  {
   "cell_type": "code",
   "execution_count": 39,
   "id": "a1a8d986",
   "metadata": {},
   "outputs": [],
   "source": [
    "pages = convert_from_path(r'docs\\patient_details\\pd_1.pdf', poppler_path = POPPLER_PATH)"
   ]
  },
  {
   "cell_type": "code",
   "execution_count": 40,
   "id": "b119ba78",
   "metadata": {},
   "outputs": [],
   "source": [
    "import pytesseract\n",
    "import numpy as np"
   ]
  },
  {
   "cell_type": "code",
   "execution_count": 41,
   "id": "fa67e7d5",
   "metadata": {},
   "outputs": [],
   "source": [
    "def preprocess_image(img):\n",
    "    gray = cv2.cvtColor(np.array(img), cv2.COLOR_BGR2GRAY)\n",
    "    resized = cv2.resize(gray, None, fx=1.5, fy=1.5, interpolation=cv2.INTER_LINEAR)\n",
    "    new_img = cv2.adaptiveThreshold(resized, 255, cv2.ADAPTIVE_THRESH_GAUSSIAN_C, cv2.THRESH_BINARY, 65, 11)\n",
    "    return new_img"
   ]
  },
  {
   "cell_type": "code",
   "execution_count": 42,
   "id": "40c34dce",
   "metadata": {},
   "outputs": [],
   "source": [
    "img = preprocess_image(pages[0])\n",
    "Image.fromarray(img).show()"
   ]
  },
  {
   "cell_type": "code",
   "execution_count": 43,
   "id": "f29e8487",
   "metadata": {},
   "outputs": [],
   "source": [
    "pytesseract.pytesseract.tesseract_cmd = r\"C:\\Program Files\\Tesseract-OCR\\tesseract.exe\"\n",
    "text = pytesseract.image_to_string(img, lang = 'eng')"
   ]
  },
  {
   "cell_type": "code",
   "execution_count": 44,
   "id": "4d7f8482",
   "metadata": {},
   "outputs": [
    {
     "name": "stdout",
     "output_type": "stream",
     "text": [
      "17/12/2020\n",
      "\n",
      "Patient Medical Record\n",
      "\n",
      "Patient Information Birth Date\n",
      "\n",
      "Kathy Crawford May 6 1972\n",
      "\n",
      "(737) 988-0851 Weight’\n",
      "\n",
      "9264 Ash Dr 9\n",
      "\n",
      "New York City, 10005 ‘\n",
      "\n",
      "United States Height:\n",
      "190\n",
      "\n",
      "In Case of Emergency\n",
      "ee ee\n",
      "Simeone Crawford 9266 Ash Dr\n",
      "New York City, New York, 10005\n",
      "Home phone United States\n",
      "(990) 375-4621\n",
      "Work phone\n",
      "Genera! Medical History\n",
      "I i\n",
      "Chicken Pox (Varicella): Measies:\n",
      "IMMUNE\n",
      "\n",
      "IMMUNE\n",
      "Have you had the Hepatitis B vaccination?\n",
      "\n",
      "No\n",
      "\n",
      "List any Medical Problems (asthma, seizures, headaches}:\n",
      "\n",
      "Migraine\n",
      "\n"
     ]
    }
   ],
   "source": [
    "print(text)"
   ]
  },
  {
   "cell_type": "code",
   "execution_count": 45,
   "id": "6e18729c",
   "metadata": {},
   "outputs": [],
   "source": [
    "import re"
   ]
  },
  {
   "cell_type": "markdown",
   "id": "7424a4a3",
   "metadata": {},
   "source": [
    "<h2> Extract name </h2>"
   ]
  },
  {
   "cell_type": "code",
   "execution_count": 46,
   "id": "dac53aec",
   "metadata": {},
   "outputs": [
    {
     "data": {
      "text/plain": [
       "'Birth Date\\n\\nKathy Crawford May 6 1972'"
      ]
     },
     "execution_count": 46,
     "metadata": {},
     "output_type": "execute_result"
    }
   ],
   "source": [
    "pattern ='Patient Information(.*?)\\(\\d{3}\\)'\n",
    "matches = re.findall(pattern , text, flags = re.DOTALL)\n",
    "matches[0].strip()"
   ]
  },
  {
   "cell_type": "code",
   "execution_count": 47,
   "id": "e3f8dc29",
   "metadata": {},
   "outputs": [
    {
     "data": {
      "text/plain": [
       "'Birth Date\\n\\nKathy Crawford May 6 1972'"
      ]
     },
     "execution_count": 47,
     "metadata": {},
     "output_type": "execute_result"
    }
   ],
   "source": [
    "matches[0].strip()"
   ]
  },
  {
   "cell_type": "markdown",
   "id": "84f811a1",
   "metadata": {},
   "source": [
    "<h2> Extract phone number </h2>"
   ]
  },
  {
   "cell_type": "code",
   "execution_count": 48,
   "id": "b6e79886",
   "metadata": {},
   "outputs": [
    {
     "data": {
      "text/plain": [
       "'(737) 988-0851'"
      ]
     },
     "execution_count": 48,
     "metadata": {},
     "output_type": "execute_result"
    }
   ],
   "source": [
    "pattern = 'Patient Information .*?(\\(\\d{3}\\) \\d{3}-\\d{4})'\n",
    "matches = re.findall(pattern , text, flags = re.DOTALL)\n",
    "matches[0].strip()"
   ]
  },
  {
   "cell_type": "markdown",
   "id": "e74ef263",
   "metadata": {},
   "source": [
    "<h2> Extract vaccine </h2>"
   ]
  },
  {
   "cell_type": "code",
   "execution_count": null,
   "id": "421d2976",
   "metadata": {},
   "outputs": [],
   "source": []
  },
  {
   "cell_type": "markdown",
   "id": "4d3d8873",
   "metadata": {},
   "source": [
    "<h2> Extract medical problems </h2>"
   ]
  },
  {
   "cell_type": "code",
   "execution_count": null,
   "id": "255e224f",
   "metadata": {},
   "outputs": [],
   "source": []
  }
 ],
 "metadata": {
  "kernelspec": {
   "display_name": "Python 3 (ipykernel)",
   "language": "python",
   "name": "python3"
  },
  "language_info": {
   "codemirror_mode": {
    "name": "ipython",
    "version": 3
   },
   "file_extension": ".py",
   "mimetype": "text/x-python",
   "name": "python",
   "nbconvert_exporter": "python",
   "pygments_lexer": "ipython3",
   "version": "3.9.7"
  }
 },
 "nbformat": 4,
 "nbformat_minor": 5
}
