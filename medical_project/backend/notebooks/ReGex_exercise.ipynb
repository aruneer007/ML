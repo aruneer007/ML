{
 "cells": [
  {
   "cell_type": "code",
   "execution_count": 3,
   "id": "ad577170",
   "metadata": {},
   "outputs": [],
   "source": [
    "text = \"\"\"Follow our leader Elon musk on Twitter \n",
    "here: https://twitter.com/elonmusk, more information \n",
    "on Tesla's products can be found at https://www.tesla.com/. \n",
    "Also here are leading influencers for tesla-related news, \n",
    "https://twitter.com/teslarati\n",
    "https://twitter.com/dummy_tesla\n",
    "https://twitter.com/dummy_2_tesla\"\"\"\n"
   ]
  },
  {
   "cell_type": "code",
   "execution_count": 4,
   "id": "31b7fea3",
   "metadata": {},
   "outputs": [
    {
     "name": "stdout",
     "output_type": "stream",
     "text": [
      "Follow our leader Elon musk on Twitter \n",
      "here: https://twitter.com/elonmusk, more information \n",
      "on Tesla's products can be found at https://www.tesla.com/. \n",
      "Also here are leading influencers for tesla-related news, \n",
      "https://twitter.com/teslarati\n",
      "https://twitter.com/dummy_tesla\n",
      "https://twitter.com/dummy_2_tesla\n"
     ]
    }
   ],
   "source": [
    "print(text)"
   ]
  },
  {
   "cell_type": "code",
   "execution_count": 5,
   "id": "713d3775",
   "metadata": {},
   "outputs": [],
   "source": [
    "import re"
   ]
  },
  {
   "cell_type": "code",
   "execution_count": 6,
   "id": "a01b3a17",
   "metadata": {},
   "outputs": [],
   "source": [
    "pattern = \"https://twitter.com/([^elonmusk][a-zA-Z0-9_]+)\""
   ]
  },
  {
   "cell_type": "code",
   "execution_count": 7,
   "id": "58a9c64e",
   "metadata": {},
   "outputs": [],
   "source": [
    "Twitter_handle = re.findall(pattern, text, flags = re.DOTALL)"
   ]
  },
  {
   "cell_type": "code",
   "execution_count": 10,
   "id": "c26f569a",
   "metadata": {},
   "outputs": [
    {
     "name": "stdout",
     "output_type": "stream",
     "text": [
      "['teslarati', 'dummy_tesla', 'dummy_2_tesla']\n"
     ]
    }
   ],
   "source": [
    "print(Twitter_handle)"
   ]
  },
  {
   "cell_type": "code",
   "execution_count": null,
   "id": "9b5951c2",
   "metadata": {},
   "outputs": [],
   "source": []
  }
 ],
 "metadata": {
  "kernelspec": {
   "display_name": "Python 3 (ipykernel)",
   "language": "python",
   "name": "python3"
  },
  "language_info": {
   "codemirror_mode": {
    "name": "ipython",
    "version": 3
   },
   "file_extension": ".py",
   "mimetype": "text/x-python",
   "name": "python",
   "nbconvert_exporter": "python",
   "pygments_lexer": "ipython3",
   "version": "3.9.7"
  }
 },
 "nbformat": 4,
 "nbformat_minor": 5
}
