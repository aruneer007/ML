{
 "cells": [
  {
   "cell_type": "code",
   "execution_count": 2,
   "id": "e0395897",
   "metadata": {},
   "outputs": [
    {
     "name": "stdout",
     "output_type": "stream",
     "text": [
      "20 4 12\n"
     ]
    }
   ],
   "source": [
    "def foo(a, b=4, c=6):\n",
    "    print(a,b,c)\n",
    "foo(20, c=12)"
   ]
  },
  {
   "cell_type": "code",
   "execution_count": 3,
   "id": "6a9c6a5c",
   "metadata": {},
   "outputs": [
    {
     "name": "stdout",
     "output_type": "stream",
     "text": [
      "4 (7, 3, 0) {'x': 10, 'y': 64}\n"
     ]
    }
   ],
   "source": [
    "def all_aboard(a, *args, **kw): \n",
    "    print(a, args, kw)\n",
    " \n",
    "all_aboard(4, 7, 3, 0, x=10, y=64)"
   ]
  },
  {
   "cell_type": "code",
   "execution_count": 5,
   "id": "c6865852",
   "metadata": {},
   "outputs": [
    {
     "name": "stdout",
     "output_type": "stream",
     "text": [
      "B\n"
     ]
    }
   ],
   "source": [
    "score = 67\n",
    "if score < 80 and score > 70:\n",
    "    print(\"A\")\n",
    "elif score < 90 or score > 80:\n",
    "    print(\"B\")\n",
    "elif score > 60:\n",
    "    print(\"C\")\n",
    "else:\n",
    "    print(\"D\")"
   ]
  },
  {
   "cell_type": "code",
   "execution_count": 6,
   "id": "23331526",
   "metadata": {},
   "outputs": [
    {
     "name": "stdout",
     "output_type": "stream",
     "text": [
      "the time is5hours\n"
     ]
    }
   ],
   "source": [
    "a = \"5\"\n",
    "print(\"the time is\" + a + \"hours\")"
   ]
  },
  {
   "cell_type": "code",
   "execution_count": null,
   "id": "596651e8",
   "metadata": {},
   "outputs": [],
   "source": []
  }
 ],
 "metadata": {
  "kernelspec": {
   "display_name": "Python 3 (ipykernel)",
   "language": "python",
   "name": "python3"
  },
  "language_info": {
   "codemirror_mode": {
    "name": "ipython",
    "version": 3
   },
   "file_extension": ".py",
   "mimetype": "text/x-python",
   "name": "python",
   "nbconvert_exporter": "python",
   "pygments_lexer": "ipython3",
   "version": "3.9.7"
  }
 },
 "nbformat": 4,
 "nbformat_minor": 5
}
