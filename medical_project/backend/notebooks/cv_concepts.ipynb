{
 "cells": [
  {
   "cell_type": "code",
   "execution_count": 2,
   "id": "2e52990f",
   "metadata": {},
   "outputs": [],
   "source": [
    "import cv2\n",
    "from PIL import Image"
   ]
  },
  {
   "cell_type": "code",
   "execution_count": 3,
   "id": "38ec9e98",
   "metadata": {},
   "outputs": [
    {
     "data": {
      "text/plain": [
       "array([[206, 206, 206, ..., 185, 185, 185],\n",
       "       [206, 206, 206, ..., 185, 185, 185],\n",
       "       [206, 206, 206, ..., 186, 185, 185],\n",
       "       ...,\n",
       "       [207, 207, 207, ..., 191, 190, 190],\n",
       "       [207, 207, 207, ..., 191, 190, 190],\n",
       "       [207, 207, 207, ..., 191, 191, 190]], dtype=uint8)"
      ]
     },
     "execution_count": 3,
     "metadata": {},
     "output_type": "execute_result"
    }
   ],
   "source": [
    "img = cv2.imread(\"clear_image.jpg\", flags = cv2.IMREAD_GRAYSCALE)\n",
    "img\n"
   ]
  },
  {
   "cell_type": "code",
   "execution_count": 4,
   "id": "00ed3226",
   "metadata": {},
   "outputs": [
    {
     "data": {
      "text/plain": [
       "(150.0,\n",
       " array([[255, 255, 255, ..., 255, 255, 255],\n",
       "        [255, 255, 255, ..., 255, 255, 255],\n",
       "        [255, 255, 255, ..., 255, 255, 255],\n",
       "        ...,\n",
       "        [255, 255, 255, ..., 255, 255, 255],\n",
       "        [255, 255, 255, ..., 255, 255, 255],\n",
       "        [255, 255, 255, ..., 255, 255, 255]], dtype=uint8))"
      ]
     },
     "execution_count": 4,
     "metadata": {},
     "output_type": "execute_result"
    }
   ],
   "source": [
    "cv2.threshold(img, 150, 255, cv2.THRESH_BINARY)"
   ]
  },
  {
   "cell_type": "code",
   "execution_count": 7,
   "id": "a8c2e0cc",
   "metadata": {},
   "outputs": [],
   "source": [
    "_, new_image = cv2.threshold(img, 150, 255, cv2.THRESH_BINARY)"
   ]
  },
  {
   "cell_type": "code",
   "execution_count": 9,
   "id": "e40ab25c",
   "metadata": {},
   "outputs": [],
   "source": [
    "Image.fromarray(new_image).show()"
   ]
  },
  {
   "cell_type": "code",
   "execution_count": 10,
   "id": "6e0dceee",
   "metadata": {},
   "outputs": [],
   "source": [
    "img2 = cv2.imread(\"dark_image.jpg\", flags = cv2.IMREAD_GRAYSCALE)"
   ]
  },
  {
   "cell_type": "code",
   "execution_count": 11,
   "id": "5370a676",
   "metadata": {},
   "outputs": [],
   "source": [
    "_, new_img = cv2.threshold(img2, 150, 255, cv2.THRESH_BINARY)"
   ]
  },
  {
   "cell_type": "code",
   "execution_count": 12,
   "id": "99eb1e88",
   "metadata": {},
   "outputs": [],
   "source": [
    "Image.fromarray(new_img).show()"
   ]
  },
  {
   "cell_type": "code",
   "execution_count": 17,
   "id": "e730426d",
   "metadata": {},
   "outputs": [],
   "source": [
    "new_img = cv2.adaptiveThreshold(\n",
    "    img2,\n",
    "    255,\n",
    "    cv2.ADAPTIVE_THRESH_GAUSSIAN_C,\n",
    "    cv2.THRESH_BINARY,\n",
    "    65,\n",
    "    11\n",
    ")"
   ]
  },
  {
   "cell_type": "code",
   "execution_count": 18,
   "id": "75f3a88d",
   "metadata": {},
   "outputs": [],
   "source": [
    "Image.fromarray(new_img).show()"
   ]
  },
  {
   "cell_type": "code",
   "execution_count": null,
   "id": "7d8e4776",
   "metadata": {},
   "outputs": [],
   "source": []
  }
 ],
 "metadata": {
  "kernelspec": {
   "display_name": "Python 3 (ipykernel)",
   "language": "python",
   "name": "python3"
  },
  "language_info": {
   "codemirror_mode": {
    "name": "ipython",
    "version": 3
   },
   "file_extension": ".py",
   "mimetype": "text/x-python",
   "name": "python",
   "nbconvert_exporter": "python",
   "pygments_lexer": "ipython3",
   "version": "3.9.7"
  }
 },
 "nbformat": 4,
 "nbformat_minor": 5
}
