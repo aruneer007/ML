{
 "cells": [
  {
   "cell_type": "markdown",
   "id": "5a66b7d8",
   "metadata": {},
   "source": [
    "# Botanical research - Plant seedlings classification"
   ]
  },
  {
   "cell_type": "markdown",
   "id": "301682ea",
   "metadata": {},
   "source": [
    "### Importing and understanding the data"
   ]
  },
  {
   "cell_type": "code",
   "execution_count": 1,
   "id": "de0ea3b6",
   "metadata": {},
   "outputs": [],
   "source": [
    "from zipfile import ZipFile\n",
    "import cv2\n",
    "from glob import glob\n",
    "import numpy as np\n",
    "from matplotlib import pyplot as plt\n",
    "import math\n",
    "import pandas as pd"
   ]
  },
  {
   "cell_type": "code",
   "execution_count": 2,
   "id": "b7f53cb9",
   "metadata": {},
   "outputs": [],
   "source": [
    "images = 'plant-seedlings-classification.zip'"
   ]
  },
  {
   "cell_type": "code",
   "execution_count": 3,
   "id": "a566ebf1",
   "metadata": {},
   "outputs": [],
   "source": [
    "with ZipFile(images,'r') as zip:\n",
    "    zip.extractall()"
   ]
  },
  {
   "cell_type": "code",
   "execution_count": 4,
   "id": "e04e2d3b",
   "metadata": {},
   "outputs": [],
   "source": [
    "path = 'C:/Users/arunv/Downloads/plant-seedlings-classification/train/*/*.png'"
   ]
  },
  {
   "cell_type": "code",
   "execution_count": null,
   "id": "f6f68e20",
   "metadata": {},
   "outputs": [],
   "source": [
    "files = glob(path)"
   ]
  },
  {
   "cell_type": "code",
   "execution_count": null,
   "id": "2e4b2e27",
   "metadata": {},
   "outputs": [],
   "source": [
    "files"
   ]
  },
  {
   "cell_type": "code",
   "execution_count": null,
   "id": "998db8d8",
   "metadata": {},
   "outputs": [],
   "source": [
    "image = []\n",
    "names = []\n",
    "j = 1\n",
    "for img in files:\n",
    "    src = cv2.imread(img)\n",
    "    images = cv2.cvtColor(src,cv2.COLOR_BGR2RGB)\n",
    "    images = cv2.resize(images,(70,70))\n",
    "    image.append(images)\n",
    "    names.append(img.split('\\\\')[-2])\n",
    "    j += 1"
   ]
  },
  {
   "cell_type": "code",
   "execution_count": null,
   "id": "e97b149e",
   "metadata": {},
   "outputs": [],
   "source": []
  },
  {
   "cell_type": "code",
   "execution_count": null,
   "id": "2c0cdec0",
   "metadata": {},
   "outputs": [],
   "source": [
    "df = pd.DataFrame(data=names, columns = [\"Names\"])"
   ]
  },
  {
   "cell_type": "code",
   "execution_count": null,
   "id": "6d75a403",
   "metadata": {},
   "outputs": [],
   "source": [
    "df"
   ]
  },
  {
   "cell_type": "code",
   "execution_count": null,
   "id": "6d6abc8b",
   "metadata": {},
   "outputs": [],
   "source": [
    "class_names = df['Names'].unique()"
   ]
  },
  {
   "cell_type": "code",
   "execution_count": null,
   "id": "02a4cda2",
   "metadata": {},
   "outputs": [],
   "source": [
    "class_labels = {class_name:i for i,class_name in enumerate(class_names)}\n",
    "class_labels"
   ]
  },
  {
   "cell_type": "code",
   "execution_count": null,
   "id": "4a1cf0c7",
   "metadata": {},
   "outputs": [],
   "source": [
    "labels = [value for m in df.Names for key, value in class_labels.items() if m == key]"
   ]
  },
  {
   "cell_type": "code",
   "execution_count": null,
   "id": "0663b1de",
   "metadata": {},
   "outputs": [],
   "source": [
    "df['Labels'] = labels"
   ]
  },
  {
   "cell_type": "code",
   "execution_count": null,
   "id": "cb5ecf65",
   "metadata": {},
   "outputs": [],
   "source": [
    "df.head(5)"
   ]
  },
  {
   "cell_type": "code",
   "execution_count": null,
   "id": "ac468315",
   "metadata": {},
   "outputs": [],
   "source": [
    "image = np.array(image)"
   ]
  },
  {
   "cell_type": "code",
   "execution_count": null,
   "id": "117aa901",
   "metadata": {},
   "outputs": [],
   "source": [
    "image.shape"
   ]
  },
  {
   "cell_type": "code",
   "execution_count": null,
   "id": "b1995cb6",
   "metadata": {},
   "outputs": [],
   "source": [
    "type(image)"
   ]
  },
  {
   "cell_type": "code",
   "execution_count": null,
   "id": "b1be85c4",
   "metadata": {},
   "outputs": [],
   "source": [
    "df['image'] = [image[i] for i in range(image.shape[0])]"
   ]
  },
  {
   "cell_type": "code",
   "execution_count": null,
   "id": "d8a0c976",
   "metadata": {},
   "outputs": [],
   "source": [
    "df['image'].shape"
   ]
  },
  {
   "cell_type": "code",
   "execution_count": null,
   "id": "32e78856",
   "metadata": {},
   "outputs": [],
   "source": [
    "df.head(5)"
   ]
  },
  {
   "cell_type": "code",
   "execution_count": null,
   "id": "ad0e7d46",
   "metadata": {},
   "outputs": [],
   "source": [
    "import random\n",
    "n = 1\n",
    "plt.figure(figsize=(20, 20))\n",
    "num = int(input())\n",
    "for i in random.sample(range(0, image.shape[0]), num):\n",
    "    plt.subplot(num//5 ,5 ,n)\n",
    "    plt.imshow(image[i])\n",
    "    n = n+1\n",
    "plt.show()\n"
   ]
  },
  {
   "cell_type": "markdown",
   "id": "828f6cca",
   "metadata": {},
   "source": [
    "### Data Preprocessing"
   ]
  },
  {
   "cell_type": "code",
   "execution_count": null,
   "id": "629d37a3",
   "metadata": {},
   "outputs": [],
   "source": []
  },
  {
   "cell_type": "code",
   "execution_count": null,
   "id": "d3b90f02",
   "metadata": {},
   "outputs": [],
   "source": [
    "X = df.image.tolist()"
   ]
  },
  {
   "cell_type": "code",
   "execution_count": null,
   "id": "770322b8",
   "metadata": {},
   "outputs": [],
   "source": [
    "X = np.array(X)"
   ]
  },
  {
   "cell_type": "code",
   "execution_count": null,
   "id": "52cd72ad",
   "metadata": {},
   "outputs": [],
   "source": [
    "X.shape"
   ]
  },
  {
   "cell_type": "code",
   "execution_count": null,
   "id": "386d49eb",
   "metadata": {},
   "outputs": [],
   "source": [
    "y = df['Labels']"
   ]
  },
  {
   "cell_type": "code",
   "execution_count": null,
   "id": "7b70a00c",
   "metadata": {},
   "outputs": [],
   "source": [
    "y.shape"
   ]
  },
  {
   "cell_type": "code",
   "execution_count": null,
   "id": "e3b3fdd3",
   "metadata": {},
   "outputs": [],
   "source": [
    "from keras.utils import to_categorical"
   ]
  },
  {
   "cell_type": "code",
   "execution_count": null,
   "id": "3a96d2ec",
   "metadata": {},
   "outputs": [],
   "source": [
    "y = to_categorical(y)"
   ]
  },
  {
   "cell_type": "code",
   "execution_count": null,
   "id": "e41b7634",
   "metadata": {},
   "outputs": [],
   "source": [
    "y.shape"
   ]
  },
  {
   "cell_type": "code",
   "execution_count": null,
   "id": "04cf3b72",
   "metadata": {},
   "outputs": [],
   "source": [
    "X = X/255"
   ]
  },
  {
   "cell_type": "code",
   "execution_count": null,
   "id": "206a6393",
   "metadata": {},
   "outputs": [],
   "source": [
    "X.shape"
   ]
  },
  {
   "cell_type": "markdown",
   "id": "3ad10279",
   "metadata": {},
   "source": [
    "### Model Training"
   ]
  },
  {
   "cell_type": "code",
   "execution_count": null,
   "id": "e8406fa3",
   "metadata": {},
   "outputs": [],
   "source": [
    "from sklearn.model_selection import train_test_split"
   ]
  },
  {
   "cell_type": "code",
   "execution_count": null,
   "id": "69d9facc",
   "metadata": {},
   "outputs": [],
   "source": [
    "X_train, X_test, y_train, y_test = train_test_split(X,y, test_size=0.2 ,random_state= 42)"
   ]
  },
  {
   "cell_type": "code",
   "execution_count": null,
   "id": "1d29c628",
   "metadata": {},
   "outputs": [],
   "source": [
    "print(f'Shape of X_train: {X_train.shape}')\n",
    "print(f'Shape of y_train: {y_train.shape}')\n",
    "print(f'Shape of X_test: {X_test.shape}')\n",
    "print(f'Shape of y_test: {y_test.shape}')"
   ]
  },
  {
   "cell_type": "code",
   "execution_count": null,
   "id": "54090f41",
   "metadata": {},
   "outputs": [],
   "source": [
    "num_classes = y_train.shape[1]"
   ]
  },
  {
   "cell_type": "code",
   "execution_count": null,
   "id": "57497262",
   "metadata": {},
   "outputs": [],
   "source": [
    "from tensorflow import keras\n",
    "from tensorflow.keras import optimizers\n",
    "import tensorflow as tf\n",
    "from tensorflow.keras.models import Sequential\n",
    "from tensorflow.keras.layers import Dense\n",
    "from tensorflow.keras.layers import Dropout\n",
    "from tensorflow.keras.layers import Flatten\n",
    "from tensorflow.keras.layers import Conv2D\n",
    "from tensorflow.keras.layers import MaxPooling2D\n",
    "from tensorflow.keras.layers import BatchNormalization"
   ]
  },
  {
   "cell_type": "code",
   "execution_count": null,
   "id": "afaf5d9f",
   "metadata": {},
   "outputs": [],
   "source": [
    "# CNN architecture\n",
    "\n",
    "model = Sequential()\n",
    "\n",
    "\n",
    "model.add(Conv2D(filters=32, kernel_size=3, activation=\"relu\", input_shape=(70, 70, 3)))\n",
    "\n",
    " \n",
    "model.add(Conv2D(filters=64, kernel_size=3, activation=\"relu\"))\n",
    "\n",
    "\n",
    "model.add(MaxPooling2D(pool_size=(2, 2)))\n",
    "\n",
    "\n",
    "model.add(Dropout(rate=0.2))\n",
    "\n",
    "\n",
    "model.add(Flatten())\n",
    "\n",
    "model.add(Dense(128, activation=\"relu\"))\n",
    "\n",
    "model.add(Dense(12, activation=\"softmax\"))"
   ]
  },
  {
   "cell_type": "code",
   "execution_count": null,
   "id": "6c7fef5d",
   "metadata": {},
   "outputs": [],
   "source": [
    "model.summary()"
   ]
  },
  {
   "cell_type": "code",
   "execution_count": null,
   "id": "4b88b8f4",
   "metadata": {},
   "outputs": [],
   "source": [
    "model.compile(loss='categorical_crossentropy', optimizer=tf.optimizers.Adam(learning_rate=0.001),metrics=['accuracy'])"
   ]
  },
  {
   "cell_type": "code",
   "execution_count": null,
   "id": "fdf01f95",
   "metadata": {},
   "outputs": [],
   "source": [
    "datagen = tf.keras.preprocessing.image.ImageDataGenerator(rotation_range=50,  \n",
    "                                                          width_shift_range=0.1,  \n",
    "                                                          height_shift_range=0.1,  \n",
    "                                                          horizontal_flip=True, \n",
    "                                                          shear_range=0.2,\n",
    "                                                          zoom_range=0.2,  \n",
    "                                                          fill_mode=\"nearest\")  \n",
    "datagen.fit(X_train)"
   ]
  },
  {
   "cell_type": "code",
   "execution_count": null,
   "id": "bb4ed663",
   "metadata": {},
   "outputs": [],
   "source": [
    "hist = model.fit(datagen.flow(X_train, y_train, batch_size=20), epochs=50, validation_data=(X_test, y_test))"
   ]
  },
  {
   "cell_type": "code",
   "execution_count": null,
   "id": "4de0fedd",
   "metadata": {},
   "outputs": [],
   "source": [
    "model.evaluate(X_test, y_test)"
   ]
  },
  {
   "cell_type": "code",
   "execution_count": null,
   "id": "03f84c69",
   "metadata": {},
   "outputs": [],
   "source": [
    "y_pred = model.predict(X_test)"
   ]
  },
  {
   "cell_type": "code",
   "execution_count": null,
   "id": "3cc6cbec",
   "metadata": {},
   "outputs": [],
   "source": [
    "y_pred=[np.argmax(i) for i in y_pred ]\n",
    "y_test = [np.argmax(i) for i in y_test]"
   ]
  },
  {
   "cell_type": "code",
   "execution_count": null,
   "id": "68f6e134",
   "metadata": {},
   "outputs": [],
   "source": [
    "y_test[1]"
   ]
  },
  {
   "cell_type": "code",
   "execution_count": null,
   "id": "47bb8e6b",
   "metadata": {},
   "outputs": [],
   "source": [
    "n = 1\n",
    "a = []\n",
    "b = []\n",
    "plt.figure(figsize=(20, 20))\n",
    "num = int(input())\n",
    "for i in random.sample(range(0, X_test.shape[0]), num):\n",
    "    plt.subplot(num//5 ,5 ,n)\n",
    "    plt.imshow(X_test[i])\n",
    "    a.append(y_test[i])\n",
    "    b.append(y_pred[i])\n",
    "    n = n+1\n",
    "    \n",
    "plt.show()\n",
    "print(f'The corresponding labels are: {a}')\n",
    "print(f'The predicted labels are: {b}')"
   ]
  },
  {
   "cell_type": "code",
   "execution_count": null,
   "id": "49d4728c",
   "metadata": {},
   "outputs": [],
   "source": [
    "plt.figure(figsize=[8,6])\n",
    "plt.plot(hist.history['accuracy'],'y',linewidth=3.0)\n",
    "plt.plot(hist.history['val_accuracy'],'g',linewidth=3.0)\n",
    "plt.legend(['Training accuracy', 'Validation accuracy'],fontsize=18)\n",
    "plt.xlabel('Epochs ',fontsize=16)\n",
    "plt.ylabel('Accuracy',fontsize=16)\n",
    "plt.title('Accuracy curves',fontsize=16)"
   ]
  },
  {
   "cell_type": "markdown",
   "id": "c5fe81a0",
   "metadata": {},
   "source": [
    "# Project2"
   ]
  },
  {
   "cell_type": "markdown",
   "id": "8e8ce603",
   "metadata": {},
   "source": [
    "## Importing and understanding the data"
   ]
  },
  {
   "cell_type": "code",
   "execution_count": null,
   "id": "aa08d9ff",
   "metadata": {},
   "outputs": [],
   "source": [
    "from tflearn.datasets import oxflower17\n",
    "import warnings\n",
    "warnings.filterwarnings(\"ignore\")\n",
    "import numpy as np\n",
    "import pandas as pd\n",
    "from matplotlib import pyplot as plt"
   ]
  },
  {
   "cell_type": "code",
   "execution_count": null,
   "id": "28704945",
   "metadata": {},
   "outputs": [],
   "source": [
    "X,y = oxflower17.load_data()"
   ]
  },
  {
   "cell_type": "code",
   "execution_count": null,
   "id": "ccd1fa8a",
   "metadata": {},
   "outputs": [],
   "source": [
    "print(f'Number of images is :{X.shape[0]}')\n",
    "print(f'Shape of images is: {X[0].shape}')"
   ]
  },
  {
   "cell_type": "code",
   "execution_count": null,
   "id": "bdf05d7c",
   "metadata": {},
   "outputs": [],
   "source": [
    "pd.Series(y).value_counts(ascending = True)"
   ]
  },
  {
   "cell_type": "markdown",
   "id": "b0bfb38d",
   "metadata": {},
   "source": [
    "## Image exploration and transformation"
   ]
  },
  {
   "cell_type": "code",
   "execution_count": null,
   "id": "dd53d5de",
   "metadata": {},
   "outputs": [],
   "source": [
    "import random\n",
    "n = 1\n",
    "b=[]\n",
    "plt.figure(figsize=(20, 20))\n",
    "for i in random.sample(range(0, 1360), 5):\n",
    "    plt.subplot(1 ,5 ,n)\n",
    "    plt.imshow(X[i])\n",
    "    n = n+1\n",
    "    plt.axis('off')\n",
    "    b.append(y[i])\n",
    "plt.show()\n",
    "print(f'Labels of each images are:{b}')"
   ]
  },
  {
   "cell_type": "code",
   "execution_count": null,
   "id": "96006713",
   "metadata": {},
   "outputs": [],
   "source": [
    "img = X[20]"
   ]
  },
  {
   "cell_type": "code",
   "execution_count": null,
   "id": "81c6180f",
   "metadata": {},
   "outputs": [],
   "source": [
    "plt.imshow(img[:,:,0], cmap='gray')\n",
    "plt.show"
   ]
  },
  {
   "cell_type": "code",
   "execution_count": null,
   "id": "d5ba5895",
   "metadata": {},
   "outputs": [],
   "source": [
    "from scipy.signal import convolve2d\n",
    "\n",
    "kernel = np.array([[0, -1, 0],\n",
    "                   [-1, 5,-1],\n",
    "                   [0, -1, 0]])\n",
    "\n",
    "sharpen = convolve2d(img[:,:,1], kernel, mode = 'valid')\n",
    "plt.figure(figsize=(20, 20))\n",
    "plt.subplot(1, 5, 1)\n",
    "plt.imshow(sharpen,cmap='gray')\n",
    "plt.subplot(1, 5, 2)\n",
    "plt.imshow(img[:,:,1],cmap = 'gray')\n",
    "plt.show"
   ]
  },
  {
   "cell_type": "code",
   "execution_count": null,
   "id": "771db35a",
   "metadata": {},
   "outputs": [],
   "source": [
    "kernel = np.array([[1/20, 1/20, 1/20],\n",
    "                   [1/20, 1/20, 1/20],\n",
    "                   [1/20, 1/20, 1/20]])\n",
    "\n",
    "blurred = convolve2d(img[:,:,0], kernel, mode = 'valid')\n",
    "plt.figure(figsize=(20, 20))\n",
    "plt.subplot(1, 5, 1)\n",
    "plt.imshow(blurred,cmap='gray')\n",
    "plt.show\n",
    "plt.subplot(1, 5, 2)\n",
    "plt.imshow(img[:,:,0],cmap = 'gray')\n",
    "plt.show"
   ]
  },
  {
   "cell_type": "code",
   "execution_count": null,
   "id": "ac32ac06",
   "metadata": {},
   "outputs": [],
   "source": [
    "plt.figure(figsize=(20, 20))\n",
    "\n",
    "plt.subplot(4, 1, 1)\n",
    "plt.imshow(sharpen,cmap='gray')\n",
    "plt.axis('off')\n",
    "plt.subplot(4, 1, 2)\n",
    "plt.imshow(img[:,:,1],cmap = 'gray')\n",
    "plt.axis('off')\n",
    "plt.subplot(4, 1, 3)\n",
    "plt.imshow(blurred,cmap='gray')\n",
    "plt.axis('off')\n",
    "plt.subplot(4, 1, 4)\n",
    "plt.imshow(img[:,:,0],cmap = 'gray')\n",
    "plt.axis('off')\n",
    "plt.show"
   ]
  },
  {
   "cell_type": "markdown",
   "id": "76e2f048",
   "metadata": {},
   "source": [
    "## Model training and tuning"
   ]
  },
  {
   "cell_type": "code",
   "execution_count": null,
   "id": "e97e4aa9",
   "metadata": {},
   "outputs": [],
   "source": [
    "from sklearn.model_selection import train_test_split\n",
    "X_train, X_test, y_train, y_test = train_test_split(X, y, test_size=0.20, random_state=42)"
   ]
  },
  {
   "cell_type": "code",
   "execution_count": null,
   "id": "f9577773",
   "metadata": {},
   "outputs": [],
   "source": [
    "from tensorflow.keras.utils import to_categorical\n",
    "\n",
    "y_train1 = to_categorical(y_train)\n",
    "y_test1 = to_categorical(y_test)"
   ]
  },
  {
   "cell_type": "code",
   "execution_count": null,
   "id": "d1c43ef8",
   "metadata": {},
   "outputs": [],
   "source": [
    "print(f'Shape of X_train: {X_train.shape}')\n",
    "print(f'Shape of y_train: {y_train1.shape}')\n",
    "print(f'Shape of X_test: {X_test.shape}')\n",
    "print(f'Shape of y_test: {y_test1.shape}')"
   ]
  },
  {
   "cell_type": "code",
   "execution_count": null,
   "id": "e78d512d",
   "metadata": {},
   "outputs": [],
   "source": [
    "import cv2\n",
    "def resize(array):\n",
    "    list1 = []\n",
    "    for i in range(array.shape[0]):\n",
    "        images = cv2.resize(array[i],(70,70))\n",
    "        list1.append(images)\n",
    "    array1 = np.array(list1)\n",
    "    return array1"
   ]
  },
  {
   "cell_type": "code",
   "execution_count": null,
   "id": "035e7a37",
   "metadata": {},
   "outputs": [],
   "source": [
    "X_train1 = resize(X_train)\n",
    "X_test1 = resize(X_test)"
   ]
  },
  {
   "cell_type": "code",
   "execution_count": null,
   "id": "9724f8ed",
   "metadata": {},
   "outputs": [],
   "source": [
    "print(f'Shape of X_train: {X_train1.shape}')\n",
    "print(f'Shape of y_train: {y_train1.shape}')\n",
    "print(f'Shape of X_test: {X_test1.shape}')\n",
    "print(f'Shape of y_test: {y_test1.shape}')"
   ]
  },
  {
   "cell_type": "code",
   "execution_count": null,
   "id": "4311d028",
   "metadata": {},
   "outputs": [],
   "source": [
    "num_classes = y_train1.shape[-1]\n",
    "num_classes"
   ]
  },
  {
   "cell_type": "code",
   "execution_count": null,
   "id": "00287eb7",
   "metadata": {},
   "outputs": [],
   "source": [
    "def flatten(array):\n",
    "    list1 = []\n",
    "    for i in range(array.shape[0]):\n",
    "        images = cv2.resize(array[i],(70,70))\n",
    "        images = images.flatten()\n",
    "        list1.append(images)\n",
    "    array1 = np.array(list1)\n",
    "    return array1   "
   ]
  },
  {
   "cell_type": "code",
   "execution_count": null,
   "id": "72bf1189",
   "metadata": {},
   "outputs": [],
   "source": [
    "X_train_new = flatten(X_train)\n",
    "X_test_new = flatten(X_test)"
   ]
  },
  {
   "cell_type": "code",
   "execution_count": null,
   "id": "2722e859",
   "metadata": {},
   "outputs": [],
   "source": [
    "print(f'Shape of X_train flaatened: {X_train_new.shape}')\n",
    "print(f'Shape of y_train: {y_train.shape}')\n",
    "print(f'Shape of X_test flattened: {X_test_new.shape}')\n",
    "print(f'Shape of y_test: {y_test.shape}')"
   ]
  },
  {
   "cell_type": "markdown",
   "id": "78567dc8",
   "metadata": {},
   "source": [
    "### Supervised Learning Model"
   ]
  },
  {
   "cell_type": "code",
   "execution_count": null,
   "id": "86318ede",
   "metadata": {},
   "outputs": [],
   "source": [
    "from sklearn.svm import SVC\n",
    "SVM = SVC(C=0.8,kernel='poly')\n",
    "SVM.fit(X_train_new, y_train)\n",
    "y_pred_svm = SVM.predict(X_test_new)\n",
    "SVM_Accuracy=SVM.score(X_test_new, y_test)\n",
    "print(\"\\nAccuracy using SVM : \", SVM_Accuracy*100)"
   ]
  },
  {
   "cell_type": "markdown",
   "id": "41d907f7",
   "metadata": {},
   "source": [
    "### Neural Network architecture"
   ]
  },
  {
   "cell_type": "code",
   "execution_count": null,
   "id": "4f5288c5",
   "metadata": {},
   "outputs": [],
   "source": [
    "import tensorflow as tf\n",
    "from tensorflow import keras\n",
    "from tensorflow.keras import optimizers\n",
    "from tensorflow.keras.models import Sequential\n",
    "from tensorflow.keras import layers\n",
    "from tensorflow.keras.layers import Dense, Flatten, InputLayer, Input"
   ]
  },
  {
   "cell_type": "code",
   "execution_count": null,
   "id": "3b89a6f0",
   "metadata": {},
   "outputs": [],
   "source": [
    "model = Sequential()  \n",
    "model.add(Flatten(input_shape=(70,70,3)))\n",
    "model.add(Dense(256, activation='relu'))\n",
    "model.add(Dense(64, activation='relu'))\n",
    "model.add(Dense(64, activation='relu'))\n",
    "model.add(Dense(32, activation='relu'))\n",
    "model.add(Dense(num_classes, activation='softmax'))\n",
    "model.summary()"
   ]
  },
  {
   "cell_type": "code",
   "execution_count": null,
   "id": "395a03f0",
   "metadata": {},
   "outputs": [],
   "source": [
    "model.compile(loss='categorical_crossentropy', optimizer=tf.optimizers.Adam(learning_rate=0.001),metrics=['accuracy'])"
   ]
  },
  {
   "cell_type": "code",
   "execution_count": null,
   "id": "4c15cec7",
   "metadata": {},
   "outputs": [],
   "source": [
    "datagen = tf.keras.preprocessing.image.ImageDataGenerator(rotation_range=50,  \n",
    "                                                          width_shift_range=0.1,  \n",
    "                                                          height_shift_range=0.1,  \n",
    "                                                          horizontal_flip=True, \n",
    "                                                          shear_range=0.2,\n",
    "                                                          zoom_range=0.2,  \n",
    "                                                          fill_mode=\"nearest\")  \n",
    "datagen.fit(X_train1)"
   ]
  },
  {
   "cell_type": "code",
   "execution_count": null,
   "id": "e84c228c",
   "metadata": {},
   "outputs": [],
   "source": [
    "hist = model.fit(datagen.flow(X_train1, y_train1, batch_size=20), epochs=50, validation_data=(X_test1, y_test1))"
   ]
  },
  {
   "cell_type": "code",
   "execution_count": null,
   "id": "747a4b89",
   "metadata": {},
   "outputs": [],
   "source": [
    "model.evaluate(X_test1, y_test1)"
   ]
  },
  {
   "cell_type": "markdown",
   "id": "2aa3dd9e",
   "metadata": {},
   "source": [
    "### CNN architecture"
   ]
  },
  {
   "cell_type": "code",
   "execution_count": null,
   "id": "08e136d0",
   "metadata": {},
   "outputs": [],
   "source": [
    "model1 = Sequential()\n",
    "\n",
    "\n",
    "model1.add(Conv2D(filters=32, kernel_size=3, activation=\"relu\", input_shape=(70, 70, 3)))\n",
    "\n",
    " \n",
    "model1.add(Conv2D(filters=64, kernel_size=3, activation=\"relu\"))\n",
    "\n",
    "\n",
    "model1.add(MaxPooling2D(pool_size=(2, 2)))\n",
    "\n",
    "\n",
    "model1.add(Dropout(rate=0.2))\n",
    "\n",
    "\n",
    "model1.add(Flatten())\n",
    "\n",
    "model1.add(Dense(128, activation=\"relu\"))\n",
    "\n",
    "model1.add(Dense(num_classes, activation=\"softmax\"))\n",
    "model1.summary()"
   ]
  },
  {
   "cell_type": "code",
   "execution_count": null,
   "id": "ba3da915",
   "metadata": {},
   "outputs": [],
   "source": [
    "model1.compile(loss='categorical_crossentropy', optimizer=tf.optimizers.Adam(learning_rate=0.001),metrics=['accuracy'])"
   ]
  },
  {
   "cell_type": "code",
   "execution_count": null,
   "id": "3873bfd5",
   "metadata": {},
   "outputs": [],
   "source": [
    "hist = model1.fit(datagen.flow(X_train1, y_train1, batch_size=10), epochs=50, validation_data=(X_test1, y_test1))"
   ]
  },
  {
   "cell_type": "code",
   "execution_count": null,
   "id": "675c64e9",
   "metadata": {},
   "outputs": [],
   "source": [
    "model1.evaluate(X_test1, y_test1)"
   ]
  },
  {
   "cell_type": "code",
   "execution_count": null,
   "id": "fd34f4f6",
   "metadata": {},
   "outputs": [],
   "source": [
    "y_pred = model1.predict(X_test1)"
   ]
  },
  {
   "cell_type": "code",
   "execution_count": null,
   "id": "9654b59c",
   "metadata": {},
   "outputs": [],
   "source": [
    "y_pred = [np.argmax(i) for i in y_pred]\n",
    "y_test1 = [np.argmax(i) for i in y_test1]"
   ]
  },
  {
   "cell_type": "code",
   "execution_count": null,
   "id": "b5b4ae5a",
   "metadata": {},
   "outputs": [],
   "source": [
    "y_pred[1:10]"
   ]
  },
  {
   "cell_type": "code",
   "execution_count": null,
   "id": "6167bdb8",
   "metadata": {},
   "outputs": [],
   "source": [
    "y_test1[1:10]"
   ]
  },
  {
   "cell_type": "code",
   "execution_count": null,
   "id": "c0f528b1",
   "metadata": {},
   "outputs": [],
   "source": [
    "import skimage.io as io\n",
    "import matplotlib.pyplot as plt\n",
    "import numpy as np\n",
    "\n",
    "img = io.imread('Prediction+-+Flower.jpg')\n",
    "\n",
    "plt.imshow(img)\n",
    "plt.show()"
   ]
  },
  {
   "cell_type": "code",
   "execution_count": null,
   "id": "a158cc40",
   "metadata": {},
   "outputs": [],
   "source": [
    "img.shape"
   ]
  },
  {
   "cell_type": "code",
   "execution_count": null,
   "id": "f406effe",
   "metadata": {},
   "outputs": [],
   "source": [
    "images = cv2.resize(img,(70,70))"
   ]
  },
  {
   "cell_type": "code",
   "execution_count": null,
   "id": "a021d507",
   "metadata": {},
   "outputs": [],
   "source": [
    "np.argmax(model1.predict(images.reshape(1,70,70,3)))"
   ]
  },
  {
   "cell_type": "code",
   "execution_count": null,
   "id": "4c727b63",
   "metadata": {},
   "outputs": [],
   "source": [
    "plt.imshow(X_test[5])"
   ]
  },
  {
   "cell_type": "code",
   "execution_count": null,
   "id": "9fdf52fa",
   "metadata": {},
   "outputs": [],
   "source": [
    "y_test[5]"
   ]
  }
 ],
 "metadata": {
  "kernelspec": {
   "display_name": "Python 3 (ipykernel)",
   "language": "python",
   "name": "python3"
  },
  "language_info": {
   "codemirror_mode": {
    "name": "ipython",
    "version": 3
   },
   "file_extension": ".py",
   "mimetype": "text/x-python",
   "name": "python",
   "nbconvert_exporter": "python",
   "pygments_lexer": "ipython3",
   "version": "3.9.7"
  }
 },
 "nbformat": 4,
 "nbformat_minor": 5
}
